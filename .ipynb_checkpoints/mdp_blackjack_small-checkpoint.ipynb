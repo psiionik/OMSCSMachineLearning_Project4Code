{
 "cells": [
  {
   "cell_type": "code",
   "execution_count": 104,
   "id": "cb9da7e0",
   "metadata": {},
   "outputs": [],
   "source": [
    "import os\n",
    "import warnings\n",
    "from utils.decorators import print_runtime\n",
    "import gymnasium as gym\n",
    "import pygame\n",
    "from algorithms.rl import RL\n",
    "from algorithms.planner import Planner\n",
    "from examples.test_env import TestEnv\n",
    "import pickle\n",
    "from collections import defaultdict\n",
    "import matplotlib.pyplot as plt\n",
    "import numpy as np\n",
    "import seaborn as sns\n",
    "from matplotlib.patches import Patch\n",
    "from tqdm import tqdm\n",
    "import random\n",
    "import sys\n",
    "import itertools\n",
    "from time import perf_counter\n",
    "%matplotlib inline"
   ]
  },
  {
   "cell_type": "code",
   "execution_count": 11,
   "id": "e8ba555d",
   "metadata": {},
   "outputs": [],
   "source": [
    "class Blackjack:\n",
    "    def __init__(self):\n",
    "        self._wrapped_env = gym.make('Blackjack-v1', render_mode=None, natural=True)\n",
    "        # Explanation of convert_state_obs lambda:\n",
    "        # def function(state, done):\n",
    "        #     if done:\n",
    "        #         return -1\n",
    "        #     else:\n",
    "        #         if state[2]:\n",
    "        #             int(f\"{state[0]+6}{(state[1]-2)%10}\")\n",
    "        #         else:\n",
    "        #             int(f\"{state[0]-4}{(state[1]-2)%10}\")\n",
    "        self._convert_state_obs = lambda state, done: (\n",
    "            -1 if done else int(f\"{state[0] + 6}{(state[1] - 2) % 10}\") if state[2] else int(\n",
    "                f\"{state[0] - 4}{(state[1] - 2) % 10}\"))\n",
    "        # Transitions and rewards matrix from: https://github.com/rhalbersma/gym-blackjack-v1\n",
    "        current_dir = os.getcwd()\n",
    "        file_name = 'blackjack-envP.pickle'\n",
    "        f = os.path.join(current_dir, file_name)\n",
    "        try:\n",
    "            self._P = pickle.load(open(f, \"rb\"))\n",
    "        except IOError:\n",
    "            print(\"Pickle load failed.  Check path\", f)\n",
    "        self._n_actions = self._wrapped_env.action_space.n\n",
    "        self._n_states = len(self._P)\n",
    "\n",
    "    @property\n",
    "    def n_actions(self):\n",
    "        return self._n_actions\n",
    "\n",
    "    @n_actions.setter\n",
    "    def n_actions(self, n_actions):\n",
    "        self._n_actions = n_actions\n",
    "\n",
    "    @property\n",
    "    def n_states(self):\n",
    "        return self._n_states\n",
    "\n",
    "    @n_states.setter\n",
    "    def n_states(self, n_states):\n",
    "        self._n_states = n_states\n",
    "\n",
    "    @property\n",
    "    def P(self):\n",
    "        return self._P\n",
    "\n",
    "    @P.setter\n",
    "    def P(self, P):\n",
    "        self._P = P\n",
    "\n",
    "    @property\n",
    "    def wrapped_env(self):\n",
    "        return self._wrapped_env\n",
    "\n",
    "    @wrapped_env.setter\n",
    "    def env(self, env):\n",
    "        self._wrapped_env = env\n",
    "\n",
    "    @property\n",
    "    def convert_state_obs(self):\n",
    "        return self._convert_state_obs\n",
    "\n",
    "    @convert_state_obs.setter\n",
    "    def convert_state_obs(self, convert_state_obs):\n",
    "        self._convert_state_obs = convert_state_obs\n"
   ]
  },
  {
   "cell_type": "code",
   "execution_count": 3,
   "id": "4d79653c",
   "metadata": {},
   "outputs": [],
   "source": [
    "\"\"\"\n",
    "Set up the seed values.\n",
    "\"\"\"\n",
    "seeds = [234, 235, 236, 237]\n",
    "\n",
    "def seed_everything(seed):\n",
    "    random.seed(seed)\n",
    "    np.random.seed(seed)\n",
    "    os.environ['PYTHONHASHSEED'] = str(seed)"
   ]
  },
  {
   "cell_type": "code",
   "execution_count": 144,
   "id": "af14b2bb",
   "metadata": {},
   "outputs": [
    {
     "name": "stdout",
     "output_type": "stream",
     "text": [
      "running -- with Discount Factor:  1.0  Convergence Criterion:  0.1  Iterations:  1000\n",
      "runtime = 0.01 seconds\n",
      "V AVERAGE: 0.07977268966333999\n",
      "running -- with Discount Factor:  1.0  Convergence Criterion:  0.1  Iterations:  10000\n",
      "runtime = 0.01 seconds\n",
      "V AVERAGE: 0.07977268966333999\n",
      "running -- with Discount Factor:  1.0  Convergence Criterion:  0.1  Iterations:  50000\n",
      "runtime = 0.01 seconds\n",
      "V AVERAGE: 0.07977268966333999\n",
      "running -- with Discount Factor:  1.0  Convergence Criterion:  0.1  Iterations:  100000\n",
      "runtime = 0.02 seconds\n",
      "V AVERAGE: 0.07977268966333999\n",
      "running -- with Discount Factor:  1.0  Convergence Criterion:  0.01  Iterations:  1000\n",
      "runtime = 0.01 seconds\n",
      "V AVERAGE: 0.07979391580032925\n",
      "running -- with Discount Factor:  1.0  Convergence Criterion:  0.01  Iterations:  10000\n",
      "runtime = 0.01 seconds\n",
      "V AVERAGE: 0.07979391580032925\n",
      "running -- with Discount Factor:  1.0  Convergence Criterion:  0.01  Iterations:  50000\n",
      "runtime = 0.01 seconds\n",
      "V AVERAGE: 0.07979391580032925\n",
      "running -- with Discount Factor:  1.0  Convergence Criterion:  0.01  Iterations:  100000\n",
      "runtime = 0.02 seconds\n",
      "V AVERAGE: 0.07979391580032925\n",
      "running -- with Discount Factor:  1.0  Convergence Criterion:  0.001  Iterations:  1000\n",
      "runtime = 0.01 seconds\n",
      "V AVERAGE: 0.0797942958880833\n",
      "running -- with Discount Factor:  1.0  Convergence Criterion:  0.001  Iterations:  10000\n",
      "runtime = 0.01 seconds\n",
      "V AVERAGE: 0.0797942958880833\n",
      "running -- with Discount Factor:  1.0  Convergence Criterion:  0.001  Iterations:  50000\n",
      "runtime = 0.02 seconds\n",
      "V AVERAGE: 0.0797942958880833\n",
      "running -- with Discount Factor:  1.0  Convergence Criterion:  0.001  Iterations:  100000\n",
      "runtime = 0.02 seconds\n",
      "V AVERAGE: 0.0797942958880833\n",
      "running -- with Discount Factor:  1.0  Convergence Criterion:  1e-05  Iterations:  1000\n",
      "runtime = 0.01 seconds\n",
      "V AVERAGE: 0.07979431385264135\n",
      "running -- with Discount Factor:  1.0  Convergence Criterion:  1e-05  Iterations:  10000\n",
      "runtime = 0.02 seconds\n",
      "V AVERAGE: 0.07979431385264135\n",
      "running -- with Discount Factor:  1.0  Convergence Criterion:  1e-05  Iterations:  50000\n",
      "runtime = 0.02 seconds\n",
      "V AVERAGE: 0.07979431385264135\n",
      "running -- with Discount Factor:  1.0  Convergence Criterion:  1e-05  Iterations:  100000\n",
      "runtime = 0.02 seconds\n",
      "V AVERAGE: 0.07979431385264135\n",
      "running -- with Discount Factor:  1.0  Convergence Criterion:  1e-10  Iterations:  1000\n",
      "runtime = 0.02 seconds\n",
      "V AVERAGE: 0.07979431433354782\n",
      "running -- with Discount Factor:  1.0  Convergence Criterion:  1e-10  Iterations:  10000\n",
      "runtime = 0.02 seconds\n",
      "V AVERAGE: 0.07979431433354782\n",
      "running -- with Discount Factor:  1.0  Convergence Criterion:  1e-10  Iterations:  50000\n",
      "runtime = 0.02 seconds\n",
      "V AVERAGE: 0.07979431433354782\n",
      "running -- with Discount Factor:  1.0  Convergence Criterion:  1e-10  Iterations:  100000\n",
      "runtime = 0.03 seconds\n",
      "V AVERAGE: 0.07979431433354782\n",
      "running -- with Discount Factor:  0.5  Convergence Criterion:  0.1  Iterations:  1000\n",
      "runtime = 0.01 seconds\n",
      "V AVERAGE: 0.0892632460484887\n",
      "running -- with Discount Factor:  0.5  Convergence Criterion:  0.1  Iterations:  10000\n",
      "runtime = 0.01 seconds\n",
      "V AVERAGE: 0.0892632460484887\n",
      "running -- with Discount Factor:  0.5  Convergence Criterion:  0.1  Iterations:  50000\n",
      "runtime = 0.01 seconds\n",
      "V AVERAGE: 0.0892632460484887\n",
      "running -- with Discount Factor:  0.5  Convergence Criterion:  0.1  Iterations:  100000\n",
      "runtime = 0.01 seconds\n",
      "V AVERAGE: 0.0892632460484887\n",
      "running -- with Discount Factor:  0.5  Convergence Criterion:  0.01  Iterations:  1000\n",
      "runtime = 0.01 seconds\n",
      "V AVERAGE: 0.08919819090525252\n",
      "running -- with Discount Factor:  0.5  Convergence Criterion:  0.01  Iterations:  10000\n",
      "runtime = 0.01 seconds\n",
      "V AVERAGE: 0.08919819090525252\n",
      "running -- with Discount Factor:  0.5  Convergence Criterion:  0.01  Iterations:  50000\n",
      "runtime = 0.01 seconds\n",
      "V AVERAGE: 0.08919819090525252\n",
      "running -- with Discount Factor:  0.5  Convergence Criterion:  0.01  Iterations:  100000\n",
      "runtime = 0.01 seconds\n",
      "V AVERAGE: 0.08919819090525252\n",
      "running -- with Discount Factor:  0.5  Convergence Criterion:  0.001  Iterations:  1000\n",
      "runtime = 0.01 seconds\n",
      "V AVERAGE: 0.08919140638228863\n",
      "running -- with Discount Factor:  0.5  Convergence Criterion:  0.001  Iterations:  10000\n",
      "runtime = 0.01 seconds\n",
      "V AVERAGE: 0.08919140638228863\n",
      "running -- with Discount Factor:  0.5  Convergence Criterion:  0.001  Iterations:  50000\n",
      "runtime = 0.01 seconds\n",
      "V AVERAGE: 0.08919140638228863\n",
      "running -- with Discount Factor:  0.5  Convergence Criterion:  0.001  Iterations:  100000\n",
      "runtime = 0.02 seconds\n",
      "V AVERAGE: 0.08919140638228863\n",
      "running -- with Discount Factor:  0.5  Convergence Criterion:  1e-05  Iterations:  1000\n",
      "runtime = 0.01 seconds\n",
      "V AVERAGE: 0.08919108316715024\n",
      "running -- with Discount Factor:  0.5  Convergence Criterion:  1e-05  Iterations:  10000\n",
      "runtime = 0.01 seconds\n",
      "V AVERAGE: 0.08919108316715024\n",
      "running -- with Discount Factor:  0.5  Convergence Criterion:  1e-05  Iterations:  50000\n",
      "runtime = 0.02 seconds\n",
      "V AVERAGE: 0.08919108316715024\n",
      "running -- with Discount Factor:  0.5  Convergence Criterion:  1e-05  Iterations:  100000\n",
      "runtime = 0.02 seconds\n",
      "V AVERAGE: 0.08919108316715024\n",
      "running -- with Discount Factor:  0.5  Convergence Criterion:  1e-10  Iterations:  1000\n",
      "runtime = 0.02 seconds\n",
      "V AVERAGE: 0.08919108287374712\n",
      "running -- with Discount Factor:  0.5  Convergence Criterion:  1e-10  Iterations:  10000\n",
      "runtime = 0.02 seconds\n",
      "V AVERAGE: 0.08919108287374712\n",
      "running -- with Discount Factor:  0.5  Convergence Criterion:  1e-10  Iterations:  50000\n",
      "runtime = 0.02 seconds\n",
      "V AVERAGE: 0.08919108287374712\n",
      "running -- with Discount Factor:  0.5  Convergence Criterion:  1e-10  Iterations:  100000\n",
      "runtime = 0.02 seconds\n",
      "V AVERAGE: 0.08919108287374712\n",
      "running -- with Discount Factor:  0.1  Convergence Criterion:  0.1  Iterations:  1000\n",
      "runtime = 0.00 seconds\n",
      "V AVERAGE: 0.09845459180934786\n",
      "running -- with Discount Factor:  0.1  Convergence Criterion:  0.1  Iterations:  10000\n",
      "runtime = 0.00 seconds\n",
      "V AVERAGE: 0.09845459180934786\n",
      "running -- with Discount Factor:  0.1  Convergence Criterion:  0.1  Iterations:  50000\n",
      "runtime = 0.01 seconds\n",
      "V AVERAGE: 0.09845459180934786\n",
      "running -- with Discount Factor:  0.1  Convergence Criterion:  0.1  Iterations:  100000\n",
      "runtime = 0.01 seconds\n",
      "V AVERAGE: 0.09845459180934786\n",
      "running -- with Discount Factor:  0.1  Convergence Criterion:  0.01  Iterations:  1000\n",
      "runtime = 0.01 seconds\n",
      "V AVERAGE: 0.0984174699014601\n",
      "running -- with Discount Factor:  0.1  Convergence Criterion:  0.01  Iterations:  10000\n",
      "runtime = 0.01 seconds\n",
      "V AVERAGE: 0.0984174699014601\n",
      "running -- with Discount Factor:  0.1  Convergence Criterion:  0.01  Iterations:  50000\n",
      "runtime = 0.01 seconds\n",
      "V AVERAGE: 0.0984174699014601\n",
      "running -- with Discount Factor:  0.1  Convergence Criterion:  0.01  Iterations:  100000\n",
      "runtime = 0.01 seconds\n",
      "V AVERAGE: 0.0984174699014601\n",
      "running -- with Discount Factor:  0.1  Convergence Criterion:  0.001  Iterations:  1000\n",
      "runtime = 0.01 seconds\n",
      "V AVERAGE: 0.09841645517359536\n",
      "running -- with Discount Factor:  0.1  Convergence Criterion:  0.001  Iterations:  10000\n",
      "runtime = 0.01 seconds\n",
      "V AVERAGE: 0.09841645517359536\n",
      "running -- with Discount Factor:  0.1  Convergence Criterion:  0.001  Iterations:  50000\n",
      "runtime = 0.01 seconds\n",
      "V AVERAGE: 0.09841645517359536\n",
      "running -- with Discount Factor:  0.1  Convergence Criterion:  0.001  Iterations:  100000\n",
      "runtime = 0.01 seconds\n",
      "V AVERAGE: 0.09841645517359536\n",
      "running -- with Discount Factor:  0.1  Convergence Criterion:  1e-05  Iterations:  1000\n",
      "runtime = 0.01 seconds\n",
      "V AVERAGE: 0.09841643400706696\n",
      "running -- with Discount Factor:  0.1  Convergence Criterion:  1e-05  Iterations:  10000\n",
      "runtime = 0.01 seconds\n",
      "V AVERAGE: 0.09841643400706696\n",
      "running -- with Discount Factor:  0.1  Convergence Criterion:  1e-05  Iterations:  50000\n",
      "runtime = 0.01 seconds\n",
      "V AVERAGE: 0.09841643400706696\n",
      "running -- with Discount Factor:  0.1  Convergence Criterion:  1e-05  Iterations:  100000\n",
      "runtime = 0.01 seconds\n",
      "V AVERAGE: 0.09841643400706696\n",
      "running -- with Discount Factor:  0.1  Convergence Criterion:  1e-10  Iterations:  1000\n",
      "runtime = 0.01 seconds\n",
      "V AVERAGE: 0.09841643376663142\n",
      "running -- with Discount Factor:  0.1  Convergence Criterion:  1e-10  Iterations:  10000\n",
      "runtime = 0.01 seconds\n",
      "V AVERAGE: 0.09841643376663142\n",
      "running -- with Discount Factor:  0.1  Convergence Criterion:  1e-10  Iterations:  50000\n",
      "runtime = 0.02 seconds\n",
      "V AVERAGE: 0.09841643376663142\n",
      "running -- with Discount Factor:  0.1  Convergence Criterion:  1e-10  Iterations:  100000\n",
      "runtime = 0.02 seconds\n",
      "V AVERAGE: 0.09841643376663142\n",
      "running -- with Discount Factor:  0.04  Convergence Criterion:  0.1  Iterations:  1000\n",
      "runtime = 0.00 seconds\n",
      "V AVERAGE: 0.09982882704258839\n",
      "running -- with Discount Factor:  0.04  Convergence Criterion:  0.1  Iterations:  10000\n",
      "runtime = 0.00 seconds\n",
      "V AVERAGE: 0.09982882704258839\n",
      "running -- with Discount Factor:  0.04  Convergence Criterion:  0.1  Iterations:  50000\n",
      "runtime = 0.01 seconds\n",
      "V AVERAGE: 0.09982882704258839\n",
      "running -- with Discount Factor:  0.04  Convergence Criterion:  0.1  Iterations:  100000\n",
      "runtime = 0.01 seconds\n",
      "V AVERAGE: 0.09982882704258839\n",
      "running -- with Discount Factor:  0.04  Convergence Criterion:  0.01  Iterations:  1000\n",
      "runtime = 0.01 seconds\n",
      "V AVERAGE: 0.09982286039113156\n",
      "running -- with Discount Factor:  0.04  Convergence Criterion:  0.01  Iterations:  10000\n",
      "runtime = 0.01 seconds\n",
      "V AVERAGE: 0.09982286039113156\n",
      "running -- with Discount Factor:  0.04  Convergence Criterion:  0.01  Iterations:  50000\n",
      "runtime = 0.01 seconds\n",
      "V AVERAGE: 0.09982286039113156\n",
      "running -- with Discount Factor:  0.04  Convergence Criterion:  0.01  Iterations:  100000\n"
     ]
    },
    {
     "name": "stdout",
     "output_type": "stream",
     "text": [
      "runtime = 0.01 seconds\n",
      "V AVERAGE: 0.09982286039113156\n",
      "running -- with Discount Factor:  0.04  Convergence Criterion:  0.001  Iterations:  1000\n",
      "runtime = 0.01 seconds\n",
      "V AVERAGE: 0.09982286039113156\n",
      "running -- with Discount Factor:  0.04  Convergence Criterion:  0.001  Iterations:  10000\n",
      "runtime = 0.01 seconds\n",
      "V AVERAGE: 0.09982286039113156\n",
      "running -- with Discount Factor:  0.04  Convergence Criterion:  0.001  Iterations:  50000\n",
      "runtime = 0.01 seconds\n",
      "V AVERAGE: 0.09982286039113156\n",
      "running -- with Discount Factor:  0.04  Convergence Criterion:  0.001  Iterations:  100000\n",
      "runtime = 0.01 seconds\n",
      "V AVERAGE: 0.09982286039113156\n",
      "running -- with Discount Factor:  0.04  Convergence Criterion:  1e-05  Iterations:  1000\n",
      "runtime = 0.01 seconds\n",
      "V AVERAGE: 0.09982279526757358\n",
      "running -- with Discount Factor:  0.04  Convergence Criterion:  1e-05  Iterations:  10000\n",
      "runtime = 0.01 seconds\n",
      "V AVERAGE: 0.09982279526757358\n",
      "running -- with Discount Factor:  0.04  Convergence Criterion:  1e-05  Iterations:  50000\n",
      "runtime = 0.01 seconds\n",
      "V AVERAGE: 0.09982279526757358\n",
      "running -- with Discount Factor:  0.04  Convergence Criterion:  1e-05  Iterations:  100000\n",
      "runtime = 0.01 seconds\n",
      "V AVERAGE: 0.09982279526757358\n",
      "running -- with Discount Factor:  0.04  Convergence Criterion:  1e-10  Iterations:  1000\n",
      "runtime = 0.01 seconds\n",
      "V AVERAGE: 0.09982279472278872\n",
      "running -- with Discount Factor:  0.04  Convergence Criterion:  1e-10  Iterations:  10000\n",
      "runtime = 0.01 seconds\n",
      "V AVERAGE: 0.09982279472278872\n",
      "running -- with Discount Factor:  0.04  Convergence Criterion:  1e-10  Iterations:  50000\n",
      "runtime = 0.02 seconds\n",
      "V AVERAGE: 0.09982279472278872\n",
      "running -- with Discount Factor:  0.04  Convergence Criterion:  1e-10  Iterations:  100000\n",
      "runtime = 0.02 seconds\n",
      "V AVERAGE: 0.09982279472278872\n",
      "running -- with Discount Factor:  0.01  Convergence Criterion:  0.1  Iterations:  1000\n",
      "runtime = 0.00 seconds\n",
      "V AVERAGE: 0.10051778268281421\n",
      "running -- with Discount Factor:  0.01  Convergence Criterion:  0.1  Iterations:  10000\n",
      "runtime = 0.00 seconds\n",
      "V AVERAGE: 0.10051778268281421\n",
      "running -- with Discount Factor:  0.01  Convergence Criterion:  0.1  Iterations:  50000\n",
      "runtime = 0.01 seconds\n",
      "V AVERAGE: 0.10051778268281421\n",
      "running -- with Discount Factor:  0.01  Convergence Criterion:  0.1  Iterations:  100000\n",
      "runtime = 0.01 seconds\n",
      "V AVERAGE: 0.10051778268281421\n",
      "running -- with Discount Factor:  0.01  Convergence Criterion:  0.01  Iterations:  1000\n",
      "runtime = 0.00 seconds\n",
      "V AVERAGE: 0.10051778268281421\n",
      "running -- with Discount Factor:  0.01  Convergence Criterion:  0.01  Iterations:  10000\n",
      "runtime = 0.00 seconds\n",
      "V AVERAGE: 0.10051778268281421\n",
      "running -- with Discount Factor:  0.01  Convergence Criterion:  0.01  Iterations:  50000\n",
      "runtime = 0.01 seconds\n",
      "V AVERAGE: 0.10051778268281421\n",
      "running -- with Discount Factor:  0.01  Convergence Criterion:  0.01  Iterations:  100000\n",
      "runtime = 0.01 seconds\n",
      "V AVERAGE: 0.10051778268281421\n",
      "running -- with Discount Factor:  0.01  Convergence Criterion:  0.001  Iterations:  1000\n",
      "runtime = 0.01 seconds\n",
      "V AVERAGE: 0.10051740976709814\n",
      "running -- with Discount Factor:  0.01  Convergence Criterion:  0.001  Iterations:  10000\n",
      "runtime = 0.01 seconds\n",
      "V AVERAGE: 0.10051740976709814\n",
      "running -- with Discount Factor:  0.01  Convergence Criterion:  0.001  Iterations:  50000\n",
      "runtime = 0.01 seconds\n",
      "V AVERAGE: 0.10051740976709814\n",
      "running -- with Discount Factor:  0.01  Convergence Criterion:  0.001  Iterations:  100000\n",
      "runtime = 0.01 seconds\n",
      "V AVERAGE: 0.10051740976709814\n",
      "running -- with Discount Factor:  0.01  Convergence Criterion:  1e-05  Iterations:  1000\n",
      "runtime = 0.01 seconds\n",
      "V AVERAGE: 0.10051740874954257\n",
      "running -- with Discount Factor:  0.01  Convergence Criterion:  1e-05  Iterations:  10000\n",
      "runtime = 0.01 seconds\n",
      "V AVERAGE: 0.10051740874954257\n",
      "running -- with Discount Factor:  0.01  Convergence Criterion:  1e-05  Iterations:  50000\n",
      "runtime = 0.01 seconds\n",
      "V AVERAGE: 0.10051740874954257\n",
      "running -- with Discount Factor:  0.01  Convergence Criterion:  1e-05  Iterations:  100000\n",
      "runtime = 0.01 seconds\n",
      "V AVERAGE: 0.10051740874954257\n",
      "running -- with Discount Factor:  0.01  Convergence Criterion:  1e-10  Iterations:  1000\n",
      "runtime = 0.01 seconds\n",
      "V AVERAGE: 0.10051740874742168\n",
      "running -- with Discount Factor:  0.01  Convergence Criterion:  1e-10  Iterations:  10000\n",
      "runtime = 0.01 seconds\n",
      "V AVERAGE: 0.10051740874742168\n",
      "running -- with Discount Factor:  0.01  Convergence Criterion:  1e-10  Iterations:  50000\n",
      "runtime = 0.01 seconds\n",
      "V AVERAGE: 0.10051740874742168\n",
      "running -- with Discount Factor:  0.01  Convergence Criterion:  1e-10  Iterations:  100000\n",
      "runtime = 0.02 seconds\n",
      "V AVERAGE: 0.10051740874742168\n",
      "running -- with Discount Factor:  -0.04  Convergence Criterion:  0.1  Iterations:  1000\n",
      "runtime = 0.00 seconds\n",
      "V AVERAGE: 0.10166604208319055\n",
      "running -- with Discount Factor:  -0.04  Convergence Criterion:  0.1  Iterations:  10000\n",
      "runtime = 0.00 seconds\n",
      "V AVERAGE: 0.10166604208319055\n",
      "running -- with Discount Factor:  -0.04  Convergence Criterion:  0.1  Iterations:  50000\n",
      "runtime = 0.01 seconds\n",
      "V AVERAGE: 0.10166604208319055\n",
      "running -- with Discount Factor:  -0.04  Convergence Criterion:  0.1  Iterations:  100000\n",
      "runtime = 0.01 seconds\n",
      "V AVERAGE: 0.10166604208319055\n",
      "running -- with Discount Factor:  -0.04  Convergence Criterion:  0.01  Iterations:  1000\n",
      "runtime = 0.01 seconds\n",
      "V AVERAGE: 0.1016600754317337\n",
      "running -- with Discount Factor:  -0.04  Convergence Criterion:  0.01  Iterations:  10000\n",
      "runtime = 0.01 seconds\n",
      "V AVERAGE: 0.1016600754317337\n",
      "running -- with Discount Factor:  -0.04  Convergence Criterion:  0.01  Iterations:  50000\n",
      "runtime = 0.01 seconds\n",
      "V AVERAGE: 0.1016600754317337\n",
      "running -- with Discount Factor:  -0.04  Convergence Criterion:  0.01  Iterations:  100000\n",
      "runtime = 0.01 seconds\n",
      "V AVERAGE: 0.1016600754317337\n",
      "running -- with Discount Factor:  -0.04  Convergence Criterion:  0.001  Iterations:  1000\n",
      "runtime = 0.01 seconds\n",
      "V AVERAGE: 0.1016600754317337\n",
      "running -- with Discount Factor:  -0.04  Convergence Criterion:  0.001  Iterations:  10000\n",
      "runtime = 0.01 seconds\n",
      "V AVERAGE: 0.1016600754317337\n",
      "running -- with Discount Factor:  -0.04  Convergence Criterion:  0.001  Iterations:  50000\n",
      "runtime = 0.01 seconds\n",
      "V AVERAGE: 0.1016600754317337\n",
      "running -- with Discount Factor:  -0.04  Convergence Criterion:  0.001  Iterations:  100000\n",
      "runtime = 0.01 seconds\n",
      "V AVERAGE: 0.1016600754317337\n",
      "running -- with Discount Factor:  -0.04  Convergence Criterion:  1e-05  Iterations:  1000\n",
      "runtime = 0.01 seconds\n",
      "V AVERAGE: 0.10166014055529168\n",
      "running -- with Discount Factor:  -0.04  Convergence Criterion:  1e-05  Iterations:  10000\n",
      "runtime = 0.01 seconds\n",
      "V AVERAGE: 0.10166014055529168\n",
      "running -- with Discount Factor:  -0.04  Convergence Criterion:  1e-05  Iterations:  50000\n",
      "runtime = 0.01 seconds\n",
      "V AVERAGE: 0.10166014055529168\n",
      "running -- with Discount Factor:  -0.04  Convergence Criterion:  1e-05  Iterations:  100000\n",
      "runtime = 0.01 seconds\n",
      "V AVERAGE: 0.10166014055529168\n",
      "running -- with Discount Factor:  -0.04  Convergence Criterion:  1e-10  Iterations:  1000\n",
      "runtime = 0.01 seconds\n",
      "V AVERAGE: 0.10166014001539186\n",
      "running -- with Discount Factor:  -0.04  Convergence Criterion:  1e-10  Iterations:  10000\n",
      "runtime = 0.01 seconds\n",
      "V AVERAGE: 0.10166014001539186\n",
      "running -- with Discount Factor:  -0.04  Convergence Criterion:  1e-10  Iterations:  50000\n",
      "runtime = 0.02 seconds\n",
      "V AVERAGE: 0.10166014001539186\n",
      "running -- with Discount Factor:  -0.04  Convergence Criterion:  1e-10  Iterations:  100000\n",
      "runtime = 0.02 seconds\n",
      "V AVERAGE: 0.10166014001539186\n",
      "running -- with Discount Factor:  -0.5  Convergence Criterion:  0.1  Iterations:  1000\n",
      "runtime = 0.01 seconds\n",
      "V AVERAGE: 0.11139589482733114\n",
      "running -- with Discount Factor:  -0.5  Convergence Criterion:  0.1  Iterations:  10000\n",
      "runtime = 0.01 seconds\n",
      "V AVERAGE: 0.11139589482733114\n",
      "running -- with Discount Factor:  -0.5  Convergence Criterion:  0.1  Iterations:  50000\n",
      "runtime = 0.01 seconds\n",
      "V AVERAGE: 0.11139589482733114\n",
      "running -- with Discount Factor:  -0.5  Convergence Criterion:  0.1  Iterations:  100000\n",
      "runtime = 0.01 seconds\n",
      "V AVERAGE: 0.11139589482733114\n",
      "running -- with Discount Factor:  -0.5  Convergence Criterion:  0.01  Iterations:  1000\n",
      "runtime = 0.01 seconds\n",
      "V AVERAGE: 0.11155934089029487\n",
      "running -- with Discount Factor:  -0.5  Convergence Criterion:  0.01  Iterations:  10000\n",
      "runtime = 0.01 seconds\n",
      "V AVERAGE: 0.11155934089029487\n",
      "running -- with Discount Factor:  -0.5  Convergence Criterion:  0.01  Iterations:  50000\n",
      "runtime = 0.01 seconds\n",
      "V AVERAGE: 0.11155934089029487\n",
      "running -- with Discount Factor:  -0.5  Convergence Criterion:  0.01  Iterations:  100000\n",
      "runtime = 0.01 seconds\n",
      "V AVERAGE: 0.11155934089029487\n",
      "running -- with Discount Factor:  -0.5  Convergence Criterion:  0.001  Iterations:  1000\n",
      "runtime = 0.01 seconds\n",
      "V AVERAGE: 0.11154320406839906\n",
      "running -- with Discount Factor:  -0.5  Convergence Criterion:  0.001  Iterations:  10000\n",
      "runtime = 0.01 seconds\n",
      "V AVERAGE: 0.11154320406839906\n",
      "running -- with Discount Factor:  -0.5  Convergence Criterion:  0.001  Iterations:  50000\n",
      "runtime = 0.01 seconds\n",
      "V AVERAGE: 0.11154320406839906\n",
      "running -- with Discount Factor:  -0.5  Convergence Criterion:  0.001  Iterations:  100000\n",
      "runtime = 0.02 seconds\n",
      "V AVERAGE: 0.11154320406839906\n",
      "running -- with Discount Factor:  -0.5  Convergence Criterion:  1e-05  Iterations:  1000\n",
      "runtime = 0.01 seconds\n",
      "V AVERAGE: 0.11154405337811811\n",
      "running -- with Discount Factor:  -0.5  Convergence Criterion:  1e-05  Iterations:  10000\n",
      "runtime = 0.01 seconds\n",
      "V AVERAGE: 0.11154405337811811\n",
      "running -- with Discount Factor:  -0.5  Convergence Criterion:  1e-05  Iterations:  50000\n"
     ]
    },
    {
     "name": "stdout",
     "output_type": "stream",
     "text": [
      "runtime = 0.02 seconds\n",
      "V AVERAGE: 0.11154405337811811\n",
      "running -- with Discount Factor:  -0.5  Convergence Criterion:  1e-05  Iterations:  100000\n",
      "runtime = 0.02 seconds\n",
      "V AVERAGE: 0.11154405337811811\n",
      "running -- with Discount Factor:  -0.5  Convergence Criterion:  1e-10  Iterations:  1000\n",
      "runtime = 0.02 seconds\n",
      "V AVERAGE: 0.11154405443036436\n",
      "running -- with Discount Factor:  -0.5  Convergence Criterion:  1e-10  Iterations:  10000\n",
      "runtime = 0.02 seconds\n",
      "V AVERAGE: 0.11154405443036436\n",
      "running -- with Discount Factor:  -0.5  Convergence Criterion:  1e-10  Iterations:  50000\n",
      "runtime = 0.02 seconds\n",
      "V AVERAGE: 0.11154405443036436\n",
      "running -- with Discount Factor:  -0.5  Convergence Criterion:  1e-10  Iterations:  100000\n",
      "runtime = 0.02 seconds\n",
      "V AVERAGE: 0.11154405443036436\n",
      "running -- with Discount Factor:  -1.0  Convergence Criterion:  0.1  Iterations:  1000\n",
      "runtime = 0.01 seconds\n",
      "V AVERAGE: 0.1225113999703988\n",
      "running -- with Discount Factor:  -1.0  Convergence Criterion:  0.1  Iterations:  10000\n",
      "runtime = 0.01 seconds\n",
      "V AVERAGE: 0.1225113999703988\n",
      "running -- with Discount Factor:  -1.0  Convergence Criterion:  0.1  Iterations:  50000\n",
      "runtime = 0.01 seconds\n",
      "V AVERAGE: 0.1225113999703988\n",
      "running -- with Discount Factor:  -1.0  Convergence Criterion:  0.1  Iterations:  100000\n",
      "runtime = 0.01 seconds\n",
      "V AVERAGE: 0.1225113999703988\n",
      "running -- with Discount Factor:  -1.0  Convergence Criterion:  0.01  Iterations:  1000\n",
      "runtime = 0.01 seconds\n",
      "V AVERAGE: 0.12222513611363782\n",
      "running -- with Discount Factor:  -1.0  Convergence Criterion:  0.01  Iterations:  10000\n",
      "runtime = 0.01 seconds\n",
      "V AVERAGE: 0.12222513611363782\n",
      "running -- with Discount Factor:  -1.0  Convergence Criterion:  0.01  Iterations:  50000\n",
      "runtime = 0.01 seconds\n",
      "V AVERAGE: 0.12222513611363782\n",
      "running -- with Discount Factor:  -1.0  Convergence Criterion:  0.01  Iterations:  100000\n",
      "runtime = 0.02 seconds\n",
      "V AVERAGE: 0.12222513611363782\n",
      "running -- with Discount Factor:  -1.0  Convergence Criterion:  0.001  Iterations:  1000\n",
      "runtime = 0.01 seconds\n",
      "V AVERAGE: 0.12222174199514572\n",
      "running -- with Discount Factor:  -1.0  Convergence Criterion:  0.001  Iterations:  10000\n",
      "runtime = 0.01 seconds\n",
      "V AVERAGE: 0.12222174199514572\n",
      "running -- with Discount Factor:  -1.0  Convergence Criterion:  0.001  Iterations:  50000\n",
      "runtime = 0.02 seconds\n",
      "V AVERAGE: 0.12222174199514572\n",
      "running -- with Discount Factor:  -1.0  Convergence Criterion:  0.001  Iterations:  100000\n",
      "runtime = 0.02 seconds\n",
      "V AVERAGE: 0.12222174199514572\n",
      "running -- with Discount Factor:  -1.0  Convergence Criterion:  1e-05  Iterations:  1000\n",
      "runtime = 0.02 seconds\n",
      "V AVERAGE: 0.12222196945005119\n",
      "running -- with Discount Factor:  -1.0  Convergence Criterion:  1e-05  Iterations:  10000\n",
      "runtime = 0.02 seconds\n",
      "V AVERAGE: 0.12222196945005119\n",
      "running -- with Discount Factor:  -1.0  Convergence Criterion:  1e-05  Iterations:  50000\n",
      "runtime = 0.02 seconds\n",
      "V AVERAGE: 0.12222196945005119\n",
      "running -- with Discount Factor:  -1.0  Convergence Criterion:  1e-05  Iterations:  100000\n",
      "runtime = 0.02 seconds\n",
      "V AVERAGE: 0.12222196945005119\n",
      "running -- with Discount Factor:  -1.0  Convergence Criterion:  1e-10  Iterations:  1000\n",
      "runtime = 0.02 seconds\n",
      "V AVERAGE: 0.12222197005190238\n",
      "running -- with Discount Factor:  -1.0  Convergence Criterion:  1e-10  Iterations:  10000\n",
      "runtime = 0.02 seconds\n",
      "V AVERAGE: 0.12222197005190238\n",
      "running -- with Discount Factor:  -1.0  Convergence Criterion:  1e-10  Iterations:  50000\n",
      "runtime = 0.03 seconds\n",
      "V AVERAGE: 0.12222197005190238\n",
      "running -- with Discount Factor:  -1.0  Convergence Criterion:  1e-10  Iterations:  100000\n",
      "runtime = 0.03 seconds\n",
      "V AVERAGE: 0.12222197005190238\n",
      "Best params: Discount Factor:  -1.0  Convergence Criterion:  0.1  Iterations:  1000\n"
     ]
    }
   ],
   "source": [
    "\"\"\"\n",
    "Performing Grid Search to find the best hyperparameters\n",
    "\"\"\"\n",
    "\n",
    "class GridSearch:\n",
    "    @staticmethod\n",
    "    def Value_Iteration_grid_search(P, gamma, threshold, iters):\n",
    "        max_iter = 0\n",
    "        max_gamma = 0\n",
    "        max_threshold = 0\n",
    "        V_average_max = -sys.maxsize - 1\n",
    "        for i in itertools.product(gamma, threshold, iters):\n",
    "            print(\"running -- with Discount Factor: \", i[0],  \" Convergence Criterion: \", i[1],  \" Iterations: \", i[2])\n",
    "            V, V_track, pi = Planner(P).value_iteration(gamma=i[0], n_iters=i[2], theta=i[1])\n",
    "            # Want to find the max average Value\n",
    "            V_average = np.average(V)\n",
    "            print(f\"V AVERAGE: {V_average}\")\n",
    "            if V_average > V_average_max:\n",
    "                V_average_max = V_average\n",
    "                max_gamma = i[0]\n",
    "                max_threshold = i[1]\n",
    "                max_iter = i[2]\n",
    "        print(\"Best params: Discount Factor: \", max_gamma,  \" Convergence Criterion: \", max_threshold,  \" Iterations: \", max_iter)       \n",
    "            \n",
    "    @staticmethod\n",
    "    def Policy_Iteration_grid_search(P, gamma, threshold, iters):\n",
    "        max_iter = 0\n",
    "        max_gamma = 0\n",
    "        max_threshold = 0\n",
    "        V_average_max = -sys.maxsize - 1\n",
    "        for i in itertools.product(gamma, threshold, iters):\n",
    "            print(\"running -- with Discount Factor: \", i[0],  \" Convergence Criterion: \", i[1],  \" Iterations: \", i[2])\n",
    "            V, V_track, pi = Planner(P).policy_iteration(gamma=i[0], n_iters=i[2], theta=i[1])\n",
    "            # Want to find the max average Value\n",
    "            V_average = np.average(V)\n",
    "            print(f\"V AVERAGE: {V_average}\")\n",
    "            if V_average > V_average_max:\n",
    "                V_average_max = V_average\n",
    "                max_gamma = i[0]\n",
    "                max_threshold = i[1]\n",
    "                max_iter = i[2]\n",
    "        print(\"Best params: Discount Factor: \", max_gamma,  \" Convergence Criterion: \", max_threshold,  \" Iterations: \", max_iter)       \n",
    "    \n",
    "    @staticmethod\n",
    "    def Q_learning_grid_search(env, epsilon_decay, iters, gamma, action_space, obs_space, cso):\n",
    "        max_iter = 0\n",
    "        max_gamma = 0\n",
    "        max_eps = 0\n",
    "        V_average_max = -sys.maxsize - 1\n",
    "        for i in itertools.product(epsilon_decay, gamma, iters):\n",
    "            print(\"running -- with epsilon decay: \", i[0],  \" iterations: \", i[1])\n",
    "            Q, V, pi, Q_track, pi_track = RL(env).q_learning(\n",
    "                nS=obs_space,\n",
    "                nA=action_space,\n",
    "                epsilon_decay_ratio=i[0],\n",
    "                gamma=i[1],\n",
    "                n_episodes=i[2],\n",
    "                convert_state_obs = cso\n",
    "            )\n",
    "            \n",
    "            V_average = np.average(V)\n",
    "            print(f\"V AVERAGE: {V_average}\")\n",
    "            if V_average > V_average_max:\n",
    "                V_average_max = V_average\n",
    "                max_gamma = i[0]\n",
    "                max_threshold = i[1]\n",
    "                max_iter = i[2]\n",
    "        print(\"Best params: Discount Factor: \", max_gamma,  \" Convergence Criterion: \", max_threshold,  \" Iterations: \", max_iter)\n",
    "            \n",
    "            \n",
    "\n",
    "\n",
    "iters = [1000, 10000, 50000, 100000]\n",
    "gammas = [1.0, 0.5, 0.1, 0.04, 0.01, -0.04, -0.5, -1.0]\n",
    "thetas = [1e-1, 1e-2, 1e-3, 1e-5, 1e-10]\n",
    "GridSearch.Value_Iteration_grid_search(black_jack.P, gammas, thetas, iters)"
   ]
  },
  {
   "cell_type": "code",
   "execution_count": 107,
   "id": "585056df",
   "metadata": {},
   "outputs": [
    {
     "name": "stdout",
     "output_type": "stream",
     "text": [
      "Running iteration 1...\n",
      "runtime = 0.00 seconds\n",
      "Elapsed time:  6.437500087486114e-05\n",
      "Average V value: 0.0\n",
      "Running iteration 1...\n",
      "runtime = 0.00 seconds\n",
      "Elapsed time:  6.899999971210491e-05\n",
      "Average V value: 0.0\n",
      "Running iteration 2...\n",
      "runtime = 0.00 seconds\n",
      "Elapsed time:  0.0025162499987345655\n",
      "Average V value: 0.10074743456288945\n",
      "Running iteration 3...\n",
      "runtime = 0.01 seconds\n",
      "Elapsed time:  0.005600458000117214\n",
      "Average V value: 0.1018956939632658\n",
      "Running iteration 4...\n",
      "runtime = 0.01 seconds\n",
      "Elapsed time:  0.008109083000817918\n",
      "Average V value: 0.10188637107036452\n",
      "Running iteration 5...\n",
      "runtime = 0.01 seconds\n",
      "Elapsed time:  0.010645624999597203\n",
      "Average V value: 0.10188649826481368\n",
      "Running iteration 6...\n",
      "runtime = 0.01 seconds\n",
      "Elapsed time:  0.011354915999618242\n",
      "Average V value: 0.10188649694075533\n",
      "Running iteration 7...\n",
      "runtime = 0.01 seconds\n",
      "Elapsed time:  0.011136500001157401\n",
      "Average V value: 0.1018864969482093\n",
      "Running iteration 8...\n",
      "runtime = 0.01 seconds\n",
      "Elapsed time:  0.011934916999962297\n",
      "Average V value: 0.10188649694817864\n",
      "Running iteration 9...\n",
      "runtime = 0.01 seconds\n",
      "Elapsed time:  0.013724417000048561\n",
      "Average V value: 0.10188649694817876\n",
      "Running iteration 10...\n",
      "runtime = 0.01 seconds\n",
      "Elapsed time:  0.01365362500109768\n",
      "Average V value: 0.10188649694817876\n",
      "Running iteration 11...\n",
      "runtime = 0.01 seconds\n",
      "Elapsed time:  0.013543916000344325\n",
      "Average V value: 0.10188649694817876\n",
      "Running iteration 12...\n",
      "runtime = 0.01 seconds\n",
      "Elapsed time:  0.013630375000502681\n",
      "Average V value: 0.10188649694817876\n",
      "Running iteration 13...\n",
      "runtime = 0.01 seconds\n",
      "Elapsed time:  0.013675750000402331\n",
      "Average V value: 0.10188649694817876\n",
      "Running iteration 14...\n",
      "runtime = 0.01 seconds\n",
      "Elapsed time:  0.013803709000058006\n",
      "Average V value: 0.10188649694817876\n",
      "Running iteration 15...\n",
      "runtime = 0.01 seconds\n",
      "Elapsed time:  0.013720291999561596\n",
      "Average V value: 0.10188649694817876\n",
      "Running iteration 16...\n",
      "runtime = 0.01 seconds\n",
      "Elapsed time:  0.01461770800051454\n",
      "Average V value: 0.10188649694817876\n",
      "Running iteration 17...\n",
      "runtime = 0.01 seconds\n",
      "Elapsed time:  0.01378008299980138\n",
      "Average V value: 0.10188649694817876\n",
      "Running iteration 18...\n",
      "runtime = 0.01 seconds\n",
      "Elapsed time:  0.013660749998962274\n",
      "Average V value: 0.10188649694817876\n",
      "Running iteration 19...\n",
      "runtime = 0.01 seconds\n",
      "Elapsed time:  0.013803874999211985\n",
      "Average V value: 0.10188649694817876\n",
      "Running iteration 20...\n",
      "runtime = 0.01 seconds\n",
      "Elapsed time:  0.013735750000705593\n",
      "Average V value: 0.10188649694817876\n",
      "Running iteration 21...\n",
      "runtime = 0.01 seconds\n",
      "Elapsed time:  0.013653665999299847\n",
      "Average V value: 0.10188649694817876\n",
      "Running iteration 22...\n",
      "runtime = 0.01 seconds\n",
      "Elapsed time:  0.013631667001391179\n",
      "Average V value: 0.10188649694817876\n",
      "Running iteration 23...\n",
      "runtime = 0.01 seconds\n",
      "Elapsed time:  0.014202207999915117\n",
      "Average V value: 0.10188649694817876\n",
      "Running iteration 24...\n",
      "runtime = 0.01 seconds\n",
      "Elapsed time:  0.013861499999620719\n",
      "Average V value: 0.10188649694817876\n",
      "Running iteration 25...\n",
      "runtime = 0.01 seconds\n",
      "Elapsed time:  0.01376137499937613\n",
      "Average V value: 0.10188649694817876\n",
      "Running iteration 26...\n",
      "runtime = 0.01 seconds\n",
      "Elapsed time:  0.01382658399961656\n",
      "Average V value: 0.10188649694817876\n",
      "Running iteration 27...\n",
      "runtime = 0.01 seconds\n",
      "Elapsed time:  0.013897874998292536\n",
      "Average V value: 0.10188649694817876\n",
      "Running iteration 28...\n",
      "runtime = 0.01 seconds\n",
      "Elapsed time:  0.014122999999017338\n",
      "Average V value: 0.10188649694817876\n",
      "Running iteration 29...\n",
      "runtime = 0.01 seconds\n",
      "Elapsed time:  0.013548332999562263\n",
      "Average V value: 0.10188649694817876\n",
      "Running iteration 30...\n",
      "runtime = 0.01 seconds\n",
      "Elapsed time:  0.014505249999274383\n",
      "Average V value: 0.10188649694817876\n",
      "Running iteration 31...\n",
      "runtime = 0.01 seconds\n",
      "Elapsed time:  0.013900207999540726\n",
      "Average V value: 0.10188649694817876\n",
      "Running iteration 32...\n",
      "runtime = 0.01 seconds\n",
      "Elapsed time:  0.013968666000437224\n",
      "Average V value: 0.10188649694817876\n",
      "Running iteration 33...\n",
      "runtime = 0.01 seconds\n",
      "Elapsed time:  0.014330124999105465\n",
      "Average V value: 0.10188649694817876\n",
      "Running iteration 34...\n",
      "runtime = 0.01 seconds\n",
      "Elapsed time:  0.01461787500011269\n",
      "Average V value: 0.10188649694817876\n",
      "Running iteration 35...\n",
      "runtime = 0.01 seconds\n",
      "Elapsed time:  0.014062207999813836\n",
      "Average V value: 0.10188649694817876\n",
      "Running iteration 36...\n",
      "runtime = 0.01 seconds\n",
      "Elapsed time:  0.014395041998795932\n",
      "Average V value: 0.10188649694817876\n",
      "Running iteration 37...\n",
      "runtime = 0.01 seconds\n",
      "Elapsed time:  0.014787250000154017\n",
      "Average V value: 0.10188649694817876\n",
      "Running iteration 38...\n",
      "runtime = 0.01 seconds\n",
      "Elapsed time:  0.014281415998993907\n",
      "Average V value: 0.10188649694817876\n",
      "Running iteration 39...\n",
      "runtime = 0.01 seconds\n",
      "Elapsed time:  0.013954750000266358\n",
      "Average V value: 0.10188649694817876\n",
      "Running iteration 40...\n",
      "runtime = 0.02 seconds\n",
      "Elapsed time:  0.015099457999895094\n",
      "Average V value: 0.10188649694817876\n",
      "Running iteration 41...\n",
      "runtime = 0.01 seconds\n",
      "Elapsed time:  0.014786708999963594\n",
      "Average V value: 0.10188649694817876\n",
      "Running iteration 42...\n",
      "runtime = 0.01 seconds\n",
      "Elapsed time:  0.014413832999707665\n",
      "Average V value: 0.10188649694817876\n",
      "Running iteration 43...\n",
      "runtime = 0.01 seconds\n",
      "Elapsed time:  0.014027083001565188\n",
      "Average V value: 0.10188649694817876\n",
      "Running iteration 44...\n",
      "runtime = 0.01 seconds\n",
      "Elapsed time:  0.013968708999527735\n",
      "Average V value: 0.10188649694817876\n",
      "Running iteration 45...\n",
      "runtime = 0.01 seconds\n",
      "Elapsed time:  0.014075708999371273\n",
      "Average V value: 0.10188649694817876\n",
      "Running iteration 46...\n",
      "runtime = 0.01 seconds\n",
      "Elapsed time:  0.01417970799957402\n",
      "Average V value: 0.10188649694817876\n",
      "Running iteration 47...\n",
      "runtime = 0.01 seconds\n",
      "Elapsed time:  0.013865458000509534\n",
      "Average V value: 0.10188649694817876\n",
      "Running iteration 48...\n",
      "runtime = 0.01 seconds\n",
      "Elapsed time:  0.013777915999526158\n",
      "Average V value: 0.10188649694817876\n",
      "Running iteration 49...\n",
      "runtime = 0.01 seconds\n",
      "Elapsed time:  0.014014584001415642\n",
      "Average V value: 0.10188649694817876\n",
      "Running iteration 50...\n",
      "runtime = 0.01 seconds\n",
      "Elapsed time:  0.013977124999655643\n",
      "Average V value: 0.10188649694817876\n",
      "Running iteration 51...\n",
      "runtime = 0.01 seconds\n",
      "Elapsed time:  0.013799291000395897\n",
      "Average V value: 0.10188649694817876\n",
      "Running iteration 52...\n",
      "runtime = 0.01 seconds\n",
      "Elapsed time:  0.013725459000852425\n",
      "Average V value: 0.10188649694817876\n",
      "Running iteration 53...\n",
      "runtime = 0.01 seconds\n",
      "Elapsed time:  0.013788917000056244\n",
      "Average V value: 0.10188649694817876\n",
      "Running iteration 54...\n",
      "runtime = 0.01 seconds\n",
      "Elapsed time:  0.01444837500093854\n",
      "Average V value: 0.10188649694817876\n",
      "Running iteration 55...\n",
      "runtime = 0.01 seconds\n",
      "Elapsed time:  0.01389779099918087\n",
      "Average V value: 0.10188649694817876\n",
      "Running iteration 56...\n",
      "runtime = 0.01 seconds\n",
      "Elapsed time:  0.013886624999940977\n",
      "Average V value: 0.10188649694817876\n",
      "Running iteration 57...\n",
      "runtime = 0.01 seconds\n",
      "Elapsed time:  0.01385649999974703\n",
      "Average V value: 0.10188649694817876\n",
      "Running iteration 58...\n",
      "runtime = 0.01 seconds\n",
      "Elapsed time:  0.013742625000304542\n",
      "Average V value: 0.10188649694817876\n",
      "Running iteration 59...\n",
      "runtime = 0.01 seconds\n",
      "Elapsed time:  0.013751750000665197\n",
      "Average V value: 0.10188649694817876\n",
      "Running iteration 60...\n",
      "runtime = 0.01 seconds\n",
      "Elapsed time:  0.0137217920000694\n",
      "Average V value: 0.10188649694817876\n",
      "Running iteration 61...\n",
      "runtime = 0.01 seconds\n",
      "Elapsed time:  0.013691291998839006\n",
      "Average V value: 0.10188649694817876\n",
      "Running iteration 62...\n",
      "runtime = 0.01 seconds\n",
      "Elapsed time:  0.013992124999276712\n",
      "Average V value: 0.10188649694817876\n",
      "Running iteration 63...\n",
      "runtime = 0.01 seconds\n",
      "Elapsed time:  0.013686082998901838\n",
      "Average V value: 0.10188649694817876\n",
      "Running iteration 64...\n",
      "runtime = 0.01 seconds\n",
      "Elapsed time:  0.013852000000042608\n",
      "Average V value: 0.10188649694817876\n",
      "Running iteration 65...\n",
      "runtime = 0.01 seconds\n",
      "Elapsed time:  0.013947292000011657\n",
      "Average V value: 0.10188649694817876\n",
      "Running iteration 66...\n",
      "runtime = 0.01 seconds\n",
      "Elapsed time:  0.013620749999972759\n",
      "Average V value: 0.10188649694817876\n",
      "Running iteration 67...\n",
      "runtime = 0.01 seconds\n",
      "Elapsed time:  0.014721040999575052\n",
      "Average V value: 0.10188649694817876\n",
      "Running iteration 68...\n",
      "runtime = 0.01 seconds\n",
      "Elapsed time:  0.013888957999370177\n",
      "Average V value: 0.10188649694817876\n",
      "Running iteration 69...\n",
      "runtime = 0.01 seconds\n",
      "Elapsed time:  0.014481541998975445\n",
      "Average V value: 0.10188649694817876\n",
      "Running iteration 70...\n",
      "runtime = 0.01 seconds\n",
      "Elapsed time:  0.013909249999414897\n",
      "Average V value: 0.10188649694817876\n",
      "Running iteration 71...\n",
      "runtime = 0.01 seconds\n",
      "Elapsed time:  0.013913791999584646\n",
      "Average V value: 0.10188649694817876\n",
      "Running iteration 72...\n",
      "runtime = 0.01 seconds\n",
      "Elapsed time:  0.013715958999455324\n",
      "Average V value: 0.10188649694817876\n",
      "Running iteration 73...\n",
      "runtime = 0.01 seconds\n",
      "Elapsed time:  0.013821041999108274\n",
      "Average V value: 0.10188649694817876\n",
      "Running iteration 74...\n",
      "runtime = 0.01 seconds\n",
      "Elapsed time:  0.013981957999931183\n",
      "Average V value: 0.10188649694817876\n",
      "Running iteration 75...\n",
      "runtime = 0.01 seconds\n",
      "Elapsed time:  0.014491834001091775\n",
      "Average V value: 0.10188649694817876\n",
      "Running iteration 76...\n",
      "runtime = 0.01 seconds\n",
      "Elapsed time:  0.013841333000527811\n",
      "Average V value: 0.10188649694817876\n",
      "Running iteration 77...\n",
      "runtime = 0.01 seconds\n",
      "Elapsed time:  0.013576499999544467\n",
      "Average V value: 0.10188649694817876\n",
      "Running iteration 78...\n",
      "runtime = 0.01 seconds\n",
      "Elapsed time:  0.013691874999494758\n",
      "Average V value: 0.10188649694817876\n",
      "Running iteration 79...\n",
      "runtime = 0.01 seconds\n",
      "Elapsed time:  0.014454583999395254\n",
      "Average V value: 0.10188649694817876\n",
      "Running iteration 80...\n",
      "runtime = 0.01 seconds\n",
      "Elapsed time:  0.013680582998858881\n",
      "Average V value: 0.10188649694817876\n",
      "Running iteration 81...\n"
     ]
    },
    {
     "name": "stdout",
     "output_type": "stream",
     "text": [
      "runtime = 0.01 seconds\n",
      "Elapsed time:  0.014938708000045153\n",
      "Average V value: 0.10188649694817876\n",
      "Running iteration 82...\n",
      "runtime = 0.01 seconds\n",
      "Elapsed time:  0.014234541000405443\n",
      "Average V value: 0.10188649694817876\n",
      "Running iteration 83...\n",
      "runtime = 0.01 seconds\n",
      "Elapsed time:  0.014698083001349005\n",
      "Average V value: 0.10188649694817876\n",
      "Running iteration 84...\n",
      "runtime = 0.02 seconds\n",
      "Elapsed time:  0.01511137499983306\n",
      "Average V value: 0.10188649694817876\n",
      "Running iteration 85...\n",
      "runtime = 0.01 seconds\n",
      "Elapsed time:  0.013646666999193258\n",
      "Average V value: 0.10188649694817876\n",
      "Running iteration 86...\n",
      "runtime = 0.01 seconds\n",
      "Elapsed time:  0.013669916999788256\n",
      "Average V value: 0.10188649694817876\n",
      "Running iteration 87...\n",
      "runtime = 0.01 seconds\n",
      "Elapsed time:  0.013651625000420609\n",
      "Average V value: 0.10188649694817876\n",
      "Running iteration 88...\n",
      "runtime = 0.01 seconds\n",
      "Elapsed time:  0.013725000000704313\n",
      "Average V value: 0.10188649694817876\n",
      "Running iteration 89...\n",
      "runtime = 0.01 seconds\n",
      "Elapsed time:  0.013699832999918726\n",
      "Average V value: 0.10188649694817876\n",
      "Running iteration 90...\n",
      "runtime = 0.01 seconds\n",
      "Elapsed time:  0.013700499999686144\n",
      "Average V value: 0.10188649694817876\n",
      "Running iteration 91...\n",
      "runtime = 0.01 seconds\n",
      "Elapsed time:  0.013925208000728162\n",
      "Average V value: 0.10188649694817876\n",
      "Running iteration 92...\n",
      "runtime = 0.01 seconds\n",
      "Elapsed time:  0.01400058400031412\n",
      "Average V value: 0.10188649694817876\n",
      "Running iteration 93...\n",
      "runtime = 0.01 seconds\n",
      "Elapsed time:  0.01460979199873691\n",
      "Average V value: 0.10188649694817876\n",
      "Running iteration 94...\n",
      "runtime = 0.01 seconds\n",
      "Elapsed time:  0.01449404100094398\n",
      "Average V value: 0.10188649694817876\n",
      "Running iteration 95...\n",
      "runtime = 0.01 seconds\n",
      "Elapsed time:  0.013924834000135888\n",
      "Average V value: 0.10188649694817876\n",
      "Running iteration 96...\n",
      "runtime = 0.01 seconds\n",
      "Elapsed time:  0.014229333000912447\n",
      "Average V value: 0.10188649694817876\n",
      "Running iteration 97...\n",
      "runtime = 0.01 seconds\n",
      "Elapsed time:  0.013723750000281143\n",
      "Average V value: 0.10188649694817876\n",
      "Running iteration 98...\n",
      "runtime = 0.01 seconds\n",
      "Elapsed time:  0.01389845900121145\n",
      "Average V value: 0.10188649694817876\n",
      "Running iteration 99...\n",
      "runtime = 0.01 seconds\n",
      "Elapsed time:  0.0137359580003249\n",
      "Average V value: 0.10188649694817876\n",
      "Running iteration 100...\n",
      "runtime = 0.01 seconds\n",
      "Elapsed time:  0.013760541000010562\n",
      "Average V value: 0.10188649694817876\n"
     ]
    }
   ],
   "source": [
    "\"\"\"\n",
    "From above the best hyperparameters are:\n",
    "gamma = 0.01\n",
    "theta = 0.1\n",
    "n_iters = 1000\n",
    "\n",
    "Want to perform Value Iteration with these parameters now vs number of iterations.\n",
    "\"\"\"\n",
    "gamma = -0.05\n",
    "theta = 1e-12\n",
    "n_iters_list = [1]\n",
    "iterations = 100\n",
    "splits = 100 / iterations\n",
    "for i in range(1, iterations + 1):\n",
    "    n_iters_list.append(int(i * splits))\n",
    "\n",
    "\n",
    "mean_v_values_vi = []\n",
    "wall_clock_times_vi = []\n",
    "    \n",
    "for n_iters in n_iters_list:\n",
    "    print(f\"Running iteration {n_iters}...\")\n",
    "    black_jack = Blackjack()\n",
    "    t1_start = perf_counter() \n",
    "    V, V_track, pi = Planner(black_jack.P).value_iteration(gamma=gamma, n_iters=n_iters, theta=theta)\n",
    "    t1_stop = perf_counter()\n",
    " \n",
    "    print(\"Elapsed time: \", t1_stop - t1_start) \n",
    "    average_v = np.average(V)\n",
    "    print(f\"Average V value: {average_v}\")\n",
    "    \n",
    "    mean_v_values_vi.append(average_v)\n",
    "    wall_clock_times_vi.append(t1_stop - t1_start)\n"
   ]
  },
  {
   "cell_type": "code",
   "execution_count": 89,
   "id": "d6c0c79f",
   "metadata": {},
   "outputs": [
    {
     "name": "stdout",
     "output_type": "stream",
     "text": [
      "running -- with Discount Factor:  1.0  Convergence Criterion:  0.1  Iterations:  1000\n",
      "runtime = 0.20 seconds\n",
      "V AVERAGE: 0.07972735881862059\n",
      "running -- with Discount Factor:  1.0  Convergence Criterion:  0.1  Iterations:  10000\n",
      "runtime = 0.19 seconds\n",
      "V AVERAGE: 0.07979230814127417\n",
      "running -- with Discount Factor:  1.0  Convergence Criterion:  0.1  Iterations:  50000\n",
      "runtime = 0.18 seconds\n",
      "V AVERAGE: 0.07979206811256438\n",
      "running -- with Discount Factor:  1.0  Convergence Criterion:  0.1  Iterations:  100000\n",
      "runtime = 0.19 seconds\n",
      "V AVERAGE: 0.0797917874497137\n",
      "running -- with Discount Factor:  1.0  Convergence Criterion:  0.01  Iterations:  1000\n",
      "runtime = 0.20 seconds\n",
      "V AVERAGE: 0.07977966817113116\n",
      "running -- with Discount Factor:  1.0  Convergence Criterion:  0.01  Iterations:  10000\n",
      "runtime = 0.22 seconds\n",
      "V AVERAGE: 0.07979421511871601\n",
      "running -- with Discount Factor:  1.0  Convergence Criterion:  0.01  Iterations:  50000\n",
      "runtime = 0.22 seconds\n",
      "V AVERAGE: 0.07979420627796653\n",
      "running -- with Discount Factor:  1.0  Convergence Criterion:  0.01  Iterations:  100000\n",
      "runtime = 0.22 seconds\n",
      "V AVERAGE: 0.07979190838349513\n",
      "running -- with Discount Factor:  1.0  Convergence Criterion:  0.001  Iterations:  1000\n",
      "runtime = 0.23 seconds\n",
      "V AVERAGE: 0.07979206277375418\n",
      "running -- with Discount Factor:  1.0  Convergence Criterion:  0.001  Iterations:  10000\n",
      "runtime = 0.21 seconds\n",
      "V AVERAGE: 0.07979204620723206\n",
      "running -- with Discount Factor:  1.0  Convergence Criterion:  0.001  Iterations:  50000\n",
      "runtime = 0.24 seconds\n",
      "V AVERAGE: 0.07979431071537887\n",
      "running -- with Discount Factor:  1.0  Convergence Criterion:  0.001  Iterations:  100000\n",
      "runtime = 0.25 seconds\n",
      "V AVERAGE: 0.07979206278325852\n",
      "running -- with Discount Factor:  1.0  Convergence Criterion:  1e-05  Iterations:  1000\n",
      "runtime = 0.32 seconds\n",
      "V AVERAGE: 0.07979431404975125\n",
      "running -- with Discount Factor:  1.0  Convergence Criterion:  1e-05  Iterations:  10000\n",
      "runtime = 0.29 seconds\n",
      "V AVERAGE: 0.07979431433212011\n",
      "running -- with Discount Factor:  1.0  Convergence Criterion:  1e-05  Iterations:  50000\n",
      "runtime = 0.30 seconds\n",
      "V AVERAGE: 0.07979431404975125\n",
      "running -- with Discount Factor:  1.0  Convergence Criterion:  1e-05  Iterations:  100000\n",
      "runtime = 0.32 seconds\n",
      "V AVERAGE: 0.07979431404975125\n",
      "running -- with Discount Factor:  1.0  Convergence Criterion:  1e-10  Iterations:  1000\n",
      "runtime = 0.44 seconds\n",
      "V AVERAGE: 0.07979431433354782\n",
      "running -- with Discount Factor:  1.0  Convergence Criterion:  1e-10  Iterations:  10000\n",
      "runtime = 0.42 seconds\n",
      "V AVERAGE: 0.07979431433354782\n",
      "running -- with Discount Factor:  1.0  Convergence Criterion:  1e-10  Iterations:  50000\n",
      "runtime = 0.34 seconds\n",
      "V AVERAGE: 0.07979431433354772\n",
      "running -- with Discount Factor:  1.0  Convergence Criterion:  1e-10  Iterations:  100000\n",
      "runtime = 0.38 seconds\n",
      "V AVERAGE: 0.07979431433354782\n",
      "running -- with Discount Factor:  0.5  Convergence Criterion:  0.1  Iterations:  1000\n",
      "runtime = 0.12 seconds\n",
      "V AVERAGE: 0.08891873120067931\n",
      "running -- with Discount Factor:  0.5  Convergence Criterion:  0.1  Iterations:  10000\n",
      "runtime = 0.12 seconds\n",
      "V AVERAGE: 0.08901296089501864\n",
      "running -- with Discount Factor:  0.5  Convergence Criterion:  0.1  Iterations:  50000\n",
      "runtime = 0.12 seconds\n",
      "V AVERAGE: 0.08885482794541305\n",
      "running -- with Discount Factor:  0.5  Convergence Criterion:  0.1  Iterations:  100000\n",
      "runtime = 0.13 seconds\n",
      "V AVERAGE: 0.08872534768670323\n",
      "running -- with Discount Factor:  0.5  Convergence Criterion:  0.01  Iterations:  1000\n",
      "runtime = 0.15 seconds\n",
      "V AVERAGE: 0.08917457860627795\n",
      "running -- with Discount Factor:  0.5  Convergence Criterion:  0.01  Iterations:  10000\n",
      "runtime = 0.16 seconds\n",
      "V AVERAGE: 0.08916623410494369\n",
      "running -- with Discount Factor:  0.5  Convergence Criterion:  0.01  Iterations:  50000\n",
      "runtime = 0.15 seconds\n",
      "V AVERAGE: 0.0891616065219403\n",
      "running -- with Discount Factor:  0.5  Convergence Criterion:  0.01  Iterations:  100000\n",
      "runtime = 0.16 seconds\n",
      "V AVERAGE: 0.08916431073705981\n",
      "running -- with Discount Factor:  0.5  Convergence Criterion:  0.001  Iterations:  1000\n",
      "runtime = 0.17 seconds\n",
      "V AVERAGE: 0.08919066547984977\n",
      "running -- with Discount Factor:  0.5  Convergence Criterion:  0.001  Iterations:  10000\n",
      "runtime = 0.17 seconds\n",
      "V AVERAGE: 0.08919025171433916\n",
      "running -- with Discount Factor:  0.5  Convergence Criterion:  0.001  Iterations:  50000\n",
      "runtime = 0.18 seconds\n",
      "V AVERAGE: 0.08919006377570374\n",
      "running -- with Discount Factor:  0.5  Convergence Criterion:  0.001  Iterations:  100000\n",
      "runtime = 0.18 seconds\n",
      "V AVERAGE: 0.08919058044732028\n",
      "running -- with Discount Factor:  0.5  Convergence Criterion:  1e-05  Iterations:  1000\n",
      "runtime = 0.22 seconds\n",
      "V AVERAGE: 0.08919108219357111\n",
      "running -- with Discount Factor:  0.5  Convergence Criterion:  1e-05  Iterations:  10000\n",
      "runtime = 0.22 seconds\n",
      "V AVERAGE: 0.08919108234025953\n",
      "running -- with Discount Factor:  0.5  Convergence Criterion:  1e-05  Iterations:  50000\n",
      "runtime = 0.23 seconds\n",
      "V AVERAGE: 0.08919108137416658\n",
      "running -- with Discount Factor:  0.5  Convergence Criterion:  1e-05  Iterations:  100000\n",
      "runtime = 0.24 seconds\n",
      "V AVERAGE: 0.08919108228339005\n",
      "running -- with Discount Factor:  0.5  Convergence Criterion:  1e-10  Iterations:  1000\n",
      "runtime = 0.30 seconds\n",
      "V AVERAGE: 0.08919108287374554\n",
      "running -- with Discount Factor:  0.5  Convergence Criterion:  1e-10  Iterations:  10000\n",
      "runtime = 0.30 seconds\n",
      "V AVERAGE: 0.08919108287374554\n",
      "running -- with Discount Factor:  0.5  Convergence Criterion:  1e-10  Iterations:  50000\n",
      "runtime = 0.30 seconds\n",
      "V AVERAGE: 0.08919108287374554\n",
      "running -- with Discount Factor:  0.5  Convergence Criterion:  1e-10  Iterations:  100000\n",
      "runtime = 0.31 seconds\n",
      "V AVERAGE: 0.08919108287374558\n",
      "running -- with Discount Factor:  0.1  Convergence Criterion:  0.1  Iterations:  1000\n",
      "runtime = 0.09 seconds\n",
      "V AVERAGE: 0.09839289768163664\n",
      "running -- with Discount Factor:  0.1  Convergence Criterion:  0.1  Iterations:  10000\n",
      "runtime = 0.10 seconds\n",
      "V AVERAGE: 0.09840028478923792\n",
      "running -- with Discount Factor:  0.1  Convergence Criterion:  0.1  Iterations:  50000\n",
      "runtime = 0.11 seconds\n",
      "V AVERAGE: 0.09841001970568965\n",
      "running -- with Discount Factor:  0.1  Convergence Criterion:  0.1  Iterations:  100000\n",
      "runtime = 0.10 seconds\n",
      "V AVERAGE: 0.09840245535881988\n",
      "running -- with Discount Factor:  0.1  Convergence Criterion:  0.01  Iterations:  1000\n",
      "runtime = 0.12 seconds\n",
      "V AVERAGE: 0.09841614490958209\n",
      "running -- with Discount Factor:  0.1  Convergence Criterion:  0.01  Iterations:  10000\n",
      "runtime = 0.12 seconds\n",
      "V AVERAGE: 0.09841571522870213\n",
      "running -- with Discount Factor:  0.1  Convergence Criterion:  0.01  Iterations:  50000\n",
      "runtime = 0.12 seconds\n",
      "V AVERAGE: 0.09841614461017911\n",
      "running -- with Discount Factor:  0.1  Convergence Criterion:  0.01  Iterations:  100000\n",
      "runtime = 0.13 seconds\n",
      "V AVERAGE: 0.09841571527763675\n",
      "running -- with Discount Factor:  0.1  Convergence Criterion:  0.001  Iterations:  1000\n",
      "runtime = 0.14 seconds\n",
      "V AVERAGE: 0.09841614540341612\n",
      "running -- with Discount Factor:  0.1  Convergence Criterion:  0.001  Iterations:  10000\n",
      "runtime = 0.14 seconds\n",
      "V AVERAGE: 0.09841571621709329\n",
      "running -- with Discount Factor:  0.1  Convergence Criterion:  0.001  Iterations:  50000\n",
      "runtime = 0.14 seconds\n",
      "V AVERAGE: 0.0984157162206874\n",
      "running -- with Discount Factor:  0.1  Convergence Criterion:  0.001  Iterations:  100000\n",
      "runtime = 0.14 seconds\n",
      "V AVERAGE: 0.0984161454026593\n",
      "running -- with Discount Factor:  0.1  Convergence Criterion:  1e-05  Iterations:  1000\n",
      "runtime = 0.17 seconds\n",
      "V AVERAGE: 0.09841643371660089\n",
      "running -- with Discount Factor:  0.1  Convergence Criterion:  1e-05  Iterations:  10000\n",
      "runtime = 0.17 seconds\n",
      "V AVERAGE: 0.09841643366223791\n",
      "running -- with Discount Factor:  0.1  Convergence Criterion:  1e-05  Iterations:  50000\n",
      "runtime = 0.17 seconds\n",
      "V AVERAGE: 0.09841643366223791\n",
      "running -- with Discount Factor:  0.1  Convergence Criterion:  1e-05  Iterations:  100000\n",
      "runtime = 0.18 seconds\n",
      "V AVERAGE: 0.09841643371660089\n",
      "running -- with Discount Factor:  0.1  Convergence Criterion:  1e-10  Iterations:  1000\n",
      "runtime = 0.24 seconds\n",
      "V AVERAGE: 0.09841643376663073\n",
      "running -- with Discount Factor:  0.1  Convergence Criterion:  1e-10  Iterations:  10000\n"
     ]
    },
    {
     "name": "stdout",
     "output_type": "stream",
     "text": [
      "runtime = 0.25 seconds\n",
      "V AVERAGE: 0.09841643376662856\n",
      "running -- with Discount Factor:  0.1  Convergence Criterion:  1e-10  Iterations:  50000\n",
      "runtime = 0.24 seconds\n",
      "V AVERAGE: 0.09841643376662856\n",
      "running -- with Discount Factor:  0.1  Convergence Criterion:  1e-10  Iterations:  100000\n",
      "runtime = 0.24 seconds\n",
      "V AVERAGE: 0.09841643376662856\n",
      "running -- with Discount Factor:  0.04  Convergence Criterion:  0.1  Iterations:  1000\n",
      "runtime = 0.09 seconds\n",
      "V AVERAGE: 0.0998211798352503\n",
      "running -- with Discount Factor:  0.04  Convergence Criterion:  0.1  Iterations:  10000\n",
      "runtime = 0.10 seconds\n",
      "V AVERAGE: 0.09982064173883556\n",
      "running -- with Discount Factor:  0.04  Convergence Criterion:  0.1  Iterations:  50000\n",
      "runtime = 0.10 seconds\n",
      "V AVERAGE: 0.09982064232782306\n",
      "running -- with Discount Factor:  0.04  Convergence Criterion:  0.1  Iterations:  100000\n",
      "runtime = 0.10 seconds\n",
      "V AVERAGE: 0.09982061825510204\n",
      "running -- with Discount Factor:  0.04  Convergence Criterion:  0.01  Iterations:  1000\n",
      "runtime = 0.12 seconds\n",
      "V AVERAGE: 0.09982275595027323\n",
      "running -- with Discount Factor:  0.04  Convergence Criterion:  0.01  Iterations:  10000\n",
      "runtime = 0.11 seconds\n",
      "V AVERAGE: 0.09982122533930227\n",
      "running -- with Discount Factor:  0.04  Convergence Criterion:  0.01  Iterations:  50000\n",
      "runtime = 0.09 seconds\n",
      "V AVERAGE: 0.09982232077201958\n",
      "running -- with Discount Factor:  0.04  Convergence Criterion:  0.01  Iterations:  100000\n",
      "runtime = 0.09 seconds\n",
      "V AVERAGE: 0.09982236343184601\n",
      "running -- with Discount Factor:  0.04  Convergence Criterion:  0.001  Iterations:  1000\n",
      "runtime = 0.12 seconds\n",
      "V AVERAGE: 0.09982275595230511\n",
      "running -- with Discount Factor:  0.04  Convergence Criterion:  0.001  Iterations:  10000\n",
      "runtime = 0.12 seconds\n",
      "V AVERAGE: 0.09982278269532636\n",
      "running -- with Discount Factor:  0.04  Convergence Criterion:  0.001  Iterations:  50000\n",
      "runtime = 0.09 seconds\n",
      "V AVERAGE: 0.09982226501436321\n",
      "running -- with Discount Factor:  0.04  Convergence Criterion:  0.001  Iterations:  100000\n",
      "runtime = 0.13 seconds\n",
      "V AVERAGE: 0.09982276797276542\n",
      "running -- with Discount Factor:  0.04  Convergence Criterion:  1e-05  Iterations:  1000\n",
      "runtime = 0.10 seconds\n",
      "V AVERAGE: 0.09982279180551216\n",
      "running -- with Discount Factor:  0.04  Convergence Criterion:  1e-05  Iterations:  10000\n",
      "runtime = 0.15 seconds\n",
      "V AVERAGE: 0.09982279452353855\n",
      "running -- with Discount Factor:  0.04  Convergence Criterion:  1e-05  Iterations:  50000\n",
      "runtime = 0.15 seconds\n",
      "V AVERAGE: 0.0998227945235385\n",
      "running -- with Discount Factor:  0.04  Convergence Criterion:  1e-05  Iterations:  100000\n",
      "runtime = 0.11 seconds\n",
      "V AVERAGE: 0.09982279368076764\n",
      "running -- with Discount Factor:  0.04  Convergence Criterion:  1e-10  Iterations:  1000\n",
      "runtime = 0.21 seconds\n",
      "V AVERAGE: 0.09982279472278571\n",
      "running -- with Discount Factor:  0.04  Convergence Criterion:  1e-10  Iterations:  10000\n",
      "runtime = 0.21 seconds\n",
      "V AVERAGE: 0.09982279472278845\n",
      "running -- with Discount Factor:  0.04  Convergence Criterion:  1e-10  Iterations:  50000\n",
      "runtime = 0.15 seconds\n",
      "V AVERAGE: 0.09982279472278867\n",
      "running -- with Discount Factor:  0.04  Convergence Criterion:  1e-10  Iterations:  100000\n",
      "runtime = 0.16 seconds\n",
      "V AVERAGE: 0.09982279472278868\n",
      "running -- with Discount Factor:  0.01  Convergence Criterion:  0.1  Iterations:  1000\n",
      "runtime = 0.07 seconds\n",
      "V AVERAGE: 0.10051243185945183\n",
      "running -- with Discount Factor:  0.01  Convergence Criterion:  0.1  Iterations:  10000\n",
      "runtime = 0.07 seconds\n",
      "V AVERAGE: 0.10051254567362289\n",
      "running -- with Discount Factor:  0.01  Convergence Criterion:  0.1  Iterations:  50000\n",
      "runtime = 0.07 seconds\n",
      "V AVERAGE: 0.10051364282674036\n",
      "running -- with Discount Factor:  0.01  Convergence Criterion:  0.1  Iterations:  100000\n",
      "runtime = 0.07 seconds\n",
      "V AVERAGE: 0.1005118481553045\n",
      "running -- with Discount Factor:  0.01  Convergence Criterion:  0.01  Iterations:  1000\n",
      "runtime = 0.07 seconds\n",
      "V AVERAGE: 0.10051243111254143\n",
      "running -- with Discount Factor:  0.01  Convergence Criterion:  0.01  Iterations:  10000\n",
      "runtime = 0.07 seconds\n",
      "V AVERAGE: 0.1005128679306575\n",
      "running -- with Discount Factor:  0.01  Convergence Criterion:  0.01  Iterations:  50000\n",
      "runtime = 0.07 seconds\n",
      "V AVERAGE: 0.1005122305533476\n",
      "running -- with Discount Factor:  0.01  Convergence Criterion:  0.01  Iterations:  100000\n",
      "runtime = 0.07 seconds\n",
      "V AVERAGE: 0.10051133661098835\n",
      "running -- with Discount Factor:  0.01  Convergence Criterion:  0.001  Iterations:  1000\n",
      "runtime = 0.09 seconds\n",
      "V AVERAGE: 0.10051740231060098\n",
      "running -- with Discount Factor:  0.01  Convergence Criterion:  0.001  Iterations:  10000\n",
      "runtime = 0.09 seconds\n",
      "V AVERAGE: 0.1005173982397403\n",
      "running -- with Discount Factor:  0.01  Convergence Criterion:  0.001  Iterations:  50000\n",
      "runtime = 0.09 seconds\n",
      "V AVERAGE: 0.10051739776042543\n",
      "running -- with Discount Factor:  0.01  Convergence Criterion:  0.001  Iterations:  100000\n",
      "runtime = 0.09 seconds\n",
      "V AVERAGE: 0.10051739750632498\n",
      "running -- with Discount Factor:  0.01  Convergence Criterion:  1e-05  Iterations:  1000\n",
      "runtime = 0.10 seconds\n",
      "V AVERAGE: 0.10051740873634886\n",
      "running -- with Discount Factor:  0.01  Convergence Criterion:  1e-05  Iterations:  10000\n",
      "runtime = 0.11 seconds\n",
      "V AVERAGE: 0.10051740873476132\n",
      "running -- with Discount Factor:  0.01  Convergence Criterion:  1e-05  Iterations:  50000\n",
      "runtime = 0.11 seconds\n",
      "V AVERAGE: 0.10051740873695318\n",
      "running -- with Discount Factor:  0.01  Convergence Criterion:  1e-05  Iterations:  100000\n",
      "runtime = 0.11 seconds\n",
      "V AVERAGE: 0.10051740873605042\n",
      "running -- with Discount Factor:  0.01  Convergence Criterion:  1e-10  Iterations:  1000\n",
      "runtime = 0.13 seconds\n",
      "V AVERAGE: 0.10051740874742168\n",
      "running -- with Discount Factor:  0.01  Convergence Criterion:  1e-10  Iterations:  10000\n",
      "runtime = 0.13 seconds\n",
      "V AVERAGE: 0.10051740874742167\n",
      "running -- with Discount Factor:  0.01  Convergence Criterion:  1e-10  Iterations:  50000\n",
      "runtime = 0.14 seconds\n",
      "V AVERAGE: 0.10051740874742168\n",
      "running -- with Discount Factor:  0.01  Convergence Criterion:  1e-10  Iterations:  100000\n",
      "runtime = 0.14 seconds\n",
      "V AVERAGE: 0.10051740874742167\n",
      "running -- with Discount Factor:  -0.04  Convergence Criterion:  0.1  Iterations:  1000\n",
      "runtime = 0.07 seconds\n",
      "V AVERAGE: 0.10158478881241363\n",
      "running -- with Discount Factor:  -0.04  Convergence Criterion:  0.1  Iterations:  10000\n",
      "runtime = 0.10 seconds\n",
      "V AVERAGE: 0.10166185237791595\n",
      "running -- with Discount Factor:  -0.04  Convergence Criterion:  0.1  Iterations:  50000\n",
      "runtime = 0.07 seconds\n",
      "V AVERAGE: 0.10157513338010546\n",
      "running -- with Discount Factor:  -0.04  Convergence Criterion:  0.1  Iterations:  100000\n",
      "runtime = 0.07 seconds\n",
      "V AVERAGE: 0.10156784412540609\n",
      "running -- with Discount Factor:  -0.04  Convergence Criterion:  0.01  Iterations:  1000\n",
      "runtime = 0.12 seconds\n",
      "V AVERAGE: 0.10166013288789176\n",
      "running -- with Discount Factor:  -0.04  Convergence Criterion:  0.01  Iterations:  10000\n",
      "runtime = 0.09 seconds\n",
      "V AVERAGE: 0.10166074788619366\n",
      "running -- with Discount Factor:  -0.04  Convergence Criterion:  0.01  Iterations:  50000\n",
      "runtime = 0.09 seconds\n",
      "V AVERAGE: 0.10166064479559864\n",
      "running -- with Discount Factor:  -0.04  Convergence Criterion:  0.01  Iterations:  100000\n",
      "runtime = 0.13 seconds\n",
      "V AVERAGE: 0.10166013288567725\n",
      "running -- with Discount Factor:  -0.04  Convergence Criterion:  0.001  Iterations:  1000\n",
      "runtime = 0.09 seconds\n",
      "V AVERAGE: 0.10166086261111827\n",
      "running -- with Discount Factor:  -0.04  Convergence Criterion:  0.001  Iterations:  10000\n",
      "runtime = 0.09 seconds\n",
      "V AVERAGE: 0.10166085849767963\n",
      "running -- with Discount Factor:  -0.04  Convergence Criterion:  0.001  Iterations:  50000\n",
      "runtime = 0.09 seconds\n",
      "V AVERAGE: 0.10166077364399828\n",
      "running -- with Discount Factor:  -0.04  Convergence Criterion:  0.001  Iterations:  100000\n",
      "runtime = 0.09 seconds\n",
      "V AVERAGE: 0.1016605533241454\n",
      "running -- with Discount Factor:  -0.04  Convergence Criterion:  1e-05  Iterations:  1000\n",
      "runtime = 0.10 seconds\n",
      "V AVERAGE: 0.10166013831660975\n",
      "running -- with Discount Factor:  -0.04  Convergence Criterion:  1e-05  Iterations:  10000\n",
      "runtime = 0.15 seconds\n",
      "V AVERAGE: 0.10166014003399683\n",
      "running -- with Discount Factor:  -0.04  Convergence Criterion:  1e-05  Iterations:  50000\n",
      "runtime = 0.11 seconds\n",
      "V AVERAGE: 0.1016601373329416\n",
      "running -- with Discount Factor:  -0.04  Convergence Criterion:  1e-05  Iterations:  100000\n",
      "runtime = 0.11 seconds\n",
      "V AVERAGE: 0.1016601370702135\n",
      "running -- with Discount Factor:  -0.04  Convergence Criterion:  1e-10  Iterations:  1000\n"
     ]
    },
    {
     "name": "stdout",
     "output_type": "stream",
     "text": [
      "runtime = 0.15 seconds\n",
      "V AVERAGE: 0.101660140015392\n",
      "running -- with Discount Factor:  -0.04  Convergence Criterion:  1e-10  Iterations:  10000\n",
      "runtime = 0.15 seconds\n",
      "V AVERAGE: 0.101660140015392\n",
      "running -- with Discount Factor:  -0.04  Convergence Criterion:  1e-10  Iterations:  50000\n",
      "runtime = 0.16 seconds\n",
      "V AVERAGE: 0.101660140015392\n",
      "running -- with Discount Factor:  -0.04  Convergence Criterion:  1e-10  Iterations:  100000\n",
      "runtime = 0.16 seconds\n",
      "V AVERAGE: 0.10166014001539196\n",
      "running -- with Discount Factor:  -0.5  Convergence Criterion:  0.1  Iterations:  1000\n",
      "runtime = 0.12 seconds\n",
      "V AVERAGE: 0.11141060613484689\n",
      "running -- with Discount Factor:  -0.5  Convergence Criterion:  0.1  Iterations:  10000\n",
      "runtime = 0.13 seconds\n",
      "V AVERAGE: 0.11128166505734229\n",
      "running -- with Discount Factor:  -0.5  Convergence Criterion:  0.1  Iterations:  50000\n",
      "runtime = 0.12 seconds\n",
      "V AVERAGE: 0.111404098697044\n",
      "running -- with Discount Factor:  -0.5  Convergence Criterion:  0.1  Iterations:  100000\n",
      "runtime = 0.13 seconds\n",
      "V AVERAGE: 0.11124232504553702\n",
      "running -- with Discount Factor:  -0.5  Convergence Criterion:  0.01  Iterations:  1000\n",
      "runtime = 0.16 seconds\n",
      "V AVERAGE: 0.11155207274925573\n",
      "running -- with Discount Factor:  -0.5  Convergence Criterion:  0.01  Iterations:  10000\n",
      "runtime = 0.15 seconds\n",
      "V AVERAGE: 0.11156514619160444\n",
      "running -- with Discount Factor:  -0.5  Convergence Criterion:  0.01  Iterations:  50000\n",
      "runtime = 0.19 seconds\n",
      "V AVERAGE: 0.11154283799575838\n",
      "running -- with Discount Factor:  -0.5  Convergence Criterion:  0.01  Iterations:  100000\n",
      "runtime = 0.16 seconds\n",
      "V AVERAGE: 0.11155944609758417\n",
      "running -- with Discount Factor:  -0.5  Convergence Criterion:  0.001  Iterations:  1000\n",
      "runtime = 0.19 seconds\n",
      "V AVERAGE: 0.11154290516715575\n",
      "running -- with Discount Factor:  -0.5  Convergence Criterion:  0.001  Iterations:  10000\n",
      "runtime = 0.19 seconds\n",
      "V AVERAGE: 0.11154350385569306\n",
      "running -- with Discount Factor:  -0.5  Convergence Criterion:  0.001  Iterations:  50000\n",
      "runtime = 0.19 seconds\n",
      "V AVERAGE: 0.11154306460403204\n",
      "running -- with Discount Factor:  -0.5  Convergence Criterion:  0.001  Iterations:  100000\n",
      "runtime = 0.19 seconds\n",
      "V AVERAGE: 0.11154227024335196\n",
      "running -- with Discount Factor:  -0.5  Convergence Criterion:  1e-05  Iterations:  1000\n",
      "runtime = 0.23 seconds\n",
      "V AVERAGE: 0.11154405291605904\n",
      "running -- with Discount Factor:  -0.5  Convergence Criterion:  1e-05  Iterations:  10000\n",
      "runtime = 0.23 seconds\n",
      "V AVERAGE: 0.1115440519394492\n",
      "running -- with Discount Factor:  -0.5  Convergence Criterion:  1e-05  Iterations:  50000\n",
      "runtime = 0.27 seconds\n",
      "V AVERAGE: 0.11154405581551498\n",
      "running -- with Discount Factor:  -0.5  Convergence Criterion:  1e-05  Iterations:  100000\n",
      "runtime = 0.24 seconds\n",
      "V AVERAGE: 0.11154405197000407\n",
      "running -- with Discount Factor:  -0.5  Convergence Criterion:  1e-10  Iterations:  1000\n",
      "runtime = 0.33 seconds\n",
      "V AVERAGE: 0.11154405443035781\n",
      "running -- with Discount Factor:  -0.5  Convergence Criterion:  1e-10  Iterations:  10000\n",
      "runtime = 0.33 seconds\n",
      "V AVERAGE: 0.11154405443035778\n",
      "running -- with Discount Factor:  -0.5  Convergence Criterion:  1e-10  Iterations:  50000\n",
      "runtime = 0.32 seconds\n",
      "V AVERAGE: 0.11154405443035781\n",
      "running -- with Discount Factor:  -0.5  Convergence Criterion:  1e-10  Iterations:  100000\n",
      "runtime = 0.34 seconds\n",
      "V AVERAGE: 0.11154405443035781\n",
      "running -- with Discount Factor:  -1.0  Convergence Criterion:  0.1  Iterations:  1000\n",
      "runtime = 0.19 seconds\n",
      "V AVERAGE: 0.12228529504066173\n",
      "running -- with Discount Factor:  -1.0  Convergence Criterion:  0.1  Iterations:  10000\n",
      "runtime = 0.18 seconds\n",
      "V AVERAGE: 0.12221984705475329\n",
      "running -- with Discount Factor:  -1.0  Convergence Criterion:  0.1  Iterations:  50000\n",
      "runtime = 0.19 seconds\n",
      "V AVERAGE: 0.12231181718055316\n",
      "running -- with Discount Factor:  -1.0  Convergence Criterion:  0.1  Iterations:  100000\n",
      "runtime = 0.19 seconds\n",
      "V AVERAGE: 0.1222860754633494\n",
      "running -- with Discount Factor:  -1.0  Convergence Criterion:  0.01  Iterations:  1000\n",
      "runtime = 0.24 seconds\n",
      "V AVERAGE: 0.12216778842510066\n",
      "running -- with Discount Factor:  -1.0  Convergence Criterion:  0.01  Iterations:  10000\n",
      "runtime = 0.22 seconds\n",
      "V AVERAGE: 0.12218061577429383\n",
      "running -- with Discount Factor:  -1.0  Convergence Criterion:  0.01  Iterations:  50000\n",
      "runtime = 0.22 seconds\n",
      "V AVERAGE: 0.12223831100773173\n",
      "running -- with Discount Factor:  -1.0  Convergence Criterion:  0.01  Iterations:  100000\n",
      "runtime = 0.22 seconds\n",
      "V AVERAGE: 0.1222344937615133\n",
      "running -- with Discount Factor:  -1.0  Convergence Criterion:  0.001  Iterations:  1000\n",
      "runtime = 0.25 seconds\n",
      "V AVERAGE: 0.12222022158962695\n",
      "running -- with Discount Factor:  -1.0  Convergence Criterion:  0.001  Iterations:  10000\n",
      "runtime = 0.29 seconds\n",
      "V AVERAGE: 0.1222219414668026\n",
      "running -- with Discount Factor:  -1.0  Convergence Criterion:  0.001  Iterations:  50000\n",
      "runtime = 0.29 seconds\n",
      "V AVERAGE: 0.12222144014066988\n",
      "running -- with Discount Factor:  -1.0  Convergence Criterion:  0.001  Iterations:  100000\n",
      "runtime = 0.27 seconds\n",
      "V AVERAGE: 0.12222020320715021\n",
      "running -- with Discount Factor:  -1.0  Convergence Criterion:  1e-05  Iterations:  1000\n",
      "runtime = 0.34 seconds\n",
      "V AVERAGE: 0.12222197051681608\n",
      "running -- with Discount Factor:  -1.0  Convergence Criterion:  1e-05  Iterations:  10000\n",
      "runtime = 0.32 seconds\n",
      "V AVERAGE: 0.1222219689570764\n",
      "running -- with Discount Factor:  -1.0  Convergence Criterion:  1e-05  Iterations:  50000\n",
      "runtime = 0.35 seconds\n",
      "V AVERAGE: 0.12222196934930446\n",
      "running -- with Discount Factor:  -1.0  Convergence Criterion:  1e-05  Iterations:  100000\n",
      "runtime = 0.35 seconds\n",
      "V AVERAGE: 0.1222219704814146\n",
      "running -- with Discount Factor:  -1.0  Convergence Criterion:  1e-10  Iterations:  1000\n",
      "runtime = 0.48 seconds\n",
      "V AVERAGE: 0.1222219700519025\n",
      "running -- with Discount Factor:  -1.0  Convergence Criterion:  1e-10  Iterations:  10000\n",
      "runtime = 0.47 seconds\n",
      "V AVERAGE: 0.1222219700519025\n",
      "running -- with Discount Factor:  -1.0  Convergence Criterion:  1e-10  Iterations:  50000\n",
      "runtime = 0.47 seconds\n",
      "V AVERAGE: 0.1222219700519025\n",
      "running -- with Discount Factor:  -1.0  Convergence Criterion:  1e-10  Iterations:  100000\n",
      "runtime = 0.49 seconds\n",
      "V AVERAGE: 0.1222219700519025\n",
      "Best params: Discount Factor:  -1.0  Convergence Criterion:  0.1  Iterations:  50000\n"
     ]
    }
   ],
   "source": [
    "\"\"\"\n",
    "Running Grid Search for Policy Iteration to find best hyperparameters\n",
    "\"\"\"\n",
    "\n",
    "iters = [1000, 10000, 50000, 100000]\n",
    "gammas = [1.0, 0.5, 0.1, 0.04, 0.01, -0.04, -0.5, -1.0]\n",
    "thetas = [1e-1, 1e-2, 1e-3, 1e-5, 1e-10]\n",
    "GridSearch.Policy_Iteration_grid_search(black_jack.P, gammas, thetas, iters)"
   ]
  },
  {
   "cell_type": "code",
   "execution_count": 112,
   "id": "d94a248f",
   "metadata": {},
   "outputs": [
    {
     "name": "stdout",
     "output_type": "stream",
     "text": [
      "Running iteration 1...\n",
      "runtime = 0.00 seconds\n",
      "1\n",
      "Elapsed time:  0.0003712090001499746\n",
      "Average V value: 0.0\n",
      "Running iteration 1...\n",
      "runtime = 0.00 seconds\n",
      "1\n",
      "Elapsed time:  0.00013379099982557818\n",
      "Average V value: 0.0\n",
      "Running iteration 2...\n",
      "runtime = 0.09 seconds\n",
      "1\n",
      "Elapsed time:  0.09286766699915461\n",
      "Average V value: -0.1673599530868219\n",
      "Running iteration 3...\n",
      "runtime = 0.16 seconds\n",
      "1\n",
      "Elapsed time:  0.16186704199935775\n",
      "Average V value: 0.10188649694817876\n",
      "Running iteration 4...\n",
      "runtime = 0.16 seconds\n",
      "1\n",
      "Elapsed time:  0.16059812499952386\n",
      "Average V value: 0.10188649694817876\n",
      "Running iteration 5...\n",
      "runtime = 0.23 seconds\n",
      "1\n",
      "Elapsed time:  0.22590391700032342\n",
      "Average V value: 0.10188649694817876\n",
      "Running iteration 6...\n",
      "runtime = 0.23 seconds\n",
      "1\n",
      "Elapsed time:  0.23461300000053598\n",
      "Average V value: 0.10188649694817876\n",
      "Running iteration 7...\n",
      "runtime = 0.15 seconds\n",
      "1\n",
      "Elapsed time:  0.15127720800046518\n",
      "Average V value: 0.10188649694817876\n",
      "Running iteration 8...\n",
      "runtime = 0.23 seconds\n",
      "1\n",
      "Elapsed time:  0.22964862499975425\n",
      "Average V value: 0.10188649694817876\n",
      "Running iteration 9...\n",
      "runtime = 0.16 seconds\n",
      "1\n",
      "Elapsed time:  0.1591035000001284\n",
      "Average V value: 0.10188649694817876\n",
      "Running iteration 10...\n",
      "runtime = 0.23 seconds\n",
      "1\n",
      "Elapsed time:  0.23030008400019142\n",
      "Average V value: 0.10188649694817876\n",
      "Running iteration 11...\n",
      "runtime = 0.16 seconds\n",
      "1\n",
      "Elapsed time:  0.15694095800063224\n",
      "Average V value: 0.10188649694817876\n",
      "Running iteration 12...\n",
      "runtime = 0.23 seconds\n",
      "1\n",
      "Elapsed time:  0.22686266699929547\n",
      "Average V value: 0.10188649694817876\n",
      "Running iteration 13...\n",
      "runtime = 0.23 seconds\n",
      "1\n",
      "Elapsed time:  0.22667358400030935\n",
      "Average V value: 0.10188649694817876\n",
      "Running iteration 14...\n",
      "runtime = 0.23 seconds\n",
      "1\n",
      "Elapsed time:  0.23349812500055123\n",
      "Average V value: 0.10188649694817876\n",
      "Running iteration 15...\n",
      "runtime = 0.23 seconds\n",
      "1\n",
      "Elapsed time:  0.2258395829994697\n",
      "Average V value: 0.10188649694817876\n",
      "Running iteration 16...\n",
      "runtime = 0.15 seconds\n",
      "1\n",
      "Elapsed time:  0.15182816699962132\n",
      "Average V value: 0.10188649694817876\n",
      "Running iteration 17...\n",
      "runtime = 0.22 seconds\n",
      "1\n",
      "Elapsed time:  0.22499129199968593\n",
      "Average V value: 0.10188649694817876\n",
      "Running iteration 18...\n",
      "runtime = 0.15 seconds\n",
      "1\n",
      "Elapsed time:  0.1531054579991178\n",
      "Average V value: 0.10188649694817876\n",
      "Running iteration 19...\n",
      "runtime = 0.23 seconds\n",
      "1\n",
      "Elapsed time:  0.2277695409993612\n",
      "Average V value: 0.10188649694817876\n",
      "Running iteration 20...\n",
      "runtime = 0.23 seconds\n",
      "1\n",
      "Elapsed time:  0.22888133300148183\n",
      "Average V value: 0.10188649694817876\n",
      "Running iteration 21...\n",
      "runtime = 0.16 seconds\n",
      "1\n",
      "Elapsed time:  0.15814579200014123\n",
      "Average V value: 0.10188649694817876\n",
      "Running iteration 22...\n",
      "runtime = 0.16 seconds\n",
      "1\n",
      "Elapsed time:  0.16338829199958127\n",
      "Average V value: 0.10188649694817876\n",
      "Running iteration 23...\n",
      "runtime = 0.23 seconds\n",
      "1\n",
      "Elapsed time:  0.22906262499964214\n",
      "Average V value: 0.10188649694817876\n",
      "Running iteration 24...\n",
      "runtime = 0.23 seconds\n",
      "1\n",
      "Elapsed time:  0.230228166001325\n",
      "Average V value: 0.10188649694817876\n",
      "Running iteration 25...\n",
      "runtime = 0.15 seconds\n",
      "1\n",
      "Elapsed time:  0.15057737499955692\n",
      "Average V value: 0.10188649694817876\n",
      "Running iteration 26...\n",
      "runtime = 0.16 seconds\n",
      "1\n",
      "Elapsed time:  0.16225933300120232\n",
      "Average V value: 0.10188649694817876\n",
      "Running iteration 27...\n",
      "runtime = 0.16 seconds\n",
      "1\n",
      "Elapsed time:  0.15830675000142946\n",
      "Average V value: 0.10188649694817876\n",
      "Running iteration 28...\n",
      "runtime = 0.16 seconds\n",
      "1\n",
      "Elapsed time:  0.16027004100033082\n",
      "Average V value: 0.10188649694817876\n",
      "Running iteration 29...\n",
      "runtime = 0.16 seconds\n",
      "1\n",
      "Elapsed time:  0.1583639590007806\n",
      "Average V value: 0.10188649694817876\n",
      "Running iteration 30...\n",
      "runtime = 0.16 seconds\n",
      "1\n",
      "Elapsed time:  0.16451441699973657\n",
      "Average V value: 0.10188649694817876\n",
      "Running iteration 31...\n",
      "runtime = 0.16 seconds\n",
      "1\n",
      "Elapsed time:  0.15816050000103132\n",
      "Average V value: 0.10188649694817876\n",
      "Running iteration 32...\n",
      "runtime = 0.16 seconds\n",
      "1\n",
      "Elapsed time:  0.16051654100010637\n",
      "Average V value: 0.10188649694817876\n",
      "Running iteration 33...\n",
      "runtime = 0.16 seconds\n",
      "1\n",
      "Elapsed time:  0.15859141600049043\n",
      "Average V value: 0.10188649694817876\n",
      "Running iteration 34...\n",
      "runtime = 0.16 seconds\n",
      "1\n",
      "Elapsed time:  0.162904291999439\n",
      "Average V value: 0.10188649694817876\n",
      "Running iteration 35...\n",
      "runtime = 0.16 seconds\n",
      "1\n",
      "Elapsed time:  0.15795437499946274\n",
      "Average V value: 0.10188649694817876\n",
      "Running iteration 36...\n",
      "runtime = 0.23 seconds\n",
      "1\n",
      "Elapsed time:  0.22876304099918343\n",
      "Average V value: 0.10188649694817876\n",
      "Running iteration 37...\n",
      "runtime = 0.16 seconds\n",
      "1\n",
      "Elapsed time:  0.15778987500016228\n",
      "Average V value: 0.10188649694817876\n",
      "Running iteration 38...\n",
      "runtime = 0.16 seconds\n",
      "1\n",
      "Elapsed time:  0.16273154199916462\n",
      "Average V value: 0.10188649694817876\n",
      "Running iteration 39...\n",
      "runtime = 0.23 seconds\n",
      "1\n",
      "Elapsed time:  0.22576137500072946\n",
      "Average V value: 0.10188649694817876\n",
      "Running iteration 40...\n",
      "runtime = 0.16 seconds\n",
      "1\n",
      "Elapsed time:  0.16167145899999014\n",
      "Average V value: 0.10188649694817876\n",
      "Running iteration 41...\n",
      "runtime = 0.16 seconds\n",
      "1\n",
      "Elapsed time:  0.16160433299955912\n",
      "Average V value: 0.10188649694817876\n",
      "Running iteration 42...\n",
      "runtime = 0.16 seconds\n",
      "1\n",
      "Elapsed time:  0.161050750000868\n",
      "Average V value: 0.10188649694817876\n",
      "Running iteration 43...\n",
      "runtime = 0.22 seconds\n",
      "1\n",
      "Elapsed time:  0.21936837500106776\n",
      "Average V value: 0.10188649694817876\n",
      "Running iteration 44...\n",
      "runtime = 0.16 seconds\n",
      "1\n",
      "Elapsed time:  0.15816820799955167\n",
      "Average V value: 0.10188649694817876\n",
      "Running iteration 45...\n",
      "runtime = 0.16 seconds\n",
      "1\n",
      "Elapsed time:  0.16081741599919042\n",
      "Average V value: 0.10188649694817876\n",
      "Running iteration 46...\n",
      "runtime = 0.16 seconds\n",
      "1\n",
      "Elapsed time:  0.1613321660006477\n",
      "Average V value: 0.10188649694817876\n",
      "Running iteration 47...\n",
      "runtime = 0.16 seconds\n",
      "1\n",
      "Elapsed time:  0.16468287500174483\n",
      "Average V value: 0.10188649694817876\n",
      "Running iteration 48...\n",
      "runtime = 0.23 seconds\n",
      "1\n",
      "Elapsed time:  0.2286915839995345\n",
      "Average V value: 0.10188649694817876\n",
      "Running iteration 49...\n",
      "runtime = 0.16 seconds\n",
      "1\n",
      "Elapsed time:  0.1576535000003787\n",
      "Average V value: 0.10188649694817876\n",
      "Running iteration 50...\n",
      "runtime = 0.23 seconds\n",
      "1\n",
      "Elapsed time:  0.23250958300013735\n",
      "Average V value: 0.10188649694817876\n",
      "Running iteration 51...\n",
      "runtime = 0.16 seconds\n",
      "1\n",
      "Elapsed time:  0.16160579200004577\n",
      "Average V value: 0.10188649694817876\n",
      "Running iteration 52...\n",
      "runtime = 0.16 seconds\n",
      "1\n",
      "Elapsed time:  0.16140325000014855\n",
      "Average V value: 0.10188649694817876\n",
      "Running iteration 53...\n",
      "runtime = 0.16 seconds\n",
      "1\n",
      "Elapsed time:  0.15846700000111014\n",
      "Average V value: 0.10188649694817876\n",
      "Running iteration 54...\n",
      "runtime = 0.16 seconds\n",
      "1\n",
      "Elapsed time:  0.16317233300105727\n",
      "Average V value: 0.10188649694817876\n",
      "Running iteration 55...\n",
      "runtime = 0.16 seconds\n",
      "1\n",
      "Elapsed time:  0.15841762499985634\n",
      "Average V value: 0.10188649694817876\n",
      "Running iteration 56...\n",
      "runtime = 0.23 seconds\n",
      "1\n",
      "Elapsed time:  0.2313842920011666\n",
      "Average V value: 0.10188649694817876\n",
      "Running iteration 57...\n",
      "runtime = 0.23 seconds\n",
      "1\n",
      "Elapsed time:  0.2311154170001828\n",
      "Average V value: 0.10188649694817876\n",
      "Running iteration 58...\n",
      "runtime = 0.16 seconds\n",
      "1\n",
      "Elapsed time:  0.16271583399975498\n",
      "Average V value: 0.10188649694817876\n",
      "Running iteration 59...\n"
     ]
    },
    {
     "ename": "KeyboardInterrupt",
     "evalue": "",
     "output_type": "error",
     "traceback": [
      "\u001b[0;31m---------------------------------------------------------------------------\u001b[0m",
      "\u001b[0;31mKeyboardInterrupt\u001b[0m                         Traceback (most recent call last)",
      "Cell \u001b[0;32mIn[112], line 24\u001b[0m\n\u001b[1;32m     22\u001b[0m black_jack \u001b[38;5;241m=\u001b[39m Blackjack()\n\u001b[1;32m     23\u001b[0m t1_start \u001b[38;5;241m=\u001b[39m perf_counter() \n\u001b[0;32m---> 24\u001b[0m V, V_track, pi \u001b[38;5;241m=\u001b[39m \u001b[43mPlanner\u001b[49m\u001b[43m(\u001b[49m\u001b[43mblack_jack\u001b[49m\u001b[38;5;241;43m.\u001b[39;49m\u001b[43mP\u001b[49m\u001b[43m)\u001b[49m\u001b[38;5;241;43m.\u001b[39;49m\u001b[43mpolicy_iteration\u001b[49m\u001b[43m(\u001b[49m\u001b[43mgamma\u001b[49m\u001b[38;5;241;43m=\u001b[39;49m\u001b[43mgamma\u001b[49m\u001b[43m,\u001b[49m\u001b[43m \u001b[49m\u001b[43mn_iters\u001b[49m\u001b[38;5;241;43m=\u001b[39;49m\u001b[43mn_iters\u001b[49m\u001b[43m,\u001b[49m\u001b[43m \u001b[49m\u001b[43mtheta\u001b[49m\u001b[38;5;241;43m=\u001b[39;49m\u001b[43mtheta\u001b[49m\u001b[43m)\u001b[49m\n\u001b[1;32m     25\u001b[0m t1_stop \u001b[38;5;241m=\u001b[39m perf_counter()\n\u001b[1;32m     26\u001b[0m \u001b[38;5;28mprint\u001b[39m(pi(\u001b[38;5;241m0\u001b[39m))\n",
      "File \u001b[0;32m~/miniconda3/envs/ml_env/lib/python3.9/site-packages/utils/decorators.py:9\u001b[0m, in \u001b[0;36mprint_runtime.<locals>.wrapper_print_runtime\u001b[0;34m(*args, **kwargs)\u001b[0m\n\u001b[1;32m      6\u001b[0m \u001b[38;5;129m@functools\u001b[39m\u001b[38;5;241m.\u001b[39mwraps(func)\n\u001b[1;32m      7\u001b[0m \u001b[38;5;28;01mdef\u001b[39;00m \u001b[38;5;21mwrapper_print_runtime\u001b[39m(\u001b[38;5;241m*\u001b[39margs, \u001b[38;5;241m*\u001b[39m\u001b[38;5;241m*\u001b[39mkwargs):\n\u001b[1;32m      8\u001b[0m     start \u001b[38;5;241m=\u001b[39m time\u001b[38;5;241m.\u001b[39mtime()\n\u001b[0;32m----> 9\u001b[0m     value \u001b[38;5;241m=\u001b[39m \u001b[43mfunc\u001b[49m\u001b[43m(\u001b[49m\u001b[38;5;241;43m*\u001b[39;49m\u001b[43margs\u001b[49m\u001b[43m,\u001b[49m\u001b[43m \u001b[49m\u001b[38;5;241;43m*\u001b[39;49m\u001b[38;5;241;43m*\u001b[39;49m\u001b[43mkwargs\u001b[49m\u001b[43m)\u001b[49m\n\u001b[1;32m     10\u001b[0m     end \u001b[38;5;241m=\u001b[39m time\u001b[38;5;241m.\u001b[39mtime()\n\u001b[1;32m     11\u001b[0m     running_time \u001b[38;5;241m=\u001b[39m end \u001b[38;5;241m-\u001b[39m start\n",
      "File \u001b[0;32m~/miniconda3/envs/ml_env/lib/python3.9/site-packages/algorithms/planner.py:130\u001b[0m, in \u001b[0;36mPlanner.policy_iteration\u001b[0;34m(self, gamma, n_iters, theta)\u001b[0m\n\u001b[1;32m    128\u001b[0m i \u001b[38;5;241m+\u001b[39m\u001b[38;5;241m=\u001b[39m \u001b[38;5;241m1\u001b[39m\n\u001b[1;32m    129\u001b[0m old_pi \u001b[38;5;241m=\u001b[39m {s: pi(s) \u001b[38;5;28;01mfor\u001b[39;00m s \u001b[38;5;129;01min\u001b[39;00m \u001b[38;5;28mrange\u001b[39m(\u001b[38;5;28mlen\u001b[39m(\u001b[38;5;28mself\u001b[39m\u001b[38;5;241m.\u001b[39mP))}\n\u001b[0;32m--> 130\u001b[0m V \u001b[38;5;241m=\u001b[39m \u001b[38;5;28;43mself\u001b[39;49m\u001b[38;5;241;43m.\u001b[39;49m\u001b[43mpolicy_evaluation\u001b[49m\u001b[43m(\u001b[49m\u001b[43mpi\u001b[49m\u001b[43m,\u001b[49m\u001b[43m \u001b[49m\u001b[43mV\u001b[49m\u001b[43m,\u001b[49m\u001b[43m \u001b[49m\u001b[43mgamma\u001b[49m\u001b[43m,\u001b[49m\u001b[43m \u001b[49m\u001b[43mtheta\u001b[49m\u001b[43m)\u001b[49m\n\u001b[1;32m    131\u001b[0m V_track[i] \u001b[38;5;241m=\u001b[39m V\n\u001b[1;32m    132\u001b[0m pi \u001b[38;5;241m=\u001b[39m \u001b[38;5;28mself\u001b[39m\u001b[38;5;241m.\u001b[39mpolicy_improvement(V, gamma)\n",
      "File \u001b[0;32m~/miniconda3/envs/ml_env/lib/python3.9/site-packages/algorithms/planner.py:143\u001b[0m, in \u001b[0;36mPlanner.policy_evaluation\u001b[0;34m(self, pi, prev_V, gamma, theta)\u001b[0m\n\u001b[1;32m    141\u001b[0m V \u001b[38;5;241m=\u001b[39m np\u001b[38;5;241m.\u001b[39mzeros(\u001b[38;5;28mlen\u001b[39m(\u001b[38;5;28mself\u001b[39m\u001b[38;5;241m.\u001b[39mP), dtype\u001b[38;5;241m=\u001b[39mnp\u001b[38;5;241m.\u001b[39mfloat64)\n\u001b[1;32m    142\u001b[0m \u001b[38;5;28;01mfor\u001b[39;00m s \u001b[38;5;129;01min\u001b[39;00m \u001b[38;5;28mrange\u001b[39m(\u001b[38;5;28mlen\u001b[39m(\u001b[38;5;28mself\u001b[39m\u001b[38;5;241m.\u001b[39mP)):\n\u001b[0;32m--> 143\u001b[0m     \u001b[38;5;28;01mfor\u001b[39;00m prob, next_state, reward, done \u001b[38;5;129;01min\u001b[39;00m \u001b[38;5;28mself\u001b[39m\u001b[38;5;241m.\u001b[39mP[s][\u001b[43mpi\u001b[49m\u001b[43m(\u001b[49m\u001b[43ms\u001b[49m\u001b[43m)\u001b[49m]:\n\u001b[1;32m    144\u001b[0m         V[s] \u001b[38;5;241m+\u001b[39m\u001b[38;5;241m=\u001b[39m prob \u001b[38;5;241m*\u001b[39m (reward \u001b[38;5;241m+\u001b[39m gamma \u001b[38;5;241m*\u001b[39m prev_V[next_state] \u001b[38;5;241m*\u001b[39m (\u001b[38;5;129;01mnot\u001b[39;00m done))\n\u001b[1;32m    145\u001b[0m \u001b[38;5;28;01mif\u001b[39;00m np\u001b[38;5;241m.\u001b[39mmax(np\u001b[38;5;241m.\u001b[39mabs(prev_V \u001b[38;5;241m-\u001b[39m V)) \u001b[38;5;241m<\u001b[39m theta:\n",
      "File \u001b[0;32m~/miniconda3/envs/ml_env/lib/python3.9/site-packages/algorithms/planner.py:162\u001b[0m, in \u001b[0;36mPlanner.policy_improvement.<locals>.<lambda>\u001b[0;34m(s)\u001b[0m\n\u001b[1;32m    155\u001b[0m             Q[s][a] \u001b[38;5;241m+\u001b[39m\u001b[38;5;241m=\u001b[39m prob \u001b[38;5;241m*\u001b[39m (reward \u001b[38;5;241m+\u001b[39m gamma \u001b[38;5;241m*\u001b[39m V[next_state] \u001b[38;5;241m*\u001b[39m (\u001b[38;5;129;01mnot\u001b[39;00m done))\n\u001b[1;32m    156\u001b[0m \u001b[38;5;66;03m# Explanation of lambda:\u001b[39;00m\n\u001b[1;32m    157\u001b[0m \u001b[38;5;66;03m# def new_pi(s):\u001b[39;00m\n\u001b[1;32m    158\u001b[0m \u001b[38;5;66;03m#   policy = dict()\u001b[39;00m\n\u001b[1;32m    159\u001b[0m \u001b[38;5;66;03m#   for state, action in enumerate(np.argmax(Q, axis=1)):\u001b[39;00m\n\u001b[1;32m    160\u001b[0m \u001b[38;5;66;03m#       policy[state] = action\u001b[39;00m\n\u001b[1;32m    161\u001b[0m \u001b[38;5;66;03m#   return policy[s]\u001b[39;00m\n\u001b[0;32m--> 162\u001b[0m new_pi \u001b[38;5;241m=\u001b[39m \u001b[38;5;28;01mlambda\u001b[39;00m s: {s: a \u001b[38;5;28;01mfor\u001b[39;00m s, a \u001b[38;5;129;01min\u001b[39;00m \u001b[38;5;28menumerate\u001b[39m(np\u001b[38;5;241m.\u001b[39margmax(Q, axis\u001b[38;5;241m=\u001b[39m\u001b[38;5;241m1\u001b[39m))}[s]\n\u001b[1;32m    163\u001b[0m \u001b[38;5;28;01mreturn\u001b[39;00m new_pi\n",
      "File \u001b[0;32m~/miniconda3/envs/ml_env/lib/python3.9/site-packages/algorithms/planner.py:162\u001b[0m, in \u001b[0;36m<dictcomp>\u001b[0;34m(.0)\u001b[0m\n\u001b[1;32m    155\u001b[0m             Q[s][a] \u001b[38;5;241m+\u001b[39m\u001b[38;5;241m=\u001b[39m prob \u001b[38;5;241m*\u001b[39m (reward \u001b[38;5;241m+\u001b[39m gamma \u001b[38;5;241m*\u001b[39m V[next_state] \u001b[38;5;241m*\u001b[39m (\u001b[38;5;129;01mnot\u001b[39;00m done))\n\u001b[1;32m    156\u001b[0m \u001b[38;5;66;03m# Explanation of lambda:\u001b[39;00m\n\u001b[1;32m    157\u001b[0m \u001b[38;5;66;03m# def new_pi(s):\u001b[39;00m\n\u001b[1;32m    158\u001b[0m \u001b[38;5;66;03m#   policy = dict()\u001b[39;00m\n\u001b[1;32m    159\u001b[0m \u001b[38;5;66;03m#   for state, action in enumerate(np.argmax(Q, axis=1)):\u001b[39;00m\n\u001b[1;32m    160\u001b[0m \u001b[38;5;66;03m#       policy[state] = action\u001b[39;00m\n\u001b[1;32m    161\u001b[0m \u001b[38;5;66;03m#   return policy[s]\u001b[39;00m\n\u001b[0;32m--> 162\u001b[0m new_pi \u001b[38;5;241m=\u001b[39m \u001b[38;5;28;01mlambda\u001b[39;00m s: {s: a \u001b[38;5;28;01mfor\u001b[39;00m s, a \u001b[38;5;129;01min\u001b[39;00m \u001b[38;5;28menumerate\u001b[39m(np\u001b[38;5;241m.\u001b[39margmax(Q, axis\u001b[38;5;241m=\u001b[39m\u001b[38;5;241m1\u001b[39m))}[s]\n\u001b[1;32m    163\u001b[0m \u001b[38;5;28;01mreturn\u001b[39;00m new_pi\n",
      "\u001b[0;31mKeyboardInterrupt\u001b[0m: "
     ]
    }
   ],
   "source": [
    "\"\"\"\n",
    "From above the best hyperparameters are:\n",
    "gamma = 0.01\n",
    "theta = 0.1\n",
    "n_iters = 1000\n",
    "\n",
    "Want to perform Policy Iteration with these parameters now vs number of iterations.\n",
    "\"\"\"\n",
    "gamma = -0.05\n",
    "theta = 1e-12\n",
    "n_iters_list = [1]\n",
    "iterations = 100\n",
    "splits = 100 / iterations\n",
    "for i in range(1, iterations + 1):\n",
    "    n_iters_list.append(int(i * splits))\n",
    "\n",
    "mean_v_values_pi = []\n",
    "wall_clock_times_pi = []\n",
    "    \n",
    "for n_iters in n_iters_list:\n",
    "    print(f\"Running iteration {n_iters}...\")\n",
    "    black_jack = Blackjack()\n",
    "    t1_start = perf_counter() \n",
    "    V, V_track, pi = Planner(black_jack.P).policy_iteration(gamma=gamma, n_iters=n_iters, theta=theta)\n",
    "    t1_stop = perf_counter()\n",
    " \n",
    "    print(\"Elapsed time: \", t1_stop - t1_start) \n",
    "    average_v = np.average(V)\n",
    "    print(f\"Average V value: {average_v}\")\n",
    "    \n",
    "    mean_v_values_pi.append(average_v)\n",
    "    wall_clock_times_pi.append(t1_stop - t1_start)"
   ]
  },
  {
   "cell_type": "code",
   "execution_count": 103,
   "id": "0a11c732",
   "metadata": {},
   "outputs": [
    {
     "data": {
      "image/png": "[encoded data removed]",
      "text/plain": [
       "<Figure size 640x480 with 1 Axes>"
      ]
     },
     "metadata": {},
     "output_type": "display_data"
    }
   ],
   "source": [
    "\"\"\"\n",
    "Plotting results of Mean V vs Number of Iterations\n",
    "\"\"\"\n",
    "# Plotting the validation scores\n",
    "plt.plot(\n",
    "    n_iters_list,\n",
    "    mean_v_values_pi,\n",
    "    color=\"orange\",\n",
    "    linewidth=3,\n",
    "    marker='o',\n",
    "    label = \"Policy Iteration\"\n",
    ")\n",
    "\n",
    "# Plotting the training scores\n",
    "plt.plot(\n",
    "    n_iters_list,\n",
    "    mean_v_values_vi,\n",
    "    color=\"red\",\n",
    "    linewidth=3,\n",
    "    marker='o',\n",
    "    label = \"Value Iteration\"\n",
    ")\n",
    "\n",
    "\n",
    "\n",
    "# Naming X-Axis\n",
    "plt.xlabel('Number of Iterations')\n",
    "# Naming Y-Axis\n",
    "plt.ylabel('Mean Utility Values')\n",
    "# Naming Title\n",
    "plt.title(\"Convergence of Mean Utility Values based on Number of Iterations (BlackJack)\")\n",
    "\n",
    "plt.legend()\n",
    "\n",
    "plt.show()"
   ]
  },
  {
   "cell_type": "code",
   "execution_count": 109,
   "id": "1bd71254",
   "metadata": {},
   "outputs": [
    {
     "data": {
      "image/png": "[encoded data removed]",
      "text/plain": [
       "<Figure size 640x480 with 1 Axes>"
      ]
     },
     "metadata": {},
     "output_type": "display_data"
    }
   ],
   "source": [
    "\"\"\"\n",
    "Plotting results of Wall Clock Times\n",
    "\"\"\"\n",
    "# Plotting the validation scores\n",
    "plt.plot(\n",
    "    n_iters_list,\n",
    "    wall_clock_times_pi,\n",
    "    color=\"purple\",\n",
    "    linewidth=3,\n",
    "    marker='o',\n",
    "    label = \"Wall Clock Times (Policy Iteration)\"\n",
    ")\n",
    "\n",
    "# Plotting the training scores\n",
    "plt.plot(\n",
    "    n_iters_list,\n",
    "    wall_clock_times_vi,\n",
    "    color=\"blue\",\n",
    "    linewidth=3,\n",
    "    marker='o',\n",
    "    label = \"Wall Clock Times (Value Iteration)\"\n",
    ")\n",
    "\n",
    "\n",
    "\n",
    "# Naming X-Axis\n",
    "plt.xlabel('Number of Iterations')\n",
    "# Naming Y-Axis\n",
    "plt.ylabel('Wall Clock Times (s)')\n",
    "# Naming Title\n",
    "plt.title(\"Wall Clock Times based on Number of Iterations (BlackJack)\")\n",
    "\n",
    "plt.legend()\n",
    "\n",
    "plt.show()"
   ]
  },
  {
   "cell_type": "code",
   "execution_count": 113,
   "id": "95dc0d0d",
   "metadata": {},
   "outputs": [
    {
     "name": "stdout",
     "output_type": "stream",
     "text": [
      "runtime = 0.02 seconds\n",
      "runtime = 0.23 seconds\n"
     ]
    }
   ],
   "source": [
    "black_jack_v = Blackjack()\n",
    "V_vi, V_track_vi, pi_vi = Planner(black_jack_v.P).value_iteration(gamma=-0.05, n_iters=100, theta=1e-12)\n",
    "black_jack_p = Blackjack()\n",
    "V_pi, V_track_pi, pi_pi = Planner(black_jack_p.P).policy_iteration(gamma=-0.05, n_iters=100, theta=1e-12)"
   ]
  },
  {
   "cell_type": "code",
   "execution_count": null,
   "id": "37b15631",
   "metadata": {},
   "outputs": [],
   "source": [
    "\"\"\"\n",
    "Generating Policy Map for Both Value and Policy Iteration.\n",
    "\"\"\"\n",
    "def create_grids(agent, usable_ace=False):\n",
    "    \"\"\"Create value and policy grid given an agent.\"\"\"\n",
    "    # convert our state-action values to state values\n",
    "    # and build a policy dictionary that maps observations to actions\n",
    "    state_value = defaultdict(float)\n",
    "    policy = defaultdict(int)\n",
    "    for obs, action_values in agent.q_values.items():\n",
    "        state_value[obs] = float(np.max(action_values))\n",
    "        policy[obs] = int(np.argmax(action_values))\n",
    "\n",
    "    player_count, dealer_count = np.meshgrid(\n",
    "        # players count, dealers face-up card\n",
    "        np.arange(12, 22),\n",
    "        np.arange(1, 11),\n",
    "    )\n",
    "\n",
    "    # create the value grid for plotting\n",
    "    value = np.apply_along_axis(\n",
    "        lambda obs: state_value[(obs[0], obs[1], usable_ace)],\n",
    "        axis=2,\n",
    "        arr=np.dstack([player_count, dealer_count]),\n",
    "    )\n",
    "    value_grid = player_count, dealer_count, value\n",
    "\n",
    "    # create the policy grid for plotting\n",
    "    policy_grid = np.apply_along_axis(\n",
    "        lambda obs: policy[(obs[0], obs[1], usable_ace)],\n",
    "        axis=2,\n",
    "        arr=np.dstack([player_count, dealer_count]),\n",
    "    )\n",
    "    return value_grid, policy_grid\n",
    "\n",
    "\n",
    "def create_plots(policy_grid_vi, policy_grid_pi, title: str):\n",
    "    \"\"\"Creates a plot using a value and policy grid.\"\"\"\n",
    "    # create a new figure with 2 subplots (left: state values, right: policy)\n",
    "    player_count, dealer_count, value = value_grid\n",
    "    fig = plt.figure(figsize=plt.figaspect(0.4))\n",
    "    fig.suptitle(title, fontsize=16)\n",
    "\n",
    "    # plot the state values\n",
    "    ax1 = fig.add_subplot(1, 2, 1, projection=\"3d\")\n",
    "    ax1.plot_surface(\n",
    "        player_count,\n",
    "        dealer_count,\n",
    "        value,\n",
    "        rstride=1,\n",
    "        cstride=1,\n",
    "        cmap=\"viridis\",\n",
    "        edgecolor=\"none\",\n",
    "    )\n",
    "    plt.xticks(range(12, 22), range(12, 22))\n",
    "    plt.yticks(range(1, 11), [\"A\"] + list(range(2, 11)))\n",
    "    ax1.set_title(f\"State values: {title}\")\n",
    "    ax1.set_xlabel(\"Player sum\")\n",
    "    ax1.set_ylabel(\"Dealer showing\")\n",
    "    ax1.zaxis.set_rotate_label(False)\n",
    "    ax1.set_zlabel(\"Value\", fontsize=14, rotation=90)\n",
    "    ax1.view_init(20, 220)\n",
    "\n",
    "    # plot the policy\n",
    "    fig.add_subplot(1, 2, 2)\n",
    "    ax2 = sns.heatmap(policy_grid, linewidth=0, annot=True, cmap=\"Accent_r\", cbar=False)\n",
    "    ax2.set_title(f\"Policy: {title}\")\n",
    "    ax2.set_xlabel(\"Player sum\")\n",
    "    ax2.set_ylabel(\"Dealer showing\")\n",
    "    ax2.set_xticklabels(range(12, 22))\n",
    "    ax2.set_yticklabels([\"A\"] + list(range(2, 11)), fontsize=12)\n",
    "\n",
    "    # add a legend\n",
    "    legend_elements = [\n",
    "        Patch(facecolor=\"lightgreen\", edgecolor=\"black\", label=\"Hit\"),\n",
    "        Patch(facecolor=\"grey\", edgecolor=\"black\", label=\"Stick\"),\n",
    "    ]\n",
    "    ax2.legend(handles=legend_elements, bbox_to_anchor=(1.3, 1))\n",
    "    return fig\n",
    "\n",
    "# state values & policy with usable ace (ace counts as 11)\n",
    "policy_grid_vi, policy_grid_pi = create_grids(agent, usable_ace=True)\n",
    "print(policy_grid)\n",
    "fig1 = create_plots(value_grid, policy_grid, title=\"With usable ace\")\n",
    "plt.show()"
   ]
  },
  {
   "cell_type": "code",
   "execution_count": 137,
   "id": "6928d002",
   "metadata": {},
   "outputs": [
    {
     "data": {
      "text/plain": [
       "<matplotlib.legend.Legend at 0x7faa30639a00>"
      ]
     },
     "execution_count": 137,
     "metadata": {},
     "output_type": "execute_result"
    },
    {
     "data": {
      "image/png": "[encoded data removed]",
      "text/plain": [
       "<Figure size 640x480 with 1 Axes>"
      ]
     },
     "metadata": {},
     "output_type": "display_data"
    }
   ],
   "source": [
    "\"\"\"\n",
    "Policy grid for Value Iteration\n",
    "\"\"\"\n",
    "player_count = np.arange(12, 22)\n",
    "dealer_count = np.arange(1, 11)\n",
    "policy_grid = []\n",
    "\n",
    "for i in range(len(player_count)):\n",
    "    policy_grid.append([])\n",
    "    for j in range(len(dealer_count)):\n",
    "        pc = player_count[i]\n",
    "        dc = dealer_count[j]\n",
    "        res = black_jack_v.convert_state_obs((pc, dc, True), False)\n",
    "        policy_grid[i].append(pi_vi(res))\n",
    "        \n",
    "ax2 = sns.heatmap(policy_grid, linewidth=0, annot=True, cmap=\"Accent_r\", cbar=False)\n",
    "ax2.set_title(f\"Policy: Usable Ace (Value Iteration)\")\n",
    "ax2.set_xlabel(\"Player sum\")\n",
    "ax2.set_ylabel(\"Dealer showing\")\n",
    "ax2.set_xticklabels(range(12, 22))\n",
    "ax2.set_yticklabels([\"A\"] + list(range(2, 11)), fontsize=12)\n",
    "legend_elements = [\n",
    "    Patch(facecolor=\"lightgreen\", edgecolor=\"black\", label=\"Hit\"),\n",
    "    Patch(facecolor=\"grey\", edgecolor=\"black\", label=\"Stick\"),\n",
    "]\n",
    "ax2.legend(handles=legend_elements, bbox_to_anchor=(1.3, 1))"
   ]
  },
  {
   "cell_type": "code",
   "execution_count": 135,
   "id": "284c4b68",
   "metadata": {},
   "outputs": [
    {
     "data": {
      "text/plain": [
       "<matplotlib.legend.Legend at 0x7faa914a5340>"
      ]
     },
     "execution_count": 135,
     "metadata": {},
     "output_type": "execute_result"
    },
    {
     "data": {
      "image/png": "[encoded data removed]",
      "text/plain": [
       "<Figure size 640x480 with 1 Axes>"
      ]
     },
     "metadata": {},
     "output_type": "display_data"
    }
   ],
   "source": [
    "\"\"\"\n",
    "Policy grid for Policy Iteration\n",
    "\"\"\"\n",
    "player_count = np.arange(12, 22)\n",
    "dealer_count = np.arange(1, 11)\n",
    "policy_grid = []\n",
    "\n",
    "for i in range(len(player_count)):\n",
    "    policy_grid.append([])\n",
    "    for j in range(len(dealer_count)):\n",
    "        pc = player_count[i]\n",
    "        dc = dealer_count[j]\n",
    "        res = black_jack_p.convert_state_obs((pc, dc, True), False)\n",
    "        policy_grid[i].append(pi_pi(res))\n",
    "        \n",
    "ax2 = sns.heatmap(policy_grid, linewidth=0, annot=True, cmap=\"Accent_r\", cbar=False)\n",
    "ax2.set_title(f\"Policy: Usable Ace (Policy Iteration)\")\n",
    "ax2.set_xlabel(\"Player sum\")\n",
    "ax2.set_ylabel(\"Dealer showing\")\n",
    "ax2.set_xticklabels(range(12, 22))\n",
    "ax2.set_yticklabels([\"A\"] + list(range(2, 11)), fontsize=12)\n",
    "legend_elements = [\n",
    "    Patch(facecolor=\"lightgreen\", edgecolor=\"black\", label=\"Hit\"),\n",
    "    Patch(facecolor=\"grey\", edgecolor=\"black\", label=\"Stick\"),\n",
    "]\n",
    "ax2.legend(handles=legend_elements, bbox_to_anchor=(1.3, 1))"
   ]
  },
  {
   "cell_type": "code",
   "execution_count": 186,
   "id": "b02d0668",
   "metadata": {},
   "outputs": [
    {
     "name": "stdout",
     "output_type": "stream",
     "text": [
      "-3.0\n"
     ]
    }
   ],
   "source": [
    "test_scores_vi = TestEnv.test_env(env=black_jack_v.wrapped_env, render=False, pi=pi_vi, user_input=False,\n",
    "                                   convert_state_obs=black_jack_v.convert_state_obs)\n",
    "print(np.sum(test_scores_vi))"
   ]
  },
  {
   "cell_type": "code",
   "execution_count": 187,
   "id": "be8cf895",
   "metadata": {},
   "outputs": [
    {
     "name": "stdout",
     "output_type": "stream",
     "text": [
      "4.0\n"
     ]
    }
   ],
   "source": [
    "test_scores_pi = TestEnv.test_env(env=black_jack_p.wrapped_env, render=False, pi=pi_pi, user_input=False,\n",
    "                                   convert_state_obs=black_jack_p.convert_state_obs)\n",
    "print(np.sum(test_scores_pi))"
   ]
  },
  {
   "cell_type": "code",
   "execution_count": 145,
   "id": "e885611a",
   "metadata": {},
   "outputs": [
    {
     "name": "stdout",
     "output_type": "stream",
     "text": [
      "running -- with epsilon decay:  0.9  iterations:  1.0\n"
     ]
    },
    {
     "name": "stderr",
     "output_type": "stream",
     "text": [
      "                                                                                                                                                                           \r"
     ]
    },
    {
     "name": "stdout",
     "output_type": "stream",
     "text": [
      "runtime = 0.12 seconds\n",
      "V AVERAGE: 0.00654025879591103\n",
      "running -- with epsilon decay:  0.9  iterations:  1.0\n"
     ]
    },
    {
     "name": "stderr",
     "output_type": "stream",
     "text": [
      "                                                                                                                                                                           \r"
     ]
    },
    {
     "name": "stdout",
     "output_type": "stream",
     "text": [
      "runtime = 0.98 seconds\n",
      "V AVERAGE: 0.053096998084938\n",
      "running -- with epsilon decay:  0.9  iterations:  1.0\n"
     ]
    },
    {
     "name": "stderr",
     "output_type": "stream",
     "text": [
      "                                                                                                                                                                           \r"
     ]
    },
    {
     "name": "stdout",
     "output_type": "stream",
     "text": [
      "runtime = 4.75 seconds\n",
      "V AVERAGE: 0.06208493414544833\n",
      "running -- with epsilon decay:  0.9  iterations:  1.0\n"
     ]
    },
    {
     "name": "stderr",
     "output_type": "stream",
     "text": [
      "                                                                                                                                                                           \r"
     ]
    },
    {
     "name": "stdout",
     "output_type": "stream",
     "text": [
      "runtime = 9.71 seconds\n",
      "V AVERAGE: 0.054776224137858424\n",
      "running -- with epsilon decay:  0.9  iterations:  0.5\n"
     ]
    },
    {
     "name": "stderr",
     "output_type": "stream",
     "text": [
      "                                                                                                                                                                           \r"
     ]
    },
    {
     "name": "stdout",
     "output_type": "stream",
     "text": [
      "runtime = 0.10 seconds\n",
      "V AVERAGE: 0.025586570183627446\n",
      "running -- with epsilon decay:  0.9  iterations:  0.5\n"
     ]
    },
    {
     "name": "stderr",
     "output_type": "stream",
     "text": [
      "                                                                                                                                                                           \r"
     ]
    },
    {
     "name": "stdout",
     "output_type": "stream",
     "text": [
      "runtime = 0.94 seconds\n",
      "V AVERAGE: 0.05180130803702675\n",
      "running -- with epsilon decay:  0.9  iterations:  0.5\n"
     ]
    },
    {
     "name": "stderr",
     "output_type": "stream",
     "text": [
      "                                                                                                                                                                           \r"
     ]
    },
    {
     "name": "stdout",
     "output_type": "stream",
     "text": [
      "runtime = 4.75 seconds\n",
      "V AVERAGE: 0.057903238430544235\n",
      "running -- with epsilon decay:  0.9  iterations:  0.5\n"
     ]
    },
    {
     "name": "stderr",
     "output_type": "stream",
     "text": [
      "                                                                                                                                                                           \r"
     ]
    },
    {
     "name": "stdout",
     "output_type": "stream",
     "text": [
      "runtime = 9.61 seconds\n",
      "V AVERAGE: 0.062433649720721004\n",
      "running -- with epsilon decay:  0.9  iterations:  0.1\n"
     ]
    },
    {
     "name": "stderr",
     "output_type": "stream",
     "text": [
      "                                                                                                                                                                           \r"
     ]
    },
    {
     "name": "stdout",
     "output_type": "stream",
     "text": [
      "runtime = 0.10 seconds\n",
      "V AVERAGE: 0.030444918150334493\n",
      "running -- with epsilon decay:  0.9  iterations:  0.1\n"
     ]
    },
    {
     "name": "stderr",
     "output_type": "stream",
     "text": [
      "                                                                                                                                                                           \r"
     ]
    },
    {
     "name": "stdout",
     "output_type": "stream",
     "text": [
      "runtime = 0.95 seconds\n",
      "V AVERAGE: 0.047294122667168884\n",
      "running -- with epsilon decay:  0.9  iterations:  0.1\n"
     ]
    },
    {
     "name": "stderr",
     "output_type": "stream",
     "text": [
      "                                                                                                                                                                           \r"
     ]
    },
    {
     "name": "stdout",
     "output_type": "stream",
     "text": [
      "runtime = 4.78 seconds\n",
      "V AVERAGE: 0.06017964111077318\n",
      "running -- with epsilon decay:  0.9  iterations:  0.1\n"
     ]
    },
    {
     "name": "stderr",
     "output_type": "stream",
     "text": [
      "                                                                                                                                                                           \r"
     ]
    },
    {
     "name": "stdout",
     "output_type": "stream",
     "text": [
      "runtime = 9.55 seconds\n",
      "V AVERAGE: 0.06257580972195442\n",
      "running -- with epsilon decay:  0.9  iterations:  0.04\n"
     ]
    },
    {
     "name": "stderr",
     "output_type": "stream",
     "text": [
      "                                                                                                                                                                           \r"
     ]
    },
    {
     "name": "stdout",
     "output_type": "stream",
     "text": [
      "runtime = 0.09 seconds\n",
      "V AVERAGE: 0.02772210641911088\n",
      "running -- with epsilon decay:  0.9  iterations:  0.04\n"
     ]
    },
    {
     "name": "stderr",
     "output_type": "stream",
     "text": [
      "                                                                                                                                                                           \r"
     ]
    },
    {
     "name": "stdout",
     "output_type": "stream",
     "text": [
      "runtime = 0.94 seconds\n",
      "V AVERAGE: 0.05062204521842419\n",
      "running -- with epsilon decay:  0.9  iterations:  0.04\n"
     ]
    },
    {
     "name": "stderr",
     "output_type": "stream",
     "text": [
      "                                                                                                                                                                           \r"
     ]
    },
    {
     "name": "stdout",
     "output_type": "stream",
     "text": [
      "runtime = 4.73 seconds\n",
      "V AVERAGE: 0.07024021085783143\n",
      "running -- with epsilon decay:  0.9  iterations:  0.04\n"
     ]
    },
    {
     "name": "stderr",
     "output_type": "stream",
     "text": [
      "                                                                                                                                                                           \r"
     ]
    },
    {
     "name": "stdout",
     "output_type": "stream",
     "text": [
      "runtime = 9.55 seconds\n",
      "V AVERAGE: 0.06095122282195502\n",
      "running -- with epsilon decay:  0.9  iterations:  0.01\n"
     ]
    },
    {
     "name": "stderr",
     "output_type": "stream",
     "text": [
      "                                                                                                                                                                           \r"
     ]
    },
    {
     "name": "stdout",
     "output_type": "stream",
     "text": [
      "runtime = 0.09 seconds\n",
      "V AVERAGE: 0.02433553711439618\n",
      "running -- with epsilon decay:  0.9  iterations:  0.01\n"
     ]
    },
    {
     "name": "stderr",
     "output_type": "stream",
     "text": [
      "                                                                                                                                                                           \r"
     ]
    },
    {
     "name": "stdout",
     "output_type": "stream",
     "text": [
      "runtime = 0.94 seconds\n",
      "V AVERAGE: 0.06084184404401114\n",
      "running -- with epsilon decay:  0.9  iterations:  0.01\n"
     ]
    },
    {
     "name": "stderr",
     "output_type": "stream",
     "text": [
      "                                                                                                                                                                           \r"
     ]
    },
    {
     "name": "stdout",
     "output_type": "stream",
     "text": [
      "runtime = 4.75 seconds\n",
      "V AVERAGE: 0.06988114645413829\n",
      "running -- with epsilon decay:  0.9  iterations:  0.01\n"
     ]
    },
    {
     "name": "stderr",
     "output_type": "stream",
     "text": [
      "                                                                                                                                                                           \r"
     ]
    },
    {
     "name": "stdout",
     "output_type": "stream",
     "text": [
      "runtime = 9.50 seconds\n",
      "V AVERAGE: 0.06765842511450267\n",
      "running -- with epsilon decay:  0.9  iterations:  -0.04\n"
     ]
    },
    {
     "name": "stderr",
     "output_type": "stream",
     "text": [
      "                                                                                                                                                                           \r"
     ]
    },
    {
     "name": "stdout",
     "output_type": "stream",
     "text": [
      "runtime = 0.09 seconds\n",
      "V AVERAGE: 0.021934554104718562\n",
      "running -- with epsilon decay:  0.9  iterations:  -0.04\n"
     ]
    },
    {
     "name": "stderr",
     "output_type": "stream",
     "text": [
      "                                                                                                                                                                           \r"
     ]
    },
    {
     "name": "stdout",
     "output_type": "stream",
     "text": [
      "runtime = 0.94 seconds\n",
      "V AVERAGE: 0.042257314051421996\n",
      "running -- with epsilon decay:  0.9  iterations:  -0.04\n"
     ]
    },
    {
     "name": "stderr",
     "output_type": "stream",
     "text": [
      "                                                                                                                                                                           \r"
     ]
    },
    {
     "name": "stdout",
     "output_type": "stream",
     "text": [
      "runtime = 4.74 seconds\n",
      "V AVERAGE: 0.0669178253433367\n",
      "running -- with epsilon decay:  0.9  iterations:  -0.04\n"
     ]
    },
    {
     "name": "stderr",
     "output_type": "stream",
     "text": [
      "                                                                                                                                                                           \r"
     ]
    },
    {
     "name": "stdout",
     "output_type": "stream",
     "text": [
      "runtime = 9.49 seconds\n",
      "V AVERAGE: 0.07765195741003368\n",
      "running -- with epsilon decay:  0.9  iterations:  -0.5\n"
     ]
    },
    {
     "name": "stderr",
     "output_type": "stream",
     "text": [
      "                                                                                                                                                                           \r"
     ]
    },
    {
     "name": "stdout",
     "output_type": "stream",
     "text": [
      "runtime = 0.09 seconds\n",
      "V AVERAGE: 0.02711001470494905\n",
      "running -- with epsilon decay:  0.9  iterations:  -0.5\n"
     ]
    },
    {
     "name": "stderr",
     "output_type": "stream",
     "text": [
      "                                                                                                                                                                           \r"
     ]
    },
    {
     "name": "stdout",
     "output_type": "stream",
     "text": [
      "runtime = 0.94 seconds\n",
      "V AVERAGE: 0.06137882474227856\n",
      "running -- with epsilon decay:  0.9  iterations:  -0.5\n"
     ]
    },
    {
     "name": "stderr",
     "output_type": "stream",
     "text": [
      "                                                                                                                                                                           \r"
     ]
    },
    {
     "name": "stdout",
     "output_type": "stream",
     "text": [
      "runtime = 4.71 seconds\n",
      "V AVERAGE: 0.07899000384392917\n",
      "running -- with epsilon decay:  0.9  iterations:  -0.5\n"
     ]
    },
    {
     "name": "stderr",
     "output_type": "stream",
     "text": [
      "                                                                                                                                                                           \r"
     ]
    },
    {
     "name": "stdout",
     "output_type": "stream",
     "text": [
      "runtime = 9.52 seconds\n",
      "V AVERAGE: 0.07752618270203439\n",
      "running -- with epsilon decay:  0.9  iterations:  -1.0\n"
     ]
    },
    {
     "name": "stderr",
     "output_type": "stream",
     "text": [
      "                                                                                                                                                                           \r"
     ]
    },
    {
     "name": "stdout",
     "output_type": "stream",
     "text": [
      "runtime = 0.09 seconds\n",
      "V AVERAGE: 0.019857116909457052\n",
      "running -- with epsilon decay:  0.9  iterations:  -1.0\n"
     ]
    },
    {
     "name": "stderr",
     "output_type": "stream",
     "text": [
      "                                                                                                                                                                           \r"
     ]
    },
    {
     "name": "stdout",
     "output_type": "stream",
     "text": [
      "runtime = 0.94 seconds\n",
      "V AVERAGE: 0.06263678101780243\n",
      "running -- with epsilon decay:  0.9  iterations:  -1.0\n"
     ]
    },
    {
     "name": "stderr",
     "output_type": "stream",
     "text": [
      "                                                                                                                                                                           \r"
     ]
    },
    {
     "name": "stdout",
     "output_type": "stream",
     "text": [
      "runtime = 4.74 seconds\n",
      "V AVERAGE: 0.0845292555622516\n",
      "running -- with epsilon decay:  0.9  iterations:  -1.0\n"
     ]
    },
    {
     "name": "stderr",
     "output_type": "stream",
     "text": [
      "                                                                                                                                                                           \r"
     ]
    },
    {
     "name": "stdout",
     "output_type": "stream",
     "text": [
      "runtime = 9.76 seconds\n",
      "V AVERAGE: 0.08887945488340275\n",
      "running -- with epsilon decay:  0.7  iterations:  1.0\n"
     ]
    },
    {
     "name": "stderr",
     "output_type": "stream",
     "text": [
      "                                                                                                                                                                           \r"
     ]
    },
    {
     "name": "stdout",
     "output_type": "stream",
     "text": [
      "runtime = 0.10 seconds\n",
      "V AVERAGE: 0.040468563586735444\n",
      "running -- with epsilon decay:  0.7  iterations:  1.0\n"
     ]
    },
    {
     "name": "stderr",
     "output_type": "stream",
     "text": [
      "                                                                                                                                                                           \r"
     ]
    },
    {
     "name": "stdout",
     "output_type": "stream",
     "text": [
      "runtime = 0.98 seconds\n",
      "V AVERAGE: 0.03868047887700887\n",
      "running -- with epsilon decay:  0.7  iterations:  1.0\n"
     ]
    },
    {
     "name": "stderr",
     "output_type": "stream",
     "text": [
      "                                                                                                                                                                           \r"
     ]
    },
    {
     "name": "stdout",
     "output_type": "stream",
     "text": [
      "runtime = 4.91 seconds\n",
      "V AVERAGE: 0.0623094748128462\n",
      "running -- with epsilon decay:  0.7  iterations:  1.0\n"
     ]
    },
    {
     "name": "stderr",
     "output_type": "stream",
     "text": [
      "                                                                                                                                                                           \r"
     ]
    },
    {
     "name": "stdout",
     "output_type": "stream",
     "text": [
      "runtime = 9.70 seconds\n",
      "V AVERAGE: 0.05419305821060791\n",
      "running -- with epsilon decay:  0.7  iterations:  0.5\n"
     ]
    },
    {
     "name": "stderr",
     "output_type": "stream",
     "text": [
      "                                                                                                                                                                           \r"
     ]
    },
    {
     "name": "stdout",
     "output_type": "stream",
     "text": [
      "runtime = 0.10 seconds\n",
      "V AVERAGE: 0.03228643202374582\n",
      "running -- with epsilon decay:  0.7  iterations:  0.5\n"
     ]
    },
    {
     "name": "stderr",
     "output_type": "stream",
     "text": [
      "                                                                                                                                                                           \r"
     ]
    },
    {
     "name": "stdout",
     "output_type": "stream",
     "text": [
      "runtime = 0.96 seconds\n",
      "V AVERAGE: 0.05448969167806631\n",
      "running -- with epsilon decay:  0.7  iterations:  0.5\n"
     ]
    },
    {
     "name": "stderr",
     "output_type": "stream",
     "text": [
      "                                                                                                                                                                           \r"
     ]
    },
    {
     "name": "stdout",
     "output_type": "stream",
     "text": [
      "runtime = 4.90 seconds\n",
      "V AVERAGE: 0.056082598014631474\n",
      "running -- with epsilon decay:  0.7  iterations:  0.5\n"
     ]
    },
    {
     "name": "stderr",
     "output_type": "stream",
     "text": [
      "                                                                                                                                                                           \r"
     ]
    },
    {
     "name": "stdout",
     "output_type": "stream",
     "text": [
      "runtime = 9.91 seconds\n",
      "V AVERAGE: 0.057384701198329634\n",
      "running -- with epsilon decay:  0.7  iterations:  0.1\n"
     ]
    },
    {
     "name": "stderr",
     "output_type": "stream",
     "text": [
      "                                                                                                                                                                           \r"
     ]
    },
    {
     "name": "stdout",
     "output_type": "stream",
     "text": [
      "runtime = 0.11 seconds\n",
      "V AVERAGE: 0.023860908164572037\n",
      "running -- with epsilon decay:  0.7  iterations:  0.1\n"
     ]
    },
    {
     "name": "stderr",
     "output_type": "stream",
     "text": [
      "                                                                                                                                                                           \r"
     ]
    },
    {
     "name": "stdout",
     "output_type": "stream",
     "text": [
      "runtime = 0.97 seconds\n",
      "V AVERAGE: 0.03903093799968746\n",
      "running -- with epsilon decay:  0.7  iterations:  0.1\n"
     ]
    },
    {
     "name": "stderr",
     "output_type": "stream",
     "text": [
      "                                                                                                                                                                           \r"
     ]
    },
    {
     "name": "stdout",
     "output_type": "stream",
     "text": [
      "runtime = 4.91 seconds\n",
      "V AVERAGE: 0.06634705447528663\n",
      "running -- with epsilon decay:  0.7  iterations:  0.1\n"
     ]
    },
    {
     "name": "stderr",
     "output_type": "stream",
     "text": [
      "                                                                                                                                                                           \r"
     ]
    },
    {
     "name": "stdout",
     "output_type": "stream",
     "text": [
      "runtime = 9.64 seconds\n",
      "V AVERAGE: 0.06437110195261887\n",
      "running -- with epsilon decay:  0.7  iterations:  0.04\n"
     ]
    },
    {
     "name": "stderr",
     "output_type": "stream",
     "text": [
      "                                                                                                                                                                           \r"
     ]
    },
    {
     "name": "stdout",
     "output_type": "stream",
     "text": [
      "runtime = 0.09 seconds\n",
      "V AVERAGE: 0.03063298760583888\n",
      "running -- with epsilon decay:  0.7  iterations:  0.04\n"
     ]
    },
    {
     "name": "stderr",
     "output_type": "stream",
     "text": [
      "                                                                                                                                                                           \r"
     ]
    },
    {
     "name": "stdout",
     "output_type": "stream",
     "text": [
      "runtime = 0.95 seconds\n",
      "V AVERAGE: 0.04983282518341601\n",
      "running -- with epsilon decay:  0.7  iterations:  0.04\n"
     ]
    },
    {
     "name": "stderr",
     "output_type": "stream",
     "text": [
      "                                                                                                                                                                           \r"
     ]
    },
    {
     "name": "stdout",
     "output_type": "stream",
     "text": [
      "runtime = 4.83 seconds\n",
      "V AVERAGE: 0.06944847715154959\n",
      "running -- with epsilon decay:  0.7  iterations:  0.04\n"
     ]
    },
    {
     "name": "stderr",
     "output_type": "stream",
     "text": [
      "                                                                                                                                                                           \r"
     ]
    },
    {
     "name": "stdout",
     "output_type": "stream",
     "text": [
      "runtime = 9.82 seconds\n",
      "V AVERAGE: 0.06952160401423278\n",
      "running -- with epsilon decay:  0.7  iterations:  0.01\n"
     ]
    },
    {
     "name": "stderr",
     "output_type": "stream",
     "text": [
      "                                                                                                                                                                           \r"
     ]
    },
    {
     "name": "stdout",
     "output_type": "stream",
     "text": [
      "runtime = 0.10 seconds\n",
      "V AVERAGE: 0.02577788944907415\n",
      "running -- with epsilon decay:  0.7  iterations:  0.01\n"
     ]
    },
    {
     "name": "stderr",
     "output_type": "stream",
     "text": [
      "                                                                                                                                                                           \r"
     ]
    },
    {
     "name": "stdout",
     "output_type": "stream",
     "text": [
      "runtime = 0.97 seconds\n",
      "V AVERAGE: 0.057977973739280375\n",
      "running -- with epsilon decay:  0.7  iterations:  0.01\n"
     ]
    },
    {
     "name": "stderr",
     "output_type": "stream",
     "text": [
      "                                                                                                                                                                           \r"
     ]
    },
    {
     "name": "stdout",
     "output_type": "stream",
     "text": [
      "runtime = 4.92 seconds\n",
      "V AVERAGE: 0.06292955982291779\n",
      "running -- with epsilon decay:  0.7  iterations:  0.01\n"
     ]
    },
    {
     "name": "stderr",
     "output_type": "stream",
     "text": [
      "                                                                                                                                                                           \r"
     ]
    },
    {
     "name": "stdout",
     "output_type": "stream",
     "text": [
      "runtime = 9.81 seconds\n",
      "V AVERAGE: 0.06584274111348587\n",
      "running -- with epsilon decay:  0.7  iterations:  -0.04\n"
     ]
    },
    {
     "name": "stderr",
     "output_type": "stream",
     "text": [
      "                                                                                                                                                                           \r"
     ]
    },
    {
     "name": "stdout",
     "output_type": "stream",
     "text": [
      "runtime = 0.10 seconds\n",
      "V AVERAGE: 0.01976639953248205\n",
      "running -- with epsilon decay:  0.7  iterations:  -0.04\n"
     ]
    },
    {
     "name": "stderr",
     "output_type": "stream",
     "text": [
      "                                                                                                                                                                           \r"
     ]
    },
    {
     "name": "stdout",
     "output_type": "stream",
     "text": [
      "runtime = 0.97 seconds\n",
      "V AVERAGE: 0.060336653429922504\n",
      "running -- with epsilon decay:  0.7  iterations:  -0.04\n"
     ]
    },
    {
     "name": "stderr",
     "output_type": "stream",
     "text": [
      "                                                                                                                                                                           \r"
     ]
    },
    {
     "name": "stdout",
     "output_type": "stream",
     "text": [
      "runtime = 4.90 seconds\n",
      "V AVERAGE: 0.06687898378914937\n",
      "running -- with epsilon decay:  0.7  iterations:  -0.04\n"
     ]
    },
    {
     "name": "stderr",
     "output_type": "stream",
     "text": [
      "                                                                                                                                                                           \r"
     ]
    },
    {
     "name": "stdout",
     "output_type": "stream",
     "text": [
      "runtime = 9.84 seconds\n",
      "V AVERAGE: 0.06866130857554115\n",
      "running -- with epsilon decay:  0.7  iterations:  -0.5\n"
     ]
    },
    {
     "name": "stderr",
     "output_type": "stream",
     "text": [
      "                                                                                                                                                                           \r"
     ]
    },
    {
     "name": "stdout",
     "output_type": "stream",
     "text": [
      "runtime = 0.10 seconds\n",
      "V AVERAGE: 0.020117621653837715\n",
      "running -- with epsilon decay:  0.7  iterations:  -0.5\n"
     ]
    },
    {
     "name": "stderr",
     "output_type": "stream",
     "text": [
      "                                                                                                                                                                           \r"
     ]
    },
    {
     "name": "stdout",
     "output_type": "stream",
     "text": [
      "runtime = 0.96 seconds\n",
      "V AVERAGE: 0.05616744265741637\n",
      "running -- with epsilon decay:  0.7  iterations:  -0.5\n"
     ]
    },
    {
     "name": "stderr",
     "output_type": "stream",
     "text": [
      "                                                                                                                                                                           \r"
     ]
    },
    {
     "name": "stdout",
     "output_type": "stream",
     "text": [
      "runtime = 4.78 seconds\n",
      "V AVERAGE: 0.07348916227893935\n",
      "running -- with epsilon decay:  0.7  iterations:  -0.5\n"
     ]
    },
    {
     "name": "stderr",
     "output_type": "stream",
     "text": [
      "                                                                                                                                                                           \r"
     ]
    },
    {
     "name": "stdout",
     "output_type": "stream",
     "text": [
      "runtime = 9.57 seconds\n",
      "V AVERAGE: 0.08110096674043114\n",
      "running -- with epsilon decay:  0.7  iterations:  -1.0\n"
     ]
    },
    {
     "name": "stderr",
     "output_type": "stream",
     "text": [
      "                                                                                                                                                                           \r"
     ]
    },
    {
     "name": "stdout",
     "output_type": "stream",
     "text": [
      "runtime = 0.09 seconds\n",
      "V AVERAGE: 0.014715712050130546\n",
      "running -- with epsilon decay:  0.7  iterations:  -1.0\n"
     ]
    },
    {
     "name": "stderr",
     "output_type": "stream",
     "text": [
      "                                                                                                                                                                           \r"
     ]
    },
    {
     "name": "stdout",
     "output_type": "stream",
     "text": [
      "runtime = 0.95 seconds\n",
      "V AVERAGE: 0.05006349146558051\n",
      "running -- with epsilon decay:  0.7  iterations:  -1.0\n"
     ]
    },
    {
     "name": "stderr",
     "output_type": "stream",
     "text": [
      "                                                                                                                                                                           \r"
     ]
    },
    {
     "name": "stdout",
     "output_type": "stream",
     "text": [
      "runtime = 4.72 seconds\n",
      "V AVERAGE: 0.08826649392298244\n",
      "running -- with epsilon decay:  0.7  iterations:  -1.0\n"
     ]
    },
    {
     "name": "stderr",
     "output_type": "stream",
     "text": [
      "                                                                                                                                                                           \r"
     ]
    },
    {
     "name": "stdout",
     "output_type": "stream",
     "text": [
      "runtime = 9.46 seconds\n",
      "V AVERAGE: 0.09068330065065727\n",
      "running -- with epsilon decay:  0.5  iterations:  1.0\n"
     ]
    },
    {
     "name": "stderr",
     "output_type": "stream",
     "text": [
      "                                                                                                                                                                           \r"
     ]
    },
    {
     "name": "stdout",
     "output_type": "stream",
     "text": [
      "runtime = 0.09 seconds\n",
      "V AVERAGE: 0.021428483693536983\n",
      "running -- with epsilon decay:  0.5  iterations:  1.0\n"
     ]
    },
    {
     "name": "stderr",
     "output_type": "stream",
     "text": [
      "                                                                                                                                                                           \r"
     ]
    },
    {
     "name": "stdout",
     "output_type": "stream",
     "text": [
      "runtime = 0.94 seconds\n",
      "V AVERAGE: 0.053772520583971306\n",
      "running -- with epsilon decay:  0.5  iterations:  1.0\n"
     ]
    },
    {
     "name": "stderr",
     "output_type": "stream",
     "text": [
      "                                                                                                                                                                           \r"
     ]
    },
    {
     "name": "stdout",
     "output_type": "stream",
     "text": [
      "runtime = 4.76 seconds\n",
      "V AVERAGE: 0.05774644734046137\n",
      "running -- with epsilon decay:  0.5  iterations:  1.0\n"
     ]
    },
    {
     "name": "stderr",
     "output_type": "stream",
     "text": [
      "                                                                                                                                                                           \r"
     ]
    },
    {
     "name": "stdout",
     "output_type": "stream",
     "text": [
      "runtime = 9.66 seconds\n",
      "V AVERAGE: 0.05443622766338819\n",
      "running -- with epsilon decay:  0.5  iterations:  0.5\n"
     ]
    },
    {
     "name": "stderr",
     "output_type": "stream",
     "text": [
      "                                                                                                                                                                           \r"
     ]
    },
    {
     "name": "stdout",
     "output_type": "stream",
     "text": [
      "runtime = 0.09 seconds\n",
      "V AVERAGE: 0.019740235083420953\n",
      "running -- with epsilon decay:  0.5  iterations:  0.5\n"
     ]
    },
    {
     "name": "stderr",
     "output_type": "stream",
     "text": [
      "                                                                                                                                                                           \r"
     ]
    },
    {
     "name": "stdout",
     "output_type": "stream",
     "text": [
      "runtime = 0.96 seconds\n",
      "V AVERAGE: 0.05763048981098778\n",
      "running -- with epsilon decay:  0.5  iterations:  0.5\n"
     ]
    },
    {
     "name": "stderr",
     "output_type": "stream",
     "text": [
      "                                                                                                                                                                           \r"
     ]
    },
    {
     "name": "stdout",
     "output_type": "stream",
     "text": [
      "runtime = 4.78 seconds\n",
      "V AVERAGE: 0.06177115500962796\n",
      "running -- with epsilon decay:  0.5  iterations:  0.5\n"
     ]
    },
    {
     "name": "stderr",
     "output_type": "stream",
     "text": [
      "                                                                                                                                                                           \r"
     ]
    },
    {
     "name": "stdout",
     "output_type": "stream",
     "text": [
      "runtime = 9.72 seconds\n",
      "V AVERAGE: 0.05685641725096336\n",
      "running -- with epsilon decay:  0.5  iterations:  0.1\n"
     ]
    },
    {
     "name": "stderr",
     "output_type": "stream",
     "text": [
      "                                                                                                                                                                           \r"
     ]
    },
    {
     "name": "stdout",
     "output_type": "stream",
     "text": [
      "runtime = 0.10 seconds\n",
      "V AVERAGE: 0.017689200863996776\n",
      "running -- with epsilon decay:  0.5  iterations:  0.1\n"
     ]
    },
    {
     "name": "stderr",
     "output_type": "stream",
     "text": [
      "                                                                                                                                                                           \r"
     ]
    },
    {
     "name": "stdout",
     "output_type": "stream",
     "text": [
      "runtime = 0.98 seconds\n",
      "V AVERAGE: 0.047979553339139794\n",
      "running -- with epsilon decay:  0.5  iterations:  0.1\n"
     ]
    },
    {
     "name": "stderr",
     "output_type": "stream",
     "text": [
      "                                                                                                                                                                           \r"
     ]
    },
    {
     "name": "stdout",
     "output_type": "stream",
     "text": [
      "runtime = 4.93 seconds\n",
      "V AVERAGE: 0.061974189270075135\n",
      "running -- with epsilon decay:  0.5  iterations:  0.1\n"
     ]
    },
    {
     "name": "stderr",
     "output_type": "stream",
     "text": [
      "                                                                                                                                                                           \r"
     ]
    },
    {
     "name": "stdout",
     "output_type": "stream",
     "text": [
      "runtime = 9.89 seconds\n",
      "V AVERAGE: 0.062165705530366856\n",
      "running -- with epsilon decay:  0.5  iterations:  0.04\n"
     ]
    },
    {
     "name": "stderr",
     "output_type": "stream",
     "text": [
      "                                                                                                                                                                           \r"
     ]
    },
    {
     "name": "stdout",
     "output_type": "stream",
     "text": [
      "runtime = 0.10 seconds\n",
      "V AVERAGE: 0.021203343252495087\n",
      "running -- with epsilon decay:  0.5  iterations:  0.04\n"
     ]
    },
    {
     "name": "stderr",
     "output_type": "stream",
     "text": [
      "                                                                                                                                                                           \r"
     ]
    },
    {
     "name": "stdout",
     "output_type": "stream",
     "text": [
      "runtime = 0.96 seconds\n",
      "V AVERAGE: 0.057885258421316386\n",
      "running -- with epsilon decay:  0.5  iterations:  0.04\n"
     ]
    },
    {
     "name": "stderr",
     "output_type": "stream",
     "text": [
      "                                                                                                                                                                           \r"
     ]
    },
    {
     "name": "stdout",
     "output_type": "stream",
     "text": [
      "runtime = 4.89 seconds\n",
      "V AVERAGE: 0.061067732837622936\n",
      "running -- with epsilon decay:  0.5  iterations:  0.04\n"
     ]
    },
    {
     "name": "stderr",
     "output_type": "stream",
     "text": [
      "                                                                                                                                                                           \r"
     ]
    },
    {
     "name": "stdout",
     "output_type": "stream",
     "text": [
      "runtime = 10.08 seconds\n",
      "V AVERAGE: 0.05952769717191269\n",
      "running -- with epsilon decay:  0.5  iterations:  0.01\n"
     ]
    },
    {
     "name": "stderr",
     "output_type": "stream",
     "text": [
      "                                                                                                                                                                           \r"
     ]
    },
    {
     "name": "stdout",
     "output_type": "stream",
     "text": [
      "runtime = 0.10 seconds\n",
      "V AVERAGE: 0.03421883365182271\n",
      "running -- with epsilon decay:  0.5  iterations:  0.01\n"
     ]
    },
    {
     "name": "stderr",
     "output_type": "stream",
     "text": [
      "                                                                                                                                                                           \r"
     ]
    },
    {
     "name": "stdout",
     "output_type": "stream",
     "text": [
      "runtime = 0.98 seconds\n",
      "V AVERAGE: 0.050378953486122875\n",
      "running -- with epsilon decay:  0.5  iterations:  0.01\n"
     ]
    },
    {
     "name": "stderr",
     "output_type": "stream",
     "text": [
      "                                                                                                                                                                           \r"
     ]
    },
    {
     "name": "stdout",
     "output_type": "stream",
     "text": [
      "runtime = 4.88 seconds\n",
      "V AVERAGE: 0.06463081112899673\n",
      "running -- with epsilon decay:  0.5  iterations:  0.01\n"
     ]
    },
    {
     "name": "stderr",
     "output_type": "stream",
     "text": [
      "                                                                                                                                                                           \r"
     ]
    },
    {
     "name": "stdout",
     "output_type": "stream",
     "text": [
      "runtime = 9.87 seconds\n",
      "V AVERAGE: 0.061930910843719954\n",
      "running -- with epsilon decay:  0.5  iterations:  -0.04\n"
     ]
    },
    {
     "name": "stderr",
     "output_type": "stream",
     "text": [
      "                                                                                                                                                                           \r"
     ]
    },
    {
     "name": "stdout",
     "output_type": "stream",
     "text": [
      "runtime = 0.10 seconds\n",
      "V AVERAGE: 0.030813298689790308\n",
      "running -- with epsilon decay:  0.5  iterations:  -0.04\n"
     ]
    },
    {
     "name": "stderr",
     "output_type": "stream",
     "text": [
      "                                                                                                                                                                           \r"
     ]
    },
    {
     "name": "stdout",
     "output_type": "stream",
     "text": [
      "runtime = 0.98 seconds\n",
      "V AVERAGE: 0.04062476540530329\n",
      "running -- with epsilon decay:  0.5  iterations:  -0.04\n"
     ]
    },
    {
     "name": "stderr",
     "output_type": "stream",
     "text": [
      "                                                                                                                                                                           \r"
     ]
    },
    {
     "name": "stdout",
     "output_type": "stream",
     "text": [
      "runtime = 4.91 seconds\n",
      "V AVERAGE: 0.0611364517571111\n",
      "running -- with epsilon decay:  0.5  iterations:  -0.04\n"
     ]
    },
    {
     "name": "stderr",
     "output_type": "stream",
     "text": [
      "                                                                                                                                                                           \r"
     ]
    },
    {
     "name": "stdout",
     "output_type": "stream",
     "text": [
      "runtime = 9.87 seconds\n",
      "V AVERAGE: 0.06800811820506253\n",
      "running -- with epsilon decay:  0.5  iterations:  -0.5\n"
     ]
    },
    {
     "name": "stderr",
     "output_type": "stream",
     "text": [
      "                                                                                                                                                                           \r"
     ]
    },
    {
     "name": "stdout",
     "output_type": "stream",
     "text": [
      "runtime = 0.10 seconds\n",
      "V AVERAGE: 0.026568013351236056\n",
      "running -- with epsilon decay:  0.5  iterations:  -0.5\n"
     ]
    },
    {
     "name": "stderr",
     "output_type": "stream",
     "text": [
      "                                                                                                                                                                           \r"
     ]
    },
    {
     "name": "stdout",
     "output_type": "stream",
     "text": [
      "runtime = 0.97 seconds\n",
      "V AVERAGE: 0.055359733927471164\n",
      "running -- with epsilon decay:  0.5  iterations:  -0.5\n"
     ]
    },
    {
     "name": "stderr",
     "output_type": "stream",
     "text": [
      "                                                                                                                                                                           \r"
     ]
    },
    {
     "name": "stdout",
     "output_type": "stream",
     "text": [
      "runtime = 4.87 seconds\n",
      "V AVERAGE: 0.07433769293623915\n",
      "running -- with epsilon decay:  0.5  iterations:  -0.5\n"
     ]
    },
    {
     "name": "stderr",
     "output_type": "stream",
     "text": [
      "                                                                                                                                                                           \r"
     ]
    },
    {
     "name": "stdout",
     "output_type": "stream",
     "text": [
      "runtime = 9.81 seconds\n",
      "V AVERAGE: 0.07711976420495067\n",
      "running -- with epsilon decay:  0.5  iterations:  -1.0\n"
     ]
    },
    {
     "name": "stderr",
     "output_type": "stream",
     "text": [
      "                                                                                                                                                                           \r"
     ]
    },
    {
     "name": "stdout",
     "output_type": "stream",
     "text": [
      "runtime = 0.10 seconds\n",
      "V AVERAGE: 0.031310855598568776\n",
      "running -- with epsilon decay:  0.5  iterations:  -1.0\n"
     ]
    },
    {
     "name": "stderr",
     "output_type": "stream",
     "text": [
      "                                                                                                                                                                           \r"
     ]
    },
    {
     "name": "stdout",
     "output_type": "stream",
     "text": [
      "runtime = 0.97 seconds\n",
      "V AVERAGE: 0.06299844449688873\n",
      "running -- with epsilon decay:  0.5  iterations:  -1.0\n"
     ]
    },
    {
     "name": "stderr",
     "output_type": "stream",
     "text": [
      "                                                                                                                                                                           \r"
     ]
    },
    {
     "name": "stdout",
     "output_type": "stream",
     "text": [
      "runtime = 4.86 seconds\n",
      "V AVERAGE: 0.08752668649298714\n",
      "running -- with epsilon decay:  0.5  iterations:  -1.0\n"
     ]
    },
    {
     "name": "stderr",
     "output_type": "stream",
     "text": [
      "                                                                                                                                                                           \r"
     ]
    },
    {
     "name": "stdout",
     "output_type": "stream",
     "text": [
      "runtime = 9.75 seconds\n",
      "V AVERAGE: 0.08789874814758504\n",
      "running -- with epsilon decay:  0.3  iterations:  1.0\n"
     ]
    },
    {
     "name": "stderr",
     "output_type": "stream",
     "text": [
      "                                                                                                                                                                           \r"
     ]
    },
    {
     "name": "stdout",
     "output_type": "stream",
     "text": [
      "runtime = 0.10 seconds\n",
      "V AVERAGE: 0.023572924863907635\n",
      "running -- with epsilon decay:  0.3  iterations:  1.0\n"
     ]
    },
    {
     "name": "stderr",
     "output_type": "stream",
     "text": [
      "                                                                                                                                                                           \r"
     ]
    },
    {
     "name": "stdout",
     "output_type": "stream",
     "text": [
      "runtime = 0.97 seconds\n",
      "V AVERAGE: 0.05338406424371383\n",
      "running -- with epsilon decay:  0.3  iterations:  1.0\n"
     ]
    },
    {
     "name": "stderr",
     "output_type": "stream",
     "text": [
      "                                                                                                                                                                           \r"
     ]
    },
    {
     "name": "stdout",
     "output_type": "stream",
     "text": [
      "runtime = 4.95 seconds\n",
      "V AVERAGE: 0.04896630347517337\n",
      "running -- with epsilon decay:  0.3  iterations:  1.0\n"
     ]
    },
    {
     "name": "stderr",
     "output_type": "stream",
     "text": [
      "                                                                                                                                                                           \r"
     ]
    },
    {
     "name": "stdout",
     "output_type": "stream",
     "text": [
      "runtime = 9.87 seconds\n",
      "V AVERAGE: 0.04793283789880937\n",
      "running -- with epsilon decay:  0.3  iterations:  0.5\n"
     ]
    },
    {
     "name": "stderr",
     "output_type": "stream",
     "text": [
      "                                                                                                                                                                           \r"
     ]
    },
    {
     "name": "stdout",
     "output_type": "stream",
     "text": [
      "runtime = 0.10 seconds\n",
      "V AVERAGE: 0.028244522794832506\n",
      "running -- with epsilon decay:  0.3  iterations:  0.5\n"
     ]
    },
    {
     "name": "stderr",
     "output_type": "stream",
     "text": [
      "                                                                                                                                                                           \r"
     ]
    },
    {
     "name": "stdout",
     "output_type": "stream",
     "text": [
      "runtime = 0.97 seconds\n",
      "V AVERAGE: 0.04627390518532632\n",
      "running -- with epsilon decay:  0.3  iterations:  0.5\n"
     ]
    },
    {
     "name": "stderr",
     "output_type": "stream",
     "text": [
      "                                                                                                                                                                           \r"
     ]
    },
    {
     "name": "stdout",
     "output_type": "stream",
     "text": [
      "runtime = 4.94 seconds\n",
      "V AVERAGE: 0.04934283619367235\n",
      "running -- with epsilon decay:  0.3  iterations:  0.5\n"
     ]
    },
    {
     "name": "stderr",
     "output_type": "stream",
     "text": [
      "                                                                                                                                                                           \r"
     ]
    },
    {
     "name": "stdout",
     "output_type": "stream",
     "text": [
      "runtime = 9.97 seconds\n",
      "V AVERAGE: 0.04456629984468686\n",
      "running -- with epsilon decay:  0.3  iterations:  0.1\n"
     ]
    },
    {
     "name": "stderr",
     "output_type": "stream",
     "text": [
      "                                                                                                                                                                           \r"
     ]
    },
    {
     "name": "stdout",
     "output_type": "stream",
     "text": [
      "runtime = 0.10 seconds\n",
      "V AVERAGE: 0.02590426238734026\n",
      "running -- with epsilon decay:  0.3  iterations:  0.1\n"
     ]
    },
    {
     "name": "stderr",
     "output_type": "stream",
     "text": [
      "                                                                                                                                                                           \r"
     ]
    },
    {
     "name": "stdout",
     "output_type": "stream",
     "text": [
      "runtime = 0.98 seconds\n",
      "V AVERAGE: 0.04807302305891665\n",
      "running -- with epsilon decay:  0.3  iterations:  0.1\n"
     ]
    },
    {
     "name": "stderr",
     "output_type": "stream",
     "text": [
      "                                                                                                                                                                           \r"
     ]
    },
    {
     "name": "stdout",
     "output_type": "stream",
     "text": [
      "runtime = 4.94 seconds\n",
      "V AVERAGE: 0.057561927467634603\n",
      "running -- with epsilon decay:  0.3  iterations:  0.1\n"
     ]
    },
    {
     "name": "stderr",
     "output_type": "stream",
     "text": [
      "                                                                                                                                                                           \r"
     ]
    },
    {
     "name": "stdout",
     "output_type": "stream",
     "text": [
      "runtime = 9.98 seconds\n",
      "V AVERAGE: 0.05718688509001271\n",
      "running -- with epsilon decay:  0.3  iterations:  0.04\n"
     ]
    },
    {
     "name": "stderr",
     "output_type": "stream",
     "text": [
      "                                                                                                                                                                           \r"
     ]
    },
    {
     "name": "stdout",
     "output_type": "stream",
     "text": [
      "runtime = 0.10 seconds\n",
      "V AVERAGE: 0.031070470279622994\n",
      "running -- with epsilon decay:  0.3  iterations:  0.04\n"
     ]
    },
    {
     "name": "stderr",
     "output_type": "stream",
     "text": [
      "                                                                                                                                                                           \r"
     ]
    },
    {
     "name": "stdout",
     "output_type": "stream",
     "text": [
      "runtime = 0.98 seconds\n",
      "V AVERAGE: 0.06466192274637295\n",
      "running -- with epsilon decay:  0.3  iterations:  0.04\n"
     ]
    },
    {
     "name": "stderr",
     "output_type": "stream",
     "text": [
      "                                                                                                                                                                           \r"
     ]
    },
    {
     "name": "stdout",
     "output_type": "stream",
     "text": [
      "runtime = 4.92 seconds\n",
      "V AVERAGE: 0.06332435160558589\n",
      "running -- with epsilon decay:  0.3  iterations:  0.04\n"
     ]
    },
    {
     "name": "stderr",
     "output_type": "stream",
     "text": [
      "                                                                                                                                                                           \r"
     ]
    },
    {
     "name": "stdout",
     "output_type": "stream",
     "text": [
      "runtime = 9.89 seconds\n",
      "V AVERAGE: 0.061300926826090354\n",
      "running -- with epsilon decay:  0.3  iterations:  0.01\n"
     ]
    },
    {
     "name": "stderr",
     "output_type": "stream",
     "text": [
      "                                                                                                                                                                           \r"
     ]
    },
    {
     "name": "stdout",
     "output_type": "stream",
     "text": [
      "runtime = 0.10 seconds\n",
      "V AVERAGE: 0.010959512835320363\n",
      "running -- with epsilon decay:  0.3  iterations:  0.01\n"
     ]
    },
    {
     "name": "stderr",
     "output_type": "stream",
     "text": [
      "                                                                                                                                                                           \r"
     ]
    },
    {
     "name": "stdout",
     "output_type": "stream",
     "text": [
      "runtime = 0.96 seconds\n",
      "V AVERAGE: 0.05016431593806912\n",
      "running -- with epsilon decay:  0.3  iterations:  0.01\n"
     ]
    },
    {
     "name": "stderr",
     "output_type": "stream",
     "text": [
      "                                                                                                                                                                           \r"
     ]
    },
    {
     "name": "stdout",
     "output_type": "stream",
     "text": [
      "runtime = 4.90 seconds\n",
      "V AVERAGE: 0.05205016829306166\n",
      "running -- with epsilon decay:  0.3  iterations:  0.01\n"
     ]
    },
    {
     "name": "stderr",
     "output_type": "stream",
     "text": [
      "                                                                                                                                                                           \r"
     ]
    },
    {
     "name": "stdout",
     "output_type": "stream",
     "text": [
      "runtime = 9.86 seconds\n",
      "V AVERAGE: 0.0624835830688094\n",
      "running -- with epsilon decay:  0.3  iterations:  -0.04\n"
     ]
    },
    {
     "name": "stderr",
     "output_type": "stream",
     "text": [
      "                                                                                                                                                                           \r"
     ]
    },
    {
     "name": "stdout",
     "output_type": "stream",
     "text": [
      "runtime = 0.10 seconds\n",
      "V AVERAGE: 0.02521362516831613\n",
      "running -- with epsilon decay:  0.3  iterations:  -0.04\n"
     ]
    },
    {
     "name": "stderr",
     "output_type": "stream",
     "text": [
      "                                                                                                                                                                           \r"
     ]
    },
    {
     "name": "stdout",
     "output_type": "stream",
     "text": [
      "runtime = 0.98 seconds\n",
      "V AVERAGE: 0.036902526634568535\n",
      "running -- with epsilon decay:  0.3  iterations:  -0.04\n"
     ]
    },
    {
     "name": "stderr",
     "output_type": "stream",
     "text": [
      "                                                                                                                                                                           \r"
     ]
    },
    {
     "name": "stdout",
     "output_type": "stream",
     "text": [
      "runtime = 4.94 seconds\n",
      "V AVERAGE: 0.06238777430219069\n",
      "running -- with epsilon decay:  0.3  iterations:  -0.04\n"
     ]
    },
    {
     "name": "stderr",
     "output_type": "stream",
     "text": [
      "                                                                                                                                                                           \r"
     ]
    },
    {
     "name": "stdout",
     "output_type": "stream",
     "text": [
      "runtime = 9.77 seconds\n",
      "V AVERAGE: 0.06325720651879548\n",
      "running -- with epsilon decay:  0.3  iterations:  -0.5\n"
     ]
    },
    {
     "name": "stderr",
     "output_type": "stream",
     "text": [
      "                                                                                                                                                                           \r"
     ]
    },
    {
     "name": "stdout",
     "output_type": "stream",
     "text": [
      "runtime = 0.09 seconds\n",
      "V AVERAGE: 0.029329295484775367\n",
      "running -- with epsilon decay:  0.3  iterations:  -0.5\n"
     ]
    },
    {
     "name": "stderr",
     "output_type": "stream",
     "text": [
      "                                                                                                                                                                           \r"
     ]
    },
    {
     "name": "stdout",
     "output_type": "stream",
     "text": [
      "runtime = 0.97 seconds\n",
      "V AVERAGE: 0.04560821171840107\n",
      "running -- with epsilon decay:  0.3  iterations:  -0.5\n"
     ]
    },
    {
     "name": "stderr",
     "output_type": "stream",
     "text": [
      "                                                                                                                                                                           \r"
     ]
    },
    {
     "name": "stdout",
     "output_type": "stream",
     "text": [
      "runtime = 4.89 seconds\n",
      "V AVERAGE: 0.07262636319665144\n",
      "running -- with epsilon decay:  0.3  iterations:  -0.5\n"
     ]
    },
    {
     "name": "stderr",
     "output_type": "stream",
     "text": [
      "                                                                                                                                                                           \r"
     ]
    },
    {
     "name": "stdout",
     "output_type": "stream",
     "text": [
      "runtime = 9.69 seconds\n",
      "V AVERAGE: 0.08073397701474383\n",
      "running -- with epsilon decay:  0.3  iterations:  -1.0\n"
     ]
    },
    {
     "name": "stderr",
     "output_type": "stream",
     "text": [
      "                                                                                                                                                                           \r"
     ]
    },
    {
     "name": "stdout",
     "output_type": "stream",
     "text": [
      "runtime = 0.09 seconds\n",
      "V AVERAGE: 0.04301794347811325\n",
      "running -- with epsilon decay:  0.3  iterations:  -1.0\n"
     ]
    },
    {
     "name": "stderr",
     "output_type": "stream",
     "text": [
      "                                                                                                                                                                           \r"
     ]
    },
    {
     "name": "stdout",
     "output_type": "stream",
     "text": [
      "runtime = 0.98 seconds\n",
      "V AVERAGE: 0.06076331048725308\n",
      "running -- with epsilon decay:  0.3  iterations:  -1.0\n"
     ]
    },
    {
     "name": "stderr",
     "output_type": "stream",
     "text": [
      "                                                                                                                                                                           \r"
     ]
    },
    {
     "name": "stdout",
     "output_type": "stream",
     "text": [
      "runtime = 4.81 seconds\n",
      "V AVERAGE: 0.07956827360239295\n",
      "running -- with epsilon decay:  0.3  iterations:  -1.0\n"
     ]
    },
    {
     "name": "stderr",
     "output_type": "stream",
     "text": [
      "                                                                                                                                                                           \r"
     ]
    },
    {
     "name": "stdout",
     "output_type": "stream",
     "text": [
      "runtime = 9.63 seconds\n",
      "V AVERAGE: 0.0926596151631467\n",
      "running -- with epsilon decay:  0.1  iterations:  1.0\n"
     ]
    },
    {
     "name": "stderr",
     "output_type": "stream",
     "text": [
      "                                                                                                                                                                           \r"
     ]
    },
    {
     "name": "stdout",
     "output_type": "stream",
     "text": [
      "runtime = 0.10 seconds\n",
      "V AVERAGE: 0.03663209416082666\n",
      "running -- with epsilon decay:  0.1  iterations:  1.0\n"
     ]
    },
    {
     "name": "stderr",
     "output_type": "stream",
     "text": [
      "                                                                                                                                                                           \r"
     ]
    },
    {
     "name": "stdout",
     "output_type": "stream",
     "text": [
      "runtime = 0.96 seconds\n",
      "V AVERAGE: 0.04486815038903716\n",
      "running -- with epsilon decay:  0.1  iterations:  1.0\n"
     ]
    },
    {
     "name": "stderr",
     "output_type": "stream",
     "text": [
      "                                                                                                                                                                           \r"
     ]
    },
    {
     "name": "stdout",
     "output_type": "stream",
     "text": [
      "runtime = 4.86 seconds\n",
      "V AVERAGE: 0.033652855889213996\n",
      "running -- with epsilon decay:  0.1  iterations:  1.0\n"
     ]
    },
    {
     "name": "stderr",
     "output_type": "stream",
     "text": [
      "                                                                                                                                                                           \r"
     ]
    },
    {
     "name": "stdout",
     "output_type": "stream",
     "text": [
      "runtime = 9.79 seconds\n",
      "V AVERAGE: 0.0331156297658365\n",
      "running -- with epsilon decay:  0.1  iterations:  0.5\n"
     ]
    },
    {
     "name": "stderr",
     "output_type": "stream",
     "text": [
      "                                                                                                                                                                           \r"
     ]
    },
    {
     "name": "stdout",
     "output_type": "stream",
     "text": [
      "runtime = 0.10 seconds\n",
      "V AVERAGE: 0.030758094440496125\n",
      "running -- with epsilon decay:  0.1  iterations:  0.5\n"
     ]
    },
    {
     "name": "stderr",
     "output_type": "stream",
     "text": [
      "                                                                                                                                                                           \r"
     ]
    },
    {
     "name": "stdout",
     "output_type": "stream",
     "text": [
      "runtime = 0.95 seconds\n",
      "V AVERAGE: 0.04267420092150029\n",
      "running -- with epsilon decay:  0.1  iterations:  0.5\n"
     ]
    },
    {
     "name": "stderr",
     "output_type": "stream",
     "text": [
      "                                                                                                                                                                           \r"
     ]
    },
    {
     "name": "stdout",
     "output_type": "stream",
     "text": [
      "runtime = 4.86 seconds\n",
      "V AVERAGE: 0.05187274172769345\n",
      "running -- with epsilon decay:  0.1  iterations:  0.5\n"
     ]
    },
    {
     "name": "stderr",
     "output_type": "stream",
     "text": [
      "                                                                                                                                                                           \r"
     ]
    },
    {
     "name": "stdout",
     "output_type": "stream",
     "text": [
      "runtime = 9.77 seconds\n",
      "V AVERAGE: 0.04296845589062334\n",
      "running -- with epsilon decay:  0.1  iterations:  0.1\n"
     ]
    },
    {
     "name": "stderr",
     "output_type": "stream",
     "text": [
      "                                                                                                                                                                           \r"
     ]
    },
    {
     "name": "stdout",
     "output_type": "stream",
     "text": [
      "runtime = 0.10 seconds\n",
      "V AVERAGE: 0.026503362593122165\n",
      "running -- with epsilon decay:  0.1  iterations:  0.1\n"
     ]
    },
    {
     "name": "stderr",
     "output_type": "stream",
     "text": [
      "                                                                                                                                                                           \r"
     ]
    },
    {
     "name": "stdout",
     "output_type": "stream",
     "text": [
      "runtime = 0.97 seconds\n",
      "V AVERAGE: 0.04428880977766101\n",
      "running -- with epsilon decay:  0.1  iterations:  0.1\n"
     ]
    },
    {
     "name": "stderr",
     "output_type": "stream",
     "text": [
      "                                                                                                                                                                           \r"
     ]
    },
    {
     "name": "stdout",
     "output_type": "stream",
     "text": [
      "runtime = 4.85 seconds\n",
      "V AVERAGE: 0.055887581650037106\n",
      "running -- with epsilon decay:  0.1  iterations:  0.1\n"
     ]
    },
    {
     "name": "stderr",
     "output_type": "stream",
     "text": [
      "                                                                                                                                                                           \r"
     ]
    },
    {
     "name": "stdout",
     "output_type": "stream",
     "text": [
      "runtime = 9.80 seconds\n",
      "V AVERAGE: 0.05501601691220745\n",
      "running -- with epsilon decay:  0.1  iterations:  0.04\n"
     ]
    },
    {
     "name": "stderr",
     "output_type": "stream",
     "text": [
      "                                                                                                                                                                           \r"
     ]
    },
    {
     "name": "stdout",
     "output_type": "stream",
     "text": [
      "runtime = 0.09 seconds\n",
      "V AVERAGE: 0.035861285798693354\n",
      "running -- with epsilon decay:  0.1  iterations:  0.04\n"
     ]
    },
    {
     "name": "stderr",
     "output_type": "stream",
     "text": [
      "                                                                                                                                                                           \r"
     ]
    },
    {
     "name": "stdout",
     "output_type": "stream",
     "text": [
      "runtime = 0.97 seconds\n",
      "V AVERAGE: 0.03617257196282023\n",
      "running -- with epsilon decay:  0.1  iterations:  0.04\n"
     ]
    },
    {
     "name": "stderr",
     "output_type": "stream",
     "text": [
      "                                                                                                                                                                           \r"
     ]
    },
    {
     "name": "stdout",
     "output_type": "stream",
     "text": [
      "runtime = 4.94 seconds\n",
      "V AVERAGE: 0.05007217873764004\n",
      "running -- with epsilon decay:  0.1  iterations:  0.04\n"
     ]
    },
    {
     "name": "stderr",
     "output_type": "stream",
     "text": [
      "                                                                                                                                                                           \r"
     ]
    },
    {
     "name": "stdout",
     "output_type": "stream",
     "text": [
      "runtime = 9.74 seconds\n",
      "V AVERAGE: 0.054167080318392305\n",
      "running -- with epsilon decay:  0.1  iterations:  0.01\n"
     ]
    },
    {
     "name": "stderr",
     "output_type": "stream",
     "text": [
      "                                                                                                                                                                           \r"
     ]
    },
    {
     "name": "stdout",
     "output_type": "stream",
     "text": [
      "runtime = 0.10 seconds\n",
      "V AVERAGE: 0.03094710286703844\n",
      "running -- with epsilon decay:  0.1  iterations:  0.01\n"
     ]
    },
    {
     "name": "stderr",
     "output_type": "stream",
     "text": [
      "                                                                                                                                                                           \r"
     ]
    },
    {
     "name": "stdout",
     "output_type": "stream",
     "text": [
      "runtime = 0.97 seconds\n",
      "V AVERAGE: 0.0478217369891575\n",
      "running -- with epsilon decay:  0.1  iterations:  0.01\n"
     ]
    },
    {
     "name": "stderr",
     "output_type": "stream",
     "text": [
      "                                                                                                                                                                           \r"
     ]
    },
    {
     "name": "stdout",
     "output_type": "stream",
     "text": [
      "runtime = 4.84 seconds\n",
      "V AVERAGE: 0.057760107388588035\n",
      "running -- with epsilon decay:  0.1  iterations:  0.01\n"
     ]
    },
    {
     "name": "stderr",
     "output_type": "stream",
     "text": [
      "                                                                                                                                                                           \r"
     ]
    },
    {
     "name": "stdout",
     "output_type": "stream",
     "text": [
      "runtime = 9.75 seconds\n",
      "V AVERAGE: 0.0607585828736696\n",
      "running -- with epsilon decay:  0.1  iterations:  -0.04\n"
     ]
    },
    {
     "name": "stderr",
     "output_type": "stream",
     "text": [
      "                                                                                                                                                                           \r"
     ]
    },
    {
     "name": "stdout",
     "output_type": "stream",
     "text": [
      "runtime = 0.09 seconds\n",
      "V AVERAGE: 0.025136146074206944\n",
      "running -- with epsilon decay:  0.1  iterations:  -0.04\n"
     ]
    },
    {
     "name": "stderr",
     "output_type": "stream",
     "text": [
      "                                                                                                                                                                           \r"
     ]
    },
    {
     "name": "stdout",
     "output_type": "stream",
     "text": [
      "runtime = 0.96 seconds\n",
      "V AVERAGE: 0.03269690912867746\n",
      "running -- with epsilon decay:  0.1  iterations:  -0.04\n"
     ]
    },
    {
     "name": "stderr",
     "output_type": "stream",
     "text": [
      "                                                                                                                                                                           \r"
     ]
    },
    {
     "name": "stdout",
     "output_type": "stream",
     "text": [
      "runtime = 4.84 seconds\n",
      "V AVERAGE: 0.06264012146827205\n",
      "running -- with epsilon decay:  0.1  iterations:  -0.04\n"
     ]
    },
    {
     "name": "stderr",
     "output_type": "stream",
     "text": [
      "                                                                                                                                                                           \r"
     ]
    },
    {
     "name": "stdout",
     "output_type": "stream",
     "text": [
      "runtime = 9.77 seconds\n",
      "V AVERAGE: 0.0639580298481017\n",
      "running -- with epsilon decay:  0.1  iterations:  -0.5\n"
     ]
    },
    {
     "name": "stderr",
     "output_type": "stream",
     "text": [
      "                                                                                                                                                                           \r"
     ]
    },
    {
     "name": "stdout",
     "output_type": "stream",
     "text": [
      "runtime = 0.10 seconds\n",
      "V AVERAGE: 0.019983669874620014\n",
      "running -- with epsilon decay:  0.1  iterations:  -0.5\n"
     ]
    },
    {
     "name": "stderr",
     "output_type": "stream",
     "text": [
      "                                                                                                                                                                           \r"
     ]
    },
    {
     "name": "stdout",
     "output_type": "stream",
     "text": [
      "runtime = 0.97 seconds\n",
      "V AVERAGE: 0.05093436257828551\n",
      "running -- with epsilon decay:  0.1  iterations:  -0.5\n"
     ]
    },
    {
     "name": "stderr",
     "output_type": "stream",
     "text": [
      "                                                                                                                                                                           \r"
     ]
    },
    {
     "name": "stdout",
     "output_type": "stream",
     "text": [
      "runtime = 4.87 seconds\n",
      "V AVERAGE: 0.06973070479185049\n",
      "running -- with epsilon decay:  0.1  iterations:  -0.5\n"
     ]
    },
    {
     "name": "stderr",
     "output_type": "stream",
     "text": [
      "                                                                                                                                                                           \r"
     ]
    },
    {
     "name": "stdout",
     "output_type": "stream",
     "text": [
      "runtime = 9.78 seconds\n",
      "V AVERAGE: 0.07349512945886205\n",
      "running -- with epsilon decay:  0.1  iterations:  -1.0\n"
     ]
    },
    {
     "name": "stderr",
     "output_type": "stream",
     "text": [
      "                                                                                                                                                                           \r"
     ]
    },
    {
     "name": "stdout",
     "output_type": "stream",
     "text": [
      "runtime = 0.10 seconds\n",
      "V AVERAGE: 0.03147093747331405\n",
      "running -- with epsilon decay:  0.1  iterations:  -1.0\n"
     ]
    },
    {
     "name": "stderr",
     "output_type": "stream",
     "text": [
      "                                                                                                                                                                           \r"
     ]
    },
    {
     "name": "stdout",
     "output_type": "stream",
     "text": [
      "runtime = 0.96 seconds\n",
      "V AVERAGE: 0.05148461814666596\n",
      "running -- with epsilon decay:  0.1  iterations:  -1.0\n"
     ]
    },
    {
     "name": "stderr",
     "output_type": "stream",
     "text": [
      "                                                                                                                                                                           \r"
     ]
    },
    {
     "name": "stdout",
     "output_type": "stream",
     "text": [
      "runtime = 4.81 seconds\n",
      "V AVERAGE: 0.08568152734627453\n",
      "running -- with epsilon decay:  0.1  iterations:  -1.0\n"
     ]
    },
    {
     "name": "stderr",
     "output_type": "stream",
     "text": [
      "                                                                                                                                                                           \r"
     ]
    },
    {
     "name": "stdout",
     "output_type": "stream",
     "text": [
      "runtime = 9.68 seconds\n",
      "V AVERAGE: 0.09007545143337252\n",
      "running -- with epsilon decay:  0.01  iterations:  1.0\n"
     ]
    },
    {
     "name": "stderr",
     "output_type": "stream",
     "text": [
      "                                                                                                                                                                           \r"
     ]
    },
    {
     "name": "stdout",
     "output_type": "stream",
     "text": [
      "runtime = 0.10 seconds\n",
      "V AVERAGE: 0.023362017960492094\n",
      "running -- with epsilon decay:  0.01  iterations:  1.0\n"
     ]
    },
    {
     "name": "stderr",
     "output_type": "stream",
     "text": [
      "                                                                                                                                                                           \r"
     ]
    },
    {
     "name": "stdout",
     "output_type": "stream",
     "text": [
      "runtime = 0.96 seconds\n",
      "V AVERAGE: 0.04050973353675131\n",
      "running -- with epsilon decay:  0.01  iterations:  1.0\n"
     ]
    },
    {
     "name": "stderr",
     "output_type": "stream",
     "text": [
      "                                                                                                                                                                           \r"
     ]
    },
    {
     "name": "stdout",
     "output_type": "stream",
     "text": [
      "runtime = 4.91 seconds\n",
      "V AVERAGE: 0.02260095207626465\n",
      "running -- with epsilon decay:  0.01  iterations:  1.0\n"
     ]
    },
    {
     "name": "stderr",
     "output_type": "stream",
     "text": [
      "                                                                                                                                                                           \r"
     ]
    },
    {
     "name": "stdout",
     "output_type": "stream",
     "text": [
      "runtime = 9.93 seconds\n",
      "V AVERAGE: 0.03349570556397398\n",
      "running -- with epsilon decay:  0.01  iterations:  0.5\n"
     ]
    },
    {
     "name": "stderr",
     "output_type": "stream",
     "text": [
      "                                                                                                                                                                           \r"
     ]
    },
    {
     "name": "stdout",
     "output_type": "stream",
     "text": [
      "runtime = 0.10 seconds\n",
      "V AVERAGE: 0.033473084848277185\n",
      "running -- with epsilon decay:  0.01  iterations:  0.5\n"
     ]
    },
    {
     "name": "stderr",
     "output_type": "stream",
     "text": [
      "                                                                                                                                                                           \r"
     ]
    },
    {
     "name": "stdout",
     "output_type": "stream",
     "text": [
      "runtime = 0.97 seconds\n",
      "V AVERAGE: 0.049250462857753516\n",
      "running -- with epsilon decay:  0.01  iterations:  0.5\n"
     ]
    },
    {
     "name": "stderr",
     "output_type": "stream",
     "text": [
      "                                                                                                                                                                           \r"
     ]
    },
    {
     "name": "stdout",
     "output_type": "stream",
     "text": [
      "runtime = 4.97 seconds\n",
      "V AVERAGE: 0.037273850682554684\n",
      "running -- with epsilon decay:  0.01  iterations:  0.5\n"
     ]
    },
    {
     "name": "stderr",
     "output_type": "stream",
     "text": [
      "                                                                                                                                                                           \r"
     ]
    },
    {
     "name": "stdout",
     "output_type": "stream",
     "text": [
      "runtime = 10.00 seconds\n",
      "V AVERAGE: 0.04111760191304812\n",
      "running -- with epsilon decay:  0.01  iterations:  0.1\n"
     ]
    },
    {
     "name": "stderr",
     "output_type": "stream",
     "text": [
      "                                                                                                                                                                           \r"
     ]
    },
    {
     "name": "stdout",
     "output_type": "stream",
     "text": [
      "runtime = 0.10 seconds\n",
      "V AVERAGE: 0.029493547824673123\n",
      "running -- with epsilon decay:  0.01  iterations:  0.1\n"
     ]
    },
    {
     "name": "stderr",
     "output_type": "stream",
     "text": [
      "                                                                                                                                                                           \r"
     ]
    },
    {
     "name": "stdout",
     "output_type": "stream",
     "text": [
      "runtime = 0.98 seconds\n",
      "V AVERAGE: 0.046766503213846046\n",
      "running -- with epsilon decay:  0.01  iterations:  0.1\n"
     ]
    },
    {
     "name": "stderr",
     "output_type": "stream",
     "text": [
      "                                                                                                                                                                           \r"
     ]
    },
    {
     "name": "stdout",
     "output_type": "stream",
     "text": [
      "runtime = 4.96 seconds\n",
      "V AVERAGE: 0.05102055611055245\n",
      "running -- with epsilon decay:  0.01  iterations:  0.1\n"
     ]
    },
    {
     "name": "stderr",
     "output_type": "stream",
     "text": [
      "                                                                                                                                                                           \r"
     ]
    },
    {
     "name": "stdout",
     "output_type": "stream",
     "text": [
      "runtime = 9.91 seconds\n",
      "V AVERAGE: 0.0533223310148904\n",
      "running -- with epsilon decay:  0.01  iterations:  0.04\n"
     ]
    },
    {
     "name": "stderr",
     "output_type": "stream",
     "text": [
      "                                                                                                                                                                           \r"
     ]
    },
    {
     "name": "stdout",
     "output_type": "stream",
     "text": [
      "runtime = 0.10 seconds\n",
      "V AVERAGE: 0.024350378888705455\n",
      "running -- with epsilon decay:  0.01  iterations:  0.04\n"
     ]
    },
    {
     "name": "stderr",
     "output_type": "stream",
     "text": [
      "                                                                                                                                                                           \r"
     ]
    },
    {
     "name": "stdout",
     "output_type": "stream",
     "text": [
      "runtime = 0.97 seconds\n",
      "V AVERAGE: 0.039232211124548166\n",
      "running -- with epsilon decay:  0.01  iterations:  0.04\n"
     ]
    },
    {
     "name": "stderr",
     "output_type": "stream",
     "text": [
      "                                                                                                                                                                           \r"
     ]
    },
    {
     "name": "stdout",
     "output_type": "stream",
     "text": [
      "runtime = 4.97 seconds\n",
      "V AVERAGE: 0.04172285813573336\n",
      "running -- with epsilon decay:  0.01  iterations:  0.04\n"
     ]
    },
    {
     "name": "stderr",
     "output_type": "stream",
     "text": [
      "                                                                                                                                                                           \r"
     ]
    },
    {
     "name": "stdout",
     "output_type": "stream",
     "text": [
      "runtime = 9.97 seconds\n",
      "V AVERAGE: 0.05688857205496268\n",
      "running -- with epsilon decay:  0.01  iterations:  0.01\n"
     ]
    },
    {
     "name": "stderr",
     "output_type": "stream",
     "text": [
      "                                                                                                                                                                           \r"
     ]
    },
    {
     "name": "stdout",
     "output_type": "stream",
     "text": [
      "runtime = 0.10 seconds\n",
      "V AVERAGE: 0.03169292656195632\n",
      "running -- with epsilon decay:  0.01  iterations:  0.01\n"
     ]
    },
    {
     "name": "stderr",
     "output_type": "stream",
     "text": [
      "                                                                                                                                                                           \r"
     ]
    },
    {
     "name": "stdout",
     "output_type": "stream",
     "text": [
      "runtime = 0.98 seconds\n",
      "V AVERAGE: 0.051802805316453905\n",
      "running -- with epsilon decay:  0.01  iterations:  0.01\n"
     ]
    },
    {
     "name": "stderr",
     "output_type": "stream",
     "text": [
      "                                                                                                                                                                           \r"
     ]
    },
    {
     "name": "stdout",
     "output_type": "stream",
     "text": [
      "runtime = 4.88 seconds\n",
      "V AVERAGE: 0.053394356016146054\n",
      "running -- with epsilon decay:  0.01  iterations:  0.01\n"
     ]
    },
    {
     "name": "stderr",
     "output_type": "stream",
     "text": [
      "                                                                                                                                                                           \r"
     ]
    },
    {
     "name": "stdout",
     "output_type": "stream",
     "text": [
      "runtime = 9.87 seconds\n",
      "V AVERAGE: 0.05828820651438376\n",
      "running -- with epsilon decay:  0.01  iterations:  -0.04\n"
     ]
    },
    {
     "name": "stderr",
     "output_type": "stream",
     "text": [
      "                                                                                                                                                                           \r"
     ]
    },
    {
     "name": "stdout",
     "output_type": "stream",
     "text": [
      "runtime = 0.10 seconds\n",
      "V AVERAGE: 0.020308200967408922\n",
      "running -- with epsilon decay:  0.01  iterations:  -0.04\n"
     ]
    },
    {
     "name": "stderr",
     "output_type": "stream",
     "text": [
      "                                                                                                                                                                           \r"
     ]
    },
    {
     "name": "stdout",
     "output_type": "stream",
     "text": [
      "runtime = 0.99 seconds\n",
      "V AVERAGE: 0.04708630142487111\n",
      "running -- with epsilon decay:  0.01  iterations:  -0.04\n"
     ]
    },
    {
     "name": "stderr",
     "output_type": "stream",
     "text": [
      "                                                                                                                                                                           \r"
     ]
    },
    {
     "name": "stdout",
     "output_type": "stream",
     "text": [
      "runtime = 4.94 seconds\n",
      "V AVERAGE: 0.06195361759248753\n",
      "running -- with epsilon decay:  0.01  iterations:  -0.04\n"
     ]
    },
    {
     "name": "stderr",
     "output_type": "stream",
     "text": [
      "                                                                                                                                                                           \r"
     ]
    },
    {
     "name": "stdout",
     "output_type": "stream",
     "text": [
      "runtime = 9.82 seconds\n",
      "V AVERAGE: 0.05820010098419305\n",
      "running -- with epsilon decay:  0.01  iterations:  -0.5\n"
     ]
    },
    {
     "name": "stderr",
     "output_type": "stream",
     "text": [
      "                                                                                                                                                                           \r"
     ]
    },
    {
     "name": "stdout",
     "output_type": "stream",
     "text": [
      "runtime = 0.10 seconds\n",
      "V AVERAGE: 0.01360980789315065\n",
      "running -- with epsilon decay:  0.01  iterations:  -0.5\n"
     ]
    },
    {
     "name": "stderr",
     "output_type": "stream",
     "text": [
      "                                                                                                                                                                           \r"
     ]
    },
    {
     "name": "stdout",
     "output_type": "stream",
     "text": [
      "runtime = 0.96 seconds\n",
      "V AVERAGE: 0.05010826662596373\n",
      "running -- with epsilon decay:  0.01  iterations:  -0.5\n"
     ]
    },
    {
     "name": "stderr",
     "output_type": "stream",
     "text": [
      "                                                                                                                                                                           \r"
     ]
    },
    {
     "name": "stdout",
     "output_type": "stream",
     "text": [
      "runtime = 4.85 seconds\n",
      "V AVERAGE: 0.07742624396196646\n",
      "running -- with epsilon decay:  0.01  iterations:  -0.5\n"
     ]
    },
    {
     "name": "stderr",
     "output_type": "stream",
     "text": [
      "                                                                                                                                                                           \r"
     ]
    },
    {
     "name": "stdout",
     "output_type": "stream",
     "text": [
      "runtime = 9.88 seconds\n",
      "V AVERAGE: 0.07534614569358762\n",
      "running -- with epsilon decay:  0.01  iterations:  -1.0\n"
     ]
    },
    {
     "name": "stderr",
     "output_type": "stream",
     "text": [
      "                                                                                                                                                                           \r"
     ]
    },
    {
     "name": "stdout",
     "output_type": "stream",
     "text": [
      "runtime = 0.10 seconds\n",
      "V AVERAGE: 0.0364368942537431\n",
      "running -- with epsilon decay:  0.01  iterations:  -1.0\n"
     ]
    },
    {
     "name": "stderr",
     "output_type": "stream",
     "text": [
      "                                                                                                                                                                           \r"
     ]
    },
    {
     "name": "stdout",
     "output_type": "stream",
     "text": [
      "runtime = 0.97 seconds\n",
      "V AVERAGE: 0.06801901349437449\n",
      "running -- with epsilon decay:  0.01  iterations:  -1.0\n"
     ]
    },
    {
     "name": "stderr",
     "output_type": "stream",
     "text": [
      "                                                                                                                                                                           \r"
     ]
    },
    {
     "name": "stdout",
     "output_type": "stream",
     "text": [
      "runtime = 4.89 seconds\n",
      "V AVERAGE: 0.08589737883428732\n",
      "running -- with epsilon decay:  0.01  iterations:  -1.0\n"
     ]
    },
    {
     "name": "stderr",
     "output_type": "stream",
     "text": [
      "                                                                                                                                                                           \r"
     ]
    },
    {
     "name": "stdout",
     "output_type": "stream",
     "text": [
      "runtime = 9.76 seconds\n",
      "V AVERAGE: 0.09110502537508704\n",
      "Best params: Discount Factor:  0.3  Convergence Criterion:  -1.0  Iterations:  100000\n"
     ]
    }
   ],
   "source": [
    "\"\"\"\n",
    "Running Grid Search for Q Learning to find optimal parameters\n",
    "\"\"\"\n",
    "\n",
    "iters = [1000, 10000, 50000, 100000]\n",
    "gammas = [1.0, 0.5, 0.1, 0.04, 0.01, -0.04, -0.5, -1.0]\n",
    "epsilons = [0.9, 0.7, 0.5, 0.3, 0.1, 0.01]\n",
    "black_jack_q = Blackjack()\n",
    "\n",
    "GridSearch.Q_learning_grid_search(black_jack_q.env, epsilons, iters, gammas, black_jack_q.n_actions, black_jack_q.n_states, black_jack_q.convert_state_obs)"
   ]
  },
  {
   "cell_type": "code",
   "execution_count": 146,
   "id": "88240d83",
   "metadata": {},
   "outputs": [],
   "source": [
    "class BlackjackAgentQLearning:\n",
    "    def __init__(\n",
    "        self,\n",
    "        learning_rate: float,\n",
    "        initial_epsilon: float,\n",
    "        epsilon_decay: float,\n",
    "        final_epsilon: float,\n",
    "        discount_factor: float = 0.95,\n",
    "    ):\n",
    "        \"\"\"Initialize a Reinforcement Learning agent with an empty dictionary\n",
    "        of state-action values (q_values), a learning rate and an epsilon.\n",
    "\n",
    "        Args:\n",
    "            learning_rate: The learning rate\n",
    "            initial_epsilon: The initial epsilon value\n",
    "            epsilon_decay: The decay for epsilon\n",
    "            final_epsilon: The final epsilon value\n",
    "            discount_factor: The discount factor for computing the Q-value\n",
    "        \"\"\"\n",
    "        self.q_values = defaultdict(lambda: np.zeros(env.action_space.n))\n",
    "\n",
    "        self.lr = learning_rate\n",
    "        self.discount_factor = discount_factor\n",
    "\n",
    "        self.epsilon = initial_epsilon\n",
    "        self.epsilon_decay = epsilon_decay\n",
    "        self.final_epsilon = final_epsilon\n",
    "\n",
    "        self.training_error = []\n",
    "\n",
    "    def get_action(self, obs: tuple[int, int, bool]) -> int:\n",
    "        \"\"\"\n",
    "        Returns the best action with probability (1 - epsilon)\n",
    "        otherwise a random action with probability epsilon to ensure exploration.\n",
    "        \"\"\"\n",
    "        # with probability epsilon return a random action to explore the environment\n",
    "        if np.random.random() < self.epsilon:\n",
    "            return env.action_space.sample()\n",
    "\n",
    "        # with probability (1 - epsilon) act greedily (exploit)\n",
    "        else:\n",
    "            return int(np.argmax(self.q_values[obs]))\n",
    "\n",
    "    def update(\n",
    "        self,\n",
    "        obs: tuple[int, int, bool],\n",
    "        action: int,\n",
    "        reward: float,\n",
    "        terminated: bool,\n",
    "        next_obs: tuple[int, int, bool],\n",
    "    ):\n",
    "        \"\"\"Updates the Q-value of an action.\"\"\"\n",
    "        future_q_value = (not terminated) * np.max(self.q_values[next_obs])\n",
    "        temporal_difference = (\n",
    "            reward + self.discount_factor * future_q_value - self.q_values[obs][action]\n",
    "        )\n",
    "\n",
    "        self.q_values[obs][action] = (\n",
    "            self.q_values[obs][action] + self.lr * temporal_difference\n",
    "        )\n",
    "        self.training_error.append(temporal_difference)\n",
    "\n",
    "    def decay_epsilon(self):\n",
    "        self.epsilon = max(self.final_epsilon, self.epsilon - epsilon_decay)"
   ]
  },
  {
   "cell_type": "code",
   "execution_count": 199,
   "id": "3bce2acd",
   "metadata": {},
   "outputs": [
    {
     "name": "stderr",
     "output_type": "stream",
     "text": [
      "100%|████████████████████████████████████████████████████████████████████████████████████████████████████████████████████████████████| 1000/1000 [00:00<00:00, 5945.80it/s]\n"
     ]
    }
   ],
   "source": [
    "\"\"\"\n",
    "Setting up the hyperparameters\n",
    "\"\"\"\n",
    "\n",
    "learning_rate = 0.000001\n",
    "n_episodes = 1000\n",
    "start_epsilon = 1.0\n",
    "epsilon_decay = 0.9\n",
    "final_epsilon = 0.1\n",
    "discount_factor = 0.6\n",
    "\n",
    "agent = BlackjackAgentQLearning(\n",
    "    learning_rate=learning_rate,\n",
    "    initial_epsilon=start_epsilon,\n",
    "    epsilon_decay=epsilon_decay,\n",
    "    final_epsilon=final_epsilon,\n",
    "    discount_factor=discount_factor\n",
    ")\n",
    "\n",
    "\"\"\"\n",
    "Performing the Q Learning\n",
    "\"\"\"\n",
    "\n",
    "rewards = np.zeros(n_episodes)\n",
    "# seed_everything(seeds[0])\n",
    "# env = gym.make('Blackjack-v1', render_mode=None, natural=True)\n",
    "env = gym.wrappers.RecordEpisodeStatistics(env, deque_size=n_episodes)\n",
    "for episode in tqdm(range(n_episodes)):\n",
    "    obs, info = env.reset()\n",
    "    done = False\n",
    "    total_rewards = 0\n",
    "    # play one episode\n",
    "    while not done:\n",
    "        action = agent.get_action(obs)\n",
    "        next_obs, reward, terminated, truncated, info = env.step(action)\n",
    "\n",
    "        # update the agent\n",
    "        agent.update(obs, action, reward, terminated, next_obs)\n",
    "        total_rewards += reward\n",
    "        # update if the environment is done and the current obs\n",
    "        done = terminated or truncated\n",
    "        obs = next_obs\n",
    "\n",
    "    rewards[episode] = total_rewards\n",
    "    agent.decay_epsilon()"
   ]
  },
  {
   "cell_type": "code",
   "execution_count": 173,
   "id": "3ffa4ba0",
   "metadata": {},
   "outputs": [
    {
     "data": {
      "image/png": "[encoded data removed]",
      "text/plain": [
       "<Figure size 640x480 with 1 Axes>"
      ]
     },
     "metadata": {},
     "output_type": "display_data"
    }
   ],
   "source": [
    "\"\"\"\n",
    "Plotting the Cumulative Rewards vs Iterations\n",
    "\"\"\"\n",
    "n_episodes_list = np.linspace(0, 50, 50)\n",
    "\n",
    "# Plotting the validation scores\n",
    "plt.plot(\n",
    "    n_episodes_list,\n",
    "    rewards[:50],\n",
    "    color=\"purple\",\n",
    "    linewidth=3,\n",
    "    marker='o',\n",
    "    label = \"Q-Learning\"\n",
    ")\n",
    "\n",
    "\n",
    "# Naming X-Axis\n",
    "plt.xlabel('Number of Iterations')\n",
    "# Naming Y-Axis\n",
    "plt.ylabel('Cumulative Rewards')\n",
    "# Naming Title\n",
    "plt.title(\"Cumulative Rewards based on Number of Iterations (BlackJack)\")\n",
    "\n",
    "plt.legend()\n",
    "\n",
    "plt.show()"
   ]
  },
  {
   "cell_type": "code",
   "execution_count": 200,
   "id": "4f8460d9",
   "metadata": {},
   "outputs": [
    {
     "data": {
      "image/png": "[encoded data removed]",
      "text/plain": [
       "<Figure size 1200x500 with 3 Axes>"
      ]
     },
     "metadata": {},
     "output_type": "display_data"
    }
   ],
   "source": [
    "rolling_length = 500\n",
    "fig, axs = plt.subplots(ncols=3, figsize=(12, 5))\n",
    "axs[0].set_title(\"Episode rewards\")\n",
    "# compute and assign a rolling average of the data to provide a smoother graph\n",
    "reward_moving_average = (\n",
    "    np.convolve(\n",
    "        np.array(env.return_queue).flatten(), np.ones(rolling_length), mode=\"valid\"\n",
    "    )\n",
    "    / rolling_length\n",
    ")\n",
    "axs[0].plot(range(len(reward_moving_average)), reward_moving_average)\n",
    "axs[1].set_title(\"Episode lengths\")\n",
    "length_moving_average = (\n",
    "    np.convolve(\n",
    "        np.array(env.length_queue).flatten(), np.ones(rolling_length), mode=\"same\"\n",
    "    )\n",
    "    / rolling_length\n",
    ")\n",
    "axs[1].plot(range(len(length_moving_average)), length_moving_average)\n",
    "axs[2].set_title(\"Training Error\")\n",
    "training_error_moving_average = (\n",
    "    np.convolve(np.array(agent.training_error), np.ones(rolling_length), mode=\"same\")\n",
    "    / rolling_length\n",
    ")\n",
    "axs[2].plot(range(len(training_error_moving_average)), training_error_moving_average)\n",
    "plt.tight_layout()\n",
    "plt.show()"
   ]
  },
  {
   "cell_type": "code",
   "execution_count": 175,
   "id": "006c2993",
   "metadata": {},
   "outputs": [
    {
     "data": {
      "image/png": "[encoded data removed]",
      "text/plain": [
       "<Figure size 1200x480 with 2 Axes>"
      ]
     },
     "metadata": {},
     "output_type": "display_data"
    }
   ],
   "source": [
    "def create_grids(agent, usable_ace=False):\n",
    "    \"\"\"Create value and policy grid given an agent.\"\"\"\n",
    "    # convert our state-action values to state values\n",
    "    # and build a policy dictionary that maps observations to actions\n",
    "    state_value = defaultdict(float)\n",
    "    policy = defaultdict(int)\n",
    "    for obs, action_values in agent.q_values.items():\n",
    "        state_value[obs] = float(np.max(action_values))\n",
    "        policy[obs] = int(np.argmax(action_values))\n",
    "\n",
    "    player_count, dealer_count = np.meshgrid(\n",
    "        # players count, dealers face-up card\n",
    "        np.arange(12, 22),\n",
    "        np.arange(1, 11),\n",
    "    )\n",
    "    # create the value grid for plotting\n",
    "    value = np.apply_along_axis(\n",
    "        lambda obs: state_value[(obs[0], obs[1], usable_ace)],\n",
    "        axis=2,\n",
    "        arr=np.dstack([player_count, dealer_count]),\n",
    "    )\n",
    "    value_grid = player_count, dealer_count, value\n",
    "\n",
    "    # create the policy grid for plotting\n",
    "    policy_grid = np.apply_along_axis(\n",
    "        lambda obs: policy[(obs[0], obs[1], usable_ace)],\n",
    "        axis=2,\n",
    "        arr=np.dstack([player_count, dealer_count]),\n",
    "    )\n",
    "    return value_grid, policy_grid\n",
    "\n",
    "\n",
    "def create_plots(value_grid, policy_grid, title: str):\n",
    "    \"\"\"Creates a plot using a value and policy grid.\"\"\"\n",
    "    # create a new figure with 2 subplots (left: state values, right: policy)\n",
    "    player_count, dealer_count, value = value_grid\n",
    "    fig = plt.figure(figsize=plt.figaspect(0.4))\n",
    "    fig.suptitle(title, fontsize=16)\n",
    "\n",
    "    # plot the state values\n",
    "    ax1 = fig.add_subplot(1, 2, 1, projection=\"3d\")\n",
    "    ax1.plot_surface(\n",
    "        player_count,\n",
    "        dealer_count,\n",
    "        value,\n",
    "        rstride=1,\n",
    "        cstride=1,\n",
    "        cmap=\"viridis\",\n",
    "        edgecolor=\"none\",\n",
    "    )\n",
    "    plt.xticks(range(12, 22), range(12, 22))\n",
    "    plt.yticks(range(1, 11), [\"A\"] + list(range(2, 11)))\n",
    "    ax1.set_title(f\"State values: {title}\")\n",
    "    ax1.set_xlabel(\"Player sum\")\n",
    "    ax1.set_ylabel(\"Dealer showing\")\n",
    "    ax1.zaxis.set_rotate_label(False)\n",
    "    ax1.set_zlabel(\"Value\", fontsize=14, rotation=90)\n",
    "    ax1.view_init(20, 220)\n",
    "\n",
    "    # plot the policy\n",
    "    fig.add_subplot(1, 2, 2)\n",
    "    ax2 = sns.heatmap(policy_grid, linewidth=0, annot=True, cmap=\"Accent_r\", cbar=False)\n",
    "    ax2.set_title(f\"Policy: {title}\")\n",
    "    ax2.set_xlabel(\"Player sum\")\n",
    "    ax2.set_ylabel(\"Dealer showing\")\n",
    "    ax2.set_xticklabels(range(12, 22))\n",
    "    ax2.set_yticklabels([\"A\"] + list(range(2, 11)), fontsize=12)\n",
    "\n",
    "    # add a legend\n",
    "    legend_elements = [\n",
    "        Patch(facecolor=\"lightgreen\", edgecolor=\"black\", label=\"Hit\"),\n",
    "        Patch(facecolor=\"grey\", edgecolor=\"black\", label=\"Stick\"),\n",
    "    ]\n",
    "    ax2.legend(handles=legend_elements, bbox_to_anchor=(1.3, 1))\n",
    "    return fig\n",
    "\n",
    "\n",
    "# state values & policy with usable ace (ace counts as 11)\n",
    "value_grid, policy_grid = create_grids(agent, usable_ace=True)\n",
    "fig1 = create_plots(value_grid, policy_grid, title=\"With usable ace\")\n",
    "plt.show()"
   ]
  },
  {
   "cell_type": "code",
   "execution_count": null,
   "id": "3187bda0",
   "metadata": {},
   "outputs": [],
   "source": [
    "test_scores_q = TestEnv.test_env(env=black_jack_p.wrapped_env, render=False, pi=pi_pi, user_input=False,\n",
    "                                   convert_state_obs=black_jack_p.convert_state_obs)\n",
    "print(np.sum(test_scores_q))"
   ]
  },
  {
   "cell_type": "code",
   "execution_count": null,
   "id": "85853a06",
   "metadata": {},
   "outputs": [],
   "source": []
  },
  {
   "cell_type": "code",
   "execution_count": 82,
   "id": "4ffa070e",
   "metadata": {},
   "outputs": [],
   "source": [
    "def cumulative_rewards_value_iteration(P, gamma=1.0, n_iters=1000, theta=1e-10):\n",
    "        \"\"\"\n",
    "        PARAMETERS:\n",
    "\n",
    "        gamma {float}:\n",
    "            Discount factor\n",
    "\n",
    "        n_iters {int}:\n",
    "            Number of iterations\n",
    "\n",
    "        theta {float}:\n",
    "            Convergence criterion for value iteration.\n",
    "            State values are considered to be converged when the maximum difference between new and previous state values is less than theta.\n",
    "            Stops at n_iters or theta convergence - whichever comes first.\n",
    "\n",
    "\n",
    "        RETURNS:\n",
    "\n",
    "        V {numpy array}, shape(possible states):\n",
    "            State values array\n",
    "\n",
    "        V_track {numpy array}, shape(n_episodes, nS):\n",
    "            Log of V(s) for each iteration\n",
    "\n",
    "        pi {lambda}, input state value, output action value:\n",
    "            Policy mapping states to actions.\n",
    "        \"\"\"\n",
    "        V = np.zeros(len(P), dtype=np.float64)\n",
    "        V_track = np.zeros((n_iters, len(P)), dtype=np.float64)\n",
    "        i = 0\n",
    "        converged = False\n",
    "        rewards = []\n",
    "        while i < n_iters-1 and not converged:\n",
    "            i += 1\n",
    "            Q = np.zeros((len(P), len(P[0])), dtype=np.float64)\n",
    "            total_reward = 0\n",
    "            for s in range(len(P)):\n",
    "                for a in range(len(P[s])):\n",
    "                    for prob, next_state, reward, done in P[s][a]:\n",
    "                        Q[s][a] += prob * (reward + gamma * V[next_state] * (not done))\n",
    "                        total_reward += reward\n",
    "            if np.max(np.abs(V - np.max(Q, axis=1))) < theta:\n",
    "                converged = True\n",
    "            V = np.max(Q, axis=1)\n",
    "            V_track[i] = V\n",
    "            rewards.append(total_reward)\n",
    "        if not converged:\n",
    "            warnings.warn(\"Max iterations reached before convergence.  Check theta and n_iters.  \")\n",
    "\n",
    "        pi = {s:a for s, a in enumerate(np.argmax(Q, axis=1))}\n",
    "        return rewards"
   ]
  },
  {
   "cell_type": "code",
   "execution_count": null,
   "id": "968789e1",
   "metadata": {},
   "outputs": [],
   "source": []
  }
 ],
 "metadata": {
  "kernelspec": {
   "display_name": "Python 3 (ipykernel)",
   "language": "python",
   "name": "python3"
  },
  "language_info": {
   "codemirror_mode": {
    "name": "ipython",
    "version": 3
   },
   "file_extension": ".py",
   "mimetype": "text/x-python",
   "name": "python",
   "nbconvert_exporter": "python",
   "pygments_lexer": "ipython3",
   "version": "3.9.0"
  }
 },
 "nbformat": 4,
 "nbformat_minor": 5
}
